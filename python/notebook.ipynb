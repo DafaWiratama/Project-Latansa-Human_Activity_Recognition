{
 "cells": [
  {
   "cell_type": "code",
   "execution_count": 139,
   "metadata": {},
   "outputs": [],
   "source": [
    "import pandas as pd\n",
    "import numpy as np\n",
    "import tensorflow as tf\n",
    "from tensorflow.keras import layers, models, activations, losses, optimizers, metrics\n",
    "from matplotlib import pyplot as plt\n",
    "import plotly.graph_objects as go\n",
    "import plotly.express as px\n",
    "import scipy.stats as stats"
   ]
  },
  {
   "cell_type": "code",
   "execution_count": 145,
   "outputs": [
    {
     "data": {
      "text/plain": "<matplotlib.lines.Line2D at 0x2138df82970>"
     },
     "execution_count": 145,
     "metadata": {},
     "output_type": "execute_result"
    },
    {
     "data": {
      "text/plain": "<Figure size 720x720 with 1 Axes>",
      "image/png": "[encoded data removed]"
     },
     "metadata": {
      "needs_background": "light"
     },
     "output_type": "display_data"
    }
   ],
   "source": [
    "np.random.seed(0)\n",
    "population = np.random.normal(loc=0, scale=1, size=10_000)\n",
    "\n",
    "fig, ax = plt.subplots(1, 1, figsize=(10, 10))\n",
    "plt.hist(population, bins=100, histtype='step')\n",
    "\n",
    "std = 1\n",
    "mean = np.mean(population)\n",
    "\n",
    "plt.axvline(mean, color='k', linestyle='dashed', linewidth=1)\n",
    "plt.axvline(mean + std, color='r', linestyle='dashed')\n",
    "plt.axvline(mean - std, color='r', linestyle='dashed')\n",
    "\n",
    "plt.axvline(mean + std * 2, color='g', linestyle='dashed')\n",
    "plt.axvline(mean - std * 2, color='g', linestyle='dashed')\n",
    "\n",
    "plt.axvline(mean + std * 3, color='b', linestyle='dashed')\n",
    "plt.axvline(mean - std * 3, color='b', linestyle='dashed')"
   ],
   "metadata": {
    "collapsed": false,
    "pycharm": {
     "name": "#%%\n"
    }
   }
  },
  {
   "cell_type": "code",
   "execution_count": 117,
   "metadata": {},
   "outputs": [],
   "source": [
    "train_df = pd.read_csv(\"dataset_train.csv\")\n",
    "val_df = pd.read_csv(\"dataset_val.csv\")"
   ]
  },
  {
   "cell_type": "code",
   "execution_count": 118,
   "metadata": {},
   "outputs": [
    {
     "data": {
      "text/plain": "       accelerometer_x  accelerometer_y  accelerometer_z  gyroscope_x  \\\n0            -0.774121        -9.433371         1.784629     0.012470   \n1            -0.759082        -9.441336         1.766234     0.001488   \n2            -0.726570        -9.446578         1.737082    -0.009375   \n3            -0.691625        -9.455801         1.717754    -0.010948   \n4            -0.647156        -9.461336         1.690160    -0.010913   \n...                ...              ...              ...          ...   \n17115        -0.369055        -9.602301         1.091332     0.004793   \n17116        -0.379781        -9.598336         1.106293     0.004885   \n17117        -0.388988        -9.594660         1.121250     0.006213   \n17118        -0.396617        -9.593133         1.142656     0.007079   \n17119        -0.392949        -9.590074         1.152445     0.005078   \n\n       gyroscope_y  gyroscope_z  state  \n0        -0.020279     0.001386  STAND  \n1        -0.017445    -0.002156  STAND  \n2        -0.016630    -0.005044  STAND  \n3        -0.015826    -0.009066  STAND  \n4        -0.018142    -0.011370  STAND  \n...            ...          ...    ...  \n17115     0.006843     0.002358  STAND  \n17116     0.004316     0.003684  STAND  \n17117     0.007398     0.003539  STAND  \n17118     0.007009     0.003251  STAND  \n17119     0.004108     0.003950  STAND  \n\n[17120 rows x 7 columns]",
      "text/html": "<div>\n<style scoped>\n    .dataframe tbody tr th:only-of-type {\n        vertical-align: middle;\n    }\n\n    .dataframe tbody tr th {\n        vertical-align: top;\n    }\n\n    .dataframe thead th {\n        text-align: right;\n    }\n</style>\n<table border=\"1\" class=\"dataframe\">\n  <thead>\n    <tr style=\"text-align: right;\">\n      <th></th>\n      <th>accelerometer_x</th>\n      <th>accelerometer_y</th>\n      <th>accelerometer_z</th>\n      <th>gyroscope_x</th>\n      <th>gyroscope_y</th>\n      <th>gyroscope_z</th>\n      <th>state</th>\n    </tr>\n  </thead>\n  <tbody>\n    <tr>\n      <th>0</th>\n      <td>-0.774121</td>\n      <td>-9.433371</td>\n      <td>1.784629</td>\n      <td>0.012470</td>\n      <td>-0.020279</td>\n      <td>0.001386</td>\n      <td>STAND</td>\n    </tr>\n    <tr>\n      <th>1</th>\n      <td>-0.759082</td>\n      <td>-9.441336</td>\n      <td>1.766234</td>\n      <td>0.001488</td>\n      <td>-0.017445</td>\n      <td>-0.002156</td>\n      <td>STAND</td>\n    </tr>\n    <tr>\n      <th>2</th>\n      <td>-0.726570</td>\n      <td>-9.446578</td>\n      <td>1.737082</td>\n      <td>-0.009375</td>\n      <td>-0.016630</td>\n      <td>-0.005044</td>\n      <td>STAND</td>\n    </tr>\n    <tr>\n      <th>3</th>\n      <td>-0.691625</td>\n      <td>-9.455801</td>\n      <td>1.717754</td>\n      <td>-0.010948</td>\n      <td>-0.015826</td>\n      <td>-0.009066</td>\n      <td>STAND</td>\n    </tr>\n    <tr>\n      <th>4</th>\n      <td>-0.647156</td>\n      <td>-9.461336</td>\n      <td>1.690160</td>\n      <td>-0.010913</td>\n      <td>-0.018142</td>\n      <td>-0.011370</td>\n      <td>STAND</td>\n    </tr>\n    <tr>\n      <th>...</th>\n      <td>...</td>\n      <td>...</td>\n      <td>...</td>\n      <td>...</td>\n      <td>...</td>\n      <td>...</td>\n      <td>...</td>\n    </tr>\n    <tr>\n      <th>17115</th>\n      <td>-0.369055</td>\n      <td>-9.602301</td>\n      <td>1.091332</td>\n      <td>0.004793</td>\n      <td>0.006843</td>\n      <td>0.002358</td>\n      <td>STAND</td>\n    </tr>\n    <tr>\n      <th>17116</th>\n      <td>-0.379781</td>\n      <td>-9.598336</td>\n      <td>1.106293</td>\n      <td>0.004885</td>\n      <td>0.004316</td>\n      <td>0.003684</td>\n      <td>STAND</td>\n    </tr>\n    <tr>\n      <th>17117</th>\n      <td>-0.388988</td>\n      <td>-9.594660</td>\n      <td>1.121250</td>\n      <td>0.006213</td>\n      <td>0.007398</td>\n      <td>0.003539</td>\n      <td>STAND</td>\n    </tr>\n    <tr>\n      <th>17118</th>\n      <td>-0.396617</td>\n      <td>-9.593133</td>\n      <td>1.142656</td>\n      <td>0.007079</td>\n      <td>0.007009</td>\n      <td>0.003251</td>\n      <td>STAND</td>\n    </tr>\n    <tr>\n      <th>17119</th>\n      <td>-0.392949</td>\n      <td>-9.590074</td>\n      <td>1.152445</td>\n      <td>0.005078</td>\n      <td>0.004108</td>\n      <td>0.003950</td>\n      <td>STAND</td>\n    </tr>\n  </tbody>\n</table>\n<p>17120 rows × 7 columns</p>\n</div>"
     },
     "execution_count": 118,
     "metadata": {},
     "output_type": "execute_result"
    }
   ],
   "source": [
    "train_df"
   ]
  },
  {
   "cell_type": "code",
   "execution_count": 119,
   "metadata": {},
   "outputs": [],
   "source": [
    "def encode(df):\n",
    "    df.state = df.state.astype('category')\n",
    "    df.state = df.state.cat.codes\n",
    "    return df\n",
    "\n",
    "\n",
    "train_df = encode(train_df)\n",
    "val_df = encode(val_df)"
   ]
  },
  {
   "cell_type": "code",
   "execution_count": 120,
   "metadata": {},
   "outputs": [
    {
     "data": {
      "text/plain": "       accelerometer_x  accelerometer_y  accelerometer_z  gyroscope_x  \\\n0            -0.774121        -9.433371         1.784629     0.012470   \n1            -0.759082        -9.441336         1.766234     0.001488   \n2            -0.726570        -9.446578         1.737082    -0.009375   \n3            -0.691625        -9.455801         1.717754    -0.010948   \n4            -0.647156        -9.461336         1.690160    -0.010913   \n...                ...              ...              ...          ...   \n17115        -0.369055        -9.602301         1.091332     0.004793   \n17116        -0.379781        -9.598336         1.106293     0.004885   \n17117        -0.388988        -9.594660         1.121250     0.006213   \n17118        -0.396617        -9.593133         1.142656     0.007079   \n17119        -0.392949        -9.590074         1.152445     0.005078   \n\n       gyroscope_y  gyroscope_z  state  \n0        -0.020279     0.001386      8  \n1        -0.017445    -0.002156      8  \n2        -0.016630    -0.005044      8  \n3        -0.015826    -0.009066      8  \n4        -0.018142    -0.011370      8  \n...            ...          ...    ...  \n17115     0.006843     0.002358      8  \n17116     0.004316     0.003684      8  \n17117     0.007398     0.003539      8  \n17118     0.007009     0.003251      8  \n17119     0.004108     0.003950      8  \n\n[17120 rows x 7 columns]",
      "text/html": "<div>\n<style scoped>\n    .dataframe tbody tr th:only-of-type {\n        vertical-align: middle;\n    }\n\n    .dataframe tbody tr th {\n        vertical-align: top;\n    }\n\n    .dataframe thead th {\n        text-align: right;\n    }\n</style>\n<table border=\"1\" class=\"dataframe\">\n  <thead>\n    <tr style=\"text-align: right;\">\n      <th></th>\n      <th>accelerometer_x</th>\n      <th>accelerometer_y</th>\n      <th>accelerometer_z</th>\n      <th>gyroscope_x</th>\n      <th>gyroscope_y</th>\n      <th>gyroscope_z</th>\n      <th>state</th>\n    </tr>\n  </thead>\n  <tbody>\n    <tr>\n      <th>0</th>\n      <td>-0.774121</td>\n      <td>-9.433371</td>\n      <td>1.784629</td>\n      <td>0.012470</td>\n      <td>-0.020279</td>\n      <td>0.001386</td>\n      <td>8</td>\n    </tr>\n    <tr>\n      <th>1</th>\n      <td>-0.759082</td>\n      <td>-9.441336</td>\n      <td>1.766234</td>\n      <td>0.001488</td>\n      <td>-0.017445</td>\n      <td>-0.002156</td>\n      <td>8</td>\n    </tr>\n    <tr>\n      <th>2</th>\n      <td>-0.726570</td>\n      <td>-9.446578</td>\n      <td>1.737082</td>\n      <td>-0.009375</td>\n      <td>-0.016630</td>\n      <td>-0.005044</td>\n      <td>8</td>\n    </tr>\n    <tr>\n      <th>3</th>\n      <td>-0.691625</td>\n      <td>-9.455801</td>\n      <td>1.717754</td>\n      <td>-0.010948</td>\n      <td>-0.015826</td>\n      <td>-0.009066</td>\n      <td>8</td>\n    </tr>\n    <tr>\n      <th>4</th>\n      <td>-0.647156</td>\n      <td>-9.461336</td>\n      <td>1.690160</td>\n      <td>-0.010913</td>\n      <td>-0.018142</td>\n      <td>-0.011370</td>\n      <td>8</td>\n    </tr>\n    <tr>\n      <th>...</th>\n      <td>...</td>\n      <td>...</td>\n      <td>...</td>\n      <td>...</td>\n      <td>...</td>\n      <td>...</td>\n      <td>...</td>\n    </tr>\n    <tr>\n      <th>17115</th>\n      <td>-0.369055</td>\n      <td>-9.602301</td>\n      <td>1.091332</td>\n      <td>0.004793</td>\n      <td>0.006843</td>\n      <td>0.002358</td>\n      <td>8</td>\n    </tr>\n    <tr>\n      <th>17116</th>\n      <td>-0.379781</td>\n      <td>-9.598336</td>\n      <td>1.106293</td>\n      <td>0.004885</td>\n      <td>0.004316</td>\n      <td>0.003684</td>\n      <td>8</td>\n    </tr>\n    <tr>\n      <th>17117</th>\n      <td>-0.388988</td>\n      <td>-9.594660</td>\n      <td>1.121250</td>\n      <td>0.006213</td>\n      <td>0.007398</td>\n      <td>0.003539</td>\n      <td>8</td>\n    </tr>\n    <tr>\n      <th>17118</th>\n      <td>-0.396617</td>\n      <td>-9.593133</td>\n      <td>1.142656</td>\n      <td>0.007079</td>\n      <td>0.007009</td>\n      <td>0.003251</td>\n      <td>8</td>\n    </tr>\n    <tr>\n      <th>17119</th>\n      <td>-0.392949</td>\n      <td>-9.590074</td>\n      <td>1.152445</td>\n      <td>0.005078</td>\n      <td>0.004108</td>\n      <td>0.003950</td>\n      <td>8</td>\n    </tr>\n  </tbody>\n</table>\n<p>17120 rows × 7 columns</p>\n</div>"
     },
     "execution_count": 120,
     "metadata": {},
     "output_type": "execute_result"
    }
   ],
   "source": [
    "train_df"
   ]
  },
  {
   "cell_type": "code",
   "execution_count": 219,
   "outputs": [
    {
     "data": {
      "text/plain": "<BarContainer object of 16 artists>"
     },
     "execution_count": 219,
     "metadata": {},
     "output_type": "execute_result"
    },
    {
     "data": {
      "text/plain": "<Figure size 432x288 with 1 Axes>",
      "image/png": "[encoded data removed]"
     },
     "metadata": {
      "needs_background": "light"
     },
     "output_type": "display_data"
    }
   ],
   "source": [
    "t = train_df.groupby('state').count()[\"accelerometer_x\"].reset_index()\n",
    "plt.bar(t['state'], t.sort_values(by='accelerometer_x', ascending=False)['accelerometer_x'])"
   ],
   "metadata": {
    "collapsed": false,
    "pycharm": {
     "name": "#%%\n"
    }
   }
  },
  {
   "cell_type": "code",
   "execution_count": 121,
   "metadata": {},
   "outputs": [
    {
     "data": {
      "text/plain": "Text(0.5, 1.0, 'Gyroscope Z')"
     },
     "execution_count": 121,
     "metadata": {},
     "output_type": "execute_result"
    },
    {
     "data": {
      "text/plain": "<Figure size 1728x576 with 6 Axes>",
      "image/png": "[encoded data removed]"
     },
     "metadata": {
      "needs_background": "light"
     },
     "output_type": "display_data"
    }
   ],
   "source": [
    "fig, ax = plt.subplots(2, 3, figsize=(8 * 3, 8))\n",
    "ax[0, 0].hist(train_df.accelerometer_x, bins=64)\n",
    "ax[0, 0].set_title(\"Accelerometer X\")\n",
    "ax[0, 1].hist(train_df.accelerometer_y, bins=64)\n",
    "ax[0, 1].set_title(\"Accelerometer Y\")\n",
    "ax[0, 2].hist(train_df.accelerometer_z, bins=64)\n",
    "ax[0, 2].set_title(\"Accelerometer Z\")\n",
    "\n",
    "ax[1, 0].hist(train_df.gyroscope_x, bins=64)\n",
    "ax[1, 0].set_title(\"Gyroscope X\")\n",
    "ax[1, 1].hist(train_df.gyroscope_y, bins=64)\n",
    "ax[1, 1].set_title(\"Gyroscope Y\")\n",
    "ax[1, 2].hist(train_df.gyroscope_z, bins=64)\n",
    "ax[1, 2].set_title(\"Gyroscope Z\")"
   ]
  },
  {
   "cell_type": "code",
   "execution_count": 122,
   "metadata": {},
   "outputs": [],
   "source": [
    "def normalize(column):\n",
    "    return (column - column.min()) / ((column.max() - column.min()) / 2) - 1\n"
   ]
  },
  {
   "cell_type": "code",
   "execution_count": 123,
   "metadata": {},
   "outputs": [],
   "source": [
    "def normalize_columns(df):\n",
    "    columns = ['accelerometer_x', 'accelerometer_y', 'accelerometer_z', 'gyroscope_x', 'gyroscope_y', 'gyroscope_z']\n",
    "    for column in columns:\n",
    "        df[column] = normalize(df[column])\n",
    "    return df\n",
    "\n",
    "\n",
    "train_df = normalize_columns(train_df)\n",
    "val_df = normalize_columns(val_df)\n"
   ]
  },
  {
   "cell_type": "code",
   "execution_count": 166,
   "metadata": {},
   "outputs": [
    {
     "data": {
      "text/plain": "Text(0.5, 1.0, 'Gyroscope Z')"
     },
     "execution_count": 166,
     "metadata": {},
     "output_type": "execute_result"
    },
    {
     "data": {
      "text/plain": "<Figure size 1728x576 with 6 Axes>",
      "image/png": "[encoded data removed]"
     },
     "metadata": {
      "needs_background": "light"
     },
     "output_type": "display_data"
    }
   ],
   "source": [
    "_, ax = plt.subplots(2, 3, figsize=(8 * 3, 8))\n",
    "\n",
    "ax[0, 0].hist(train_df.accelerometer_x, bins=64)\n",
    "ax[0, 0].set_title(\"Accelerometer X\")\n",
    "ax[0, 1].hist(train_df.accelerometer_y, bins=64)\n",
    "ax[0, 1].set_title(\"Accelerometer Y\")\n",
    "ax[0, 2].hist(train_df.accelerometer_z, bins=64)\n",
    "ax[0, 2].set_title(\"Accelerometer Z\")\n",
    "\n",
    "ax[1, 0].hist(train_df.gyroscope_x, bins=64)\n",
    "ax[1, 0].set_title(\"Gyroscope X\")\n",
    "ax[1, 1].hist(train_df.gyroscope_y, bins=64)\n",
    "ax[1, 1].set_title(\"Gyroscope Y\")\n",
    "ax[1, 2].hist(train_df.gyroscope_z, bins=64)\n",
    "ax[1, 2].set_title(\"Gyroscope Z\")"
   ]
  },
  {
   "cell_type": "code",
   "execution_count": 125,
   "metadata": {},
   "outputs": [],
   "source": [
    "def create_window(df: pd.DataFrame, window=128, step=8):\n",
    "    window_x = []\n",
    "    window_y = []\n",
    "\n",
    "    for i in range(0, len(df) - window, step):\n",
    "        window_x.append(df.iloc[i:i + window])\n",
    "        window_y.append(df.iloc[i + window]['state'])\n",
    "\n",
    "    window_x = np.array(window_x)\n",
    "    window_y = np.array(window_y)\n",
    "\n",
    "    return window_x, window_y\n",
    "\n",
    "\n",
    "train_x, train_y = create_window(train_df)\n",
    "val_x, val_y = create_window(val_df)"
   ]
  },
  {
   "cell_type": "code",
   "execution_count": 126,
   "outputs": [
    {
     "data": {
      "application/vnd.plotly.v1+json": {
       "data": [
        {
         "y": [
          -0.6942434568539296,
          -0.7104054017516669,
          -0.7116730072275291,
          -0.7122443990604848,
          -0.7318563001684185,
          -0.5088703850474985,
          -0.2493153303186545,
          -0.039740695087281286,
          0.058918087213539305,
          0.10245683910259351,
          0.23119164708097273,
          0.3680816191100722,
          0.482505172978134,
          0.590074759766609,
          0.5966334992183373,
          0.675443969049474,
          0.708998334255563,
          0.6964872217129643,
          0.6216186939163137,
          0.59933410093721,
          0.46873791793283726,
          0.3411918078117919,
          0.22245990170998908,
          0.09970604326699228,
          0.08373941123428685,
          0.05693483087940576,
          0.0712094346249823,
          0.1346837172577926,
          0.28307940563487377,
          0.18785859949131822,
          0.09952118413509559,
          0.03539447143296259,
          -0.13913167479893995,
          -0.32420382487019117,
          -0.47179783402138165,
          -0.5747291716843133,
          -0.65600195667968,
          -0.731756665750044,
          -0.8010413363534113,
          -0.7280617445573618,
          -0.5919259302545365,
          -0.536137926231033,
          -0.3824247203501788,
          -0.18599482596278694,
          -0.033052959808199556,
          0.06762920546270479,
          0.09928823658480157,
          0.21851452701343055,
          0.3908177099446648,
          0.6025795302947068,
          0.7322680327208078,
          0.7442635419764732,
          0.7487871613703785,
          0.749441298425922,
          0.7493397638951482,
          0.7481557882843679,
          0.7574032677696954,
          0.6378932376058781,
          0.3861554944833818,
          0.1176750635852366,
          0.0075118856702993675,
          -7.494541693497947E-5,
          -0.030501152464894377,
          -0.1330177547748579,
          -0.18881394485637082,
          -0.21682893418895266,
          -0.23448196893010953,
          -0.22917284307027752,
          -0.13823918266010993,
          -0.0639361906122985,
          -0.08508695848821313,
          -0.07517336189441082,
          0.04674564322916441,
          0.3067213454639832,
          0.3341962792435087,
          0.3080794897382093,
          0.2185051635087214,
          0.10652575848437551,
          0.07187319061018038,
          0.18681941244537503,
          0.32600005407533006,
          0.3441625619047275,
          0.273652144367176,
          0.1208180986889722,
          0.10440793681310168,
          0.18726678612247616,
          0.2813654544115689,
          0.397484718423901,
          0.47879629063172335,
          0.3833702287398917,
          -0.019246705734638825,
          -0.3232713556124521,
          -0.5479991567238871,
          -0.6475291810540478,
          -0.659833704654752,
          -0.6685335842063156,
          -0.6673248697550822,
          -0.6685052569568721,
          -0.6801752987630827,
          -0.6866798009080917,
          -0.4938309268773202,
          -0.252422032781362,
          0.03453596950151394,
          0.3083825670107343,
          0.4568499674987332,
          0.5632861278961296,
          0.5755766405040919,
          0.5987385683319668,
          0.6783768828712156,
          0.6835931648782976,
          0.6256790285279761,
          0.5895461921062228,
          0.5168244549075918,
          0.35807719091369994,
          0.21440148141484472,
          0.10511638593388528,
          0.04890174126300284,
          0.0512083904976437,
          0.010635620615957908,
          0.08347627370141031,
          0.24060930187876872,
          0.35293822790658314,
          0.26850631603591446,
          0.15748588839474875,
          -0.03990756856508848,
          -0.3081322754836533,
          -0.4678698718302543,
          -0.540357670928193
         ],
         "type": "scatter"
        },
        {
         "y": [
          0.2480487249470833,
          0.2710681714040888,
          0.2750877936322338,
          0.2810722253546991,
          0.2775987406131404,
          0.2677298779737429,
          0.2722203383837427,
          0.2506466100792353,
          0.23203769223010973,
          0.2250678573704865,
          0.2010810284337019,
          0.15105976730195536,
          0.12420885744232968,
          0.10745873523368332,
          0.09648907237068394,
          0.07073519731466238,
          0.06292149302735006,
          0.06305119385900126,
          0.09469720540320314,
          0.09445000042641394,
          0.10480360480330897,
          0.14170147984916825,
          0.17080792479509133,
          0.19294797287356258,
          0.19221118447188812,
          0.18349920619822813,
          0.1969519452643267,
          0.16227730818783015,
          0.12889180296959024,
          0.07585748125423386,
          0.08670990676513846,
          0.10328193855390566,
          0.12590470316813662,
          0.14263649548201274,
          0.17837257474474644,
          0.26016886004756357,
          0.29378253395260545,
          0.3454813351693018,
          0.3630434935447888,
          0.3985356845533401,
          0.4126692612754992,
          0.3981158371918856,
          0.37862883977074646,
          0.36299785374395044,
          0.32968660188044274,
          0.2777828217495375,
          0.2389998749801734,
          0.20291688290419652,
          0.16204849070885485,
          0.15217668425076347,
          0.13455943311183538,
          0.10974351447561292,
          0.1092700356489773,
          0.10920438940163057,
          0.11051736588813177,
          0.115497170215626,
          0.12582006913862864,
          0.15484305940156484,
          0.24577547237731978,
          0.2819960508384207,
          0.2674966705365096,
          0.27289640711415375,
          0.3008167326339246,
          0.29381131122041215,
          0.30875569322332574,
          0.3123777453091314,
          0.3014619594821826,
          0.2841941223412787,
          0.2354779763964736,
          0.20365830077152025,
          0.216390158971151,
          0.21499497687818359,
          0.24417244637666724,
          0.2498781976067126,
          0.17462544219772114,
          0.15628499091189196,
          0.16536839664138703,
          0.17094491695934644,
          0.18704047456321882,
          0.21925161440790708,
          0.2360723973604184,
          0.2392501511086993,
          0.189252952890415,
          0.16743408725520426,
          0.212105311108838,
          0.2491042673689765,
          0.2334089357109197,
          0.22570678123309662,
          0.2071684271121843,
          0.1918985394060131,
          0.18094019099344072,
          0.19199321758725318,
          0.21899316167895178,
          0.238718371938625,
          0.24904579724814657,
          0.2537020361854252,
          0.2575319139884813,
          0.26521100299501543,
          0.27802335386850485,
          0.2724431803048959,
          0.2532010746435909,
          0.26081811607712346,
          0.2523220036928824,
          0.20159590565813534,
          0.12950785842395507,
          0.08715646981179259,
          0.08353851360554909,
          0.05555347258234411,
          0.02777833704943178,
          0.035922194696085485,
          0.03698655947884255,
          0.07067027565296713,
          0.06888452370330822,
          0.09134326819895455,
          0.1534320819477386,
          0.19947911508130933,
          0.20711118181396238,
          0.21941811752083762,
          0.20460587386783424,
          0.20253436534662983,
          0.17984072473505575,
          0.12602812526805307,
          0.0877305114253164,
          0.10105689063628343,
          0.11452403955845947,
          0.11128022724631026,
          0.14957104089818185,
          0.22185054549005834
         ],
         "type": "scatter"
        },
        {
         "y": [
          -0.10920003673780543,
          -0.09047196943676772,
          -0.08745439502975261,
          -0.08824064827712597,
          -0.10421814239159166,
          -0.1471903655183121,
          -0.10555094128252818,
          -0.05768396183544422,
          -0.009559715192604124,
          0.02567613876523267,
          0.09506683485913858,
          0.20556149910980825,
          0.3316652761421406,
          0.41034806863495144,
          0.4724369843130929,
          0.5536531247306129,
          0.6810020141694715,
          0.8216699566562786,
          0.9091287861741446,
          0.9057291457244028,
          0.8586494450976092,
          0.7387133967034094,
          0.6007451991176016,
          0.510933027558025,
          0.44699902148081416,
          0.36845479726613917,
          0.2271987422195385,
          1.3513037935730665E-5,
          -0.22903221243155558,
          -0.35482487968998533,
          -0.39984884615856653,
          -0.43929304048336504,
          -0.5164911511952321,
          -0.6376940630598256,
          -0.7389247449865565,
          -0.7956229060685457,
          -0.8044482686918997,
          -0.7356471432549345,
          -0.6154629418869026,
          -0.5095474294979094,
          -0.4591474900602196,
          -0.4145142891681094,
          -0.34055022009296443,
          -0.21208169040546554,
          -0.09996249635907684,
          -0.022028666390572105,
          0.014292801090121543,
          0.04174362467366555,
          0.09914590398940848,
          0.14567602238500177,
          0.17362393670244214,
          0.18938552542279874,
          0.1870343727563153,
          0.1774935258758792,
          0.16914325321784385,
          0.16832689271683487,
          0.1560867200825915,
          0.16894048407509876,
          0.19925707051985397,
          0.22690660108558913,
          0.3333322512795889,
          0.4864161050085003,
          0.6007404190560053,
          0.6830370897219236,
          0.7283339076355875,
          0.7124069965609978,
          0.699357067223529,
          0.6838320603390922,
          0.59587181930404,
          0.512294903670667,
          0.3936880735802193,
          0.22178984835979154,
          0.08797900233091549,
          -0.07265406242753758,
          -0.20248766533977225,
          -0.23340141168105477,
          -0.2639369088944673,
          -0.36170399029353206,
          -0.47774847549979316,
          -0.6187766482442186,
          -0.7088595576768665,
          -0.6869580556394934,
          -0.6614765995975049,
          -0.6051609504595108,
          -0.5216500683449595,
          -0.4711502693182349,
          -0.43872223335179406,
          -0.34124717715234887,
          -0.2203532882437227,
          -0.07395958553789239,
          0.032964791847658326,
          -0.035826238384592535,
          -0.12276657390768375,
          -0.15923610736352767,
          -0.16099214682030538,
          -0.16938842311219082,
          -0.1696920640398496,
          -0.17602342060739629,
          -0.17341632953093633,
          -0.1699255780750435,
          -0.1618581495095136,
          -0.07945419053943092,
          0.017186004715383563,
          0.1663128280321451,
          0.32002728871171837,
          0.44959946862837663,
          0.5182460268496996,
          0.5800187628565183,
          0.6921409667364675,
          0.8161623937638836,
          0.9025605534758412,
          0.9420263026679487,
          0.9047107428997163,
          0.8016052423363589,
          0.6598760414539693,
          0.5141923250425833,
          0.43477297053973785,
          0.37364538678295345,
          0.2670518815155163,
          0.12297439957081102,
          -0.055669384364295915,
          -0.2304801385709535,
          -0.3477671856284861,
          -0.3945722467461108,
          -0.46582723374769863,
          -0.5921544786596502,
          -0.678147367626879,
          -0.7383319861355473
         ],
         "type": "scatter"
        }
       ],
       "layout": {
        "template": {
         "data": {
          "bar": [
           {
            "error_x": {
             "color": "#2a3f5f"
            },
            "error_y": {
             "color": "#2a3f5f"
            },
            "marker": {
             "line": {
              "color": "#E5ECF6",
              "width": 0.5
             },
             "pattern": {
              "fillmode": "overlay",
              "size": 10,
              "solidity": 0.2
             }
            },
            "type": "bar"
           }
          ],
          "barpolar": [
           {
            "marker": {
             "line": {
              "color": "#E5ECF6",
              "width": 0.5
             },
             "pattern": {
              "fillmode": "overlay",
              "size": 10,
              "solidity": 0.2
             }
            },
            "type": "barpolar"
           }
          ],
          "carpet": [
           {
            "aaxis": {
             "endlinecolor": "#2a3f5f",
             "gridcolor": "white",
             "linecolor": "white",
             "minorgridcolor": "white",
             "startlinecolor": "#2a3f5f"
            },
            "baxis": {
             "endlinecolor": "#2a3f5f",
             "gridcolor": "white",
             "linecolor": "white",
             "minorgridcolor": "white",
             "startlinecolor": "#2a3f5f"
            },
            "type": "carpet"
           }
          ],
          "choropleth": [
           {
            "colorbar": {
             "outlinewidth": 0,
             "ticks": ""
            },
            "type": "choropleth"
           }
          ],
          "contour": [
           {
            "colorbar": {
             "outlinewidth": 0,
             "ticks": ""
            },
            "colorscale": [
             [
              0.0,
              "#0d0887"
             ],
             [
              0.1111111111111111,
              "#46039f"
             ],
             [
              0.2222222222222222,
              "#7201a8"
             ],
             [
              0.3333333333333333,
              "#9c179e"
             ],
             [
              0.4444444444444444,
              "#bd3786"
             ],
             [
              0.5555555555555556,
              "#d8576b"
             ],
             [
              0.6666666666666666,
              "#ed7953"
             ],
             [
              0.7777777777777778,
              "#fb9f3a"
             ],
             [
              0.8888888888888888,
              "#fdca26"
             ],
             [
              1.0,
              "#f0f921"
             ]
            ],
            "type": "contour"
           }
          ],
          "contourcarpet": [
           {
            "colorbar": {
             "outlinewidth": 0,
             "ticks": ""
            },
            "type": "contourcarpet"
           }
          ],
          "heatmap": [
           {
            "colorbar": {
             "outlinewidth": 0,
             "ticks": ""
            },
            "colorscale": [
             [
              0.0,
              "#0d0887"
             ],
             [
              0.1111111111111111,
              "#46039f"
             ],
             [
              0.2222222222222222,
              "#7201a8"
             ],
             [
              0.3333333333333333,
              "#9c179e"
             ],
             [
              0.4444444444444444,
              "#bd3786"
             ],
             [
              0.5555555555555556,
              "#d8576b"
             ],
             [
              0.6666666666666666,
              "#ed7953"
             ],
             [
              0.7777777777777778,
              "#fb9f3a"
             ],
             [
              0.8888888888888888,
              "#fdca26"
             ],
             [
              1.0,
              "#f0f921"
             ]
            ],
            "type": "heatmap"
           }
          ],
          "heatmapgl": [
           {
            "colorbar": {
             "outlinewidth": 0,
             "ticks": ""
            },
            "colorscale": [
             [
              0.0,
              "#0d0887"
             ],
             [
              0.1111111111111111,
              "#46039f"
             ],
             [
              0.2222222222222222,
              "#7201a8"
             ],
             [
              0.3333333333333333,
              "#9c179e"
             ],
             [
              0.4444444444444444,
              "#bd3786"
             ],
             [
              0.5555555555555556,
              "#d8576b"
             ],
             [
              0.6666666666666666,
              "#ed7953"
             ],
             [
              0.7777777777777778,
              "#fb9f3a"
             ],
             [
              0.8888888888888888,
              "#fdca26"
             ],
             [
              1.0,
              "#f0f921"
             ]
            ],
            "type": "heatmapgl"
           }
          ],
          "histogram": [
           {
            "marker": {
             "pattern": {
              "fillmode": "overlay",
              "size": 10,
              "solidity": 0.2
             }
            },
            "type": "histogram"
           }
          ],
          "histogram2d": [
           {
            "colorbar": {
             "outlinewidth": 0,
             "ticks": ""
            },
            "colorscale": [
             [
              0.0,
              "#0d0887"
             ],
             [
              0.1111111111111111,
              "#46039f"
             ],
             [
              0.2222222222222222,
              "#7201a8"
             ],
             [
              0.3333333333333333,
              "#9c179e"
             ],
             [
              0.4444444444444444,
              "#bd3786"
             ],
             [
              0.5555555555555556,
              "#d8576b"
             ],
             [
              0.6666666666666666,
              "#ed7953"
             ],
             [
              0.7777777777777778,
              "#fb9f3a"
             ],
             [
              0.8888888888888888,
              "#fdca26"
             ],
             [
              1.0,
              "#f0f921"
             ]
            ],
            "type": "histogram2d"
           }
          ],
          "histogram2dcontour": [
           {
            "colorbar": {
             "outlinewidth": 0,
             "ticks": ""
            },
            "colorscale": [
             [
              0.0,
              "#0d0887"
             ],
             [
              0.1111111111111111,
              "#46039f"
             ],
             [
              0.2222222222222222,
              "#7201a8"
             ],
             [
              0.3333333333333333,
              "#9c179e"
             ],
             [
              0.4444444444444444,
              "#bd3786"
             ],
             [
              0.5555555555555556,
              "#d8576b"
             ],
             [
              0.6666666666666666,
              "#ed7953"
             ],
             [
              0.7777777777777778,
              "#fb9f3a"
             ],
             [
              0.8888888888888888,
              "#fdca26"
             ],
             [
              1.0,
              "#f0f921"
             ]
            ],
            "type": "histogram2dcontour"
           }
          ],
          "mesh3d": [
           {
            "colorbar": {
             "outlinewidth": 0,
             "ticks": ""
            },
            "type": "mesh3d"
           }
          ],
          "parcoords": [
           {
            "line": {
             "colorbar": {
              "outlinewidth": 0,
              "ticks": ""
             }
            },
            "type": "parcoords"
           }
          ],
          "pie": [
           {
            "automargin": true,
            "type": "pie"
           }
          ],
          "scatter": [
           {
            "marker": {
             "colorbar": {
              "outlinewidth": 0,
              "ticks": ""
             }
            },
            "type": "scatter"
           }
          ],
          "scatter3d": [
           {
            "line": {
             "colorbar": {
              "outlinewidth": 0,
              "ticks": ""
             }
            },
            "marker": {
             "colorbar": {
              "outlinewidth": 0,
              "ticks": ""
             }
            },
            "type": "scatter3d"
           }
          ],
          "scattercarpet": [
           {
            "marker": {
             "colorbar": {
              "outlinewidth": 0,
              "ticks": ""
             }
            },
            "type": "scattercarpet"
           }
          ],
          "scattergeo": [
           {
            "marker": {
             "colorbar": {
              "outlinewidth": 0,
              "ticks": ""
             }
            },
            "type": "scattergeo"
           }
          ],
          "scattergl": [
           {
            "marker": {
             "colorbar": {
              "outlinewidth": 0,
              "ticks": ""
             }
            },
            "type": "scattergl"
           }
          ],
          "scattermapbox": [
           {
            "marker": {
             "colorbar": {
              "outlinewidth": 0,
              "ticks": ""
             }
            },
            "type": "scattermapbox"
           }
          ],
          "scatterpolar": [
           {
            "marker": {
             "colorbar": {
              "outlinewidth": 0,
              "ticks": ""
             }
            },
            "type": "scatterpolar"
           }
          ],
          "scatterpolargl": [
           {
            "marker": {
             "colorbar": {
              "outlinewidth": 0,
              "ticks": ""
             }
            },
            "type": "scatterpolargl"
           }
          ],
          "scatterternary": [
           {
            "marker": {
             "colorbar": {
              "outlinewidth": 0,
              "ticks": ""
             }
            },
            "type": "scatterternary"
           }
          ],
          "surface": [
           {
            "colorbar": {
             "outlinewidth": 0,
             "ticks": ""
            },
            "colorscale": [
             [
              0.0,
              "#0d0887"
             ],
             [
              0.1111111111111111,
              "#46039f"
             ],
             [
              0.2222222222222222,
              "#7201a8"
             ],
             [
              0.3333333333333333,
              "#9c179e"
             ],
             [
              0.4444444444444444,
              "#bd3786"
             ],
             [
              0.5555555555555556,
              "#d8576b"
             ],
             [
              0.6666666666666666,
              "#ed7953"
             ],
             [
              0.7777777777777778,
              "#fb9f3a"
             ],
             [
              0.8888888888888888,
              "#fdca26"
             ],
             [
              1.0,
              "#f0f921"
             ]
            ],
            "type": "surface"
           }
          ],
          "table": [
           {
            "cells": {
             "fill": {
              "color": "#EBF0F8"
             },
             "line": {
              "color": "white"
             }
            },
            "header": {
             "fill": {
              "color": "#C8D4E3"
             },
             "line": {
              "color": "white"
             }
            },
            "type": "table"
           }
          ]
         },
         "layout": {
          "annotationdefaults": {
           "arrowcolor": "#2a3f5f",
           "arrowhead": 0,
           "arrowwidth": 1
          },
          "autotypenumbers": "strict",
          "coloraxis": {
           "colorbar": {
            "outlinewidth": 0,
            "ticks": ""
           }
          },
          "colorscale": {
           "diverging": [
            [
             0,
             "#8e0152"
            ],
            [
             0.1,
             "#c51b7d"
            ],
            [
             0.2,
             "#de77ae"
            ],
            [
             0.3,
             "#f1b6da"
            ],
            [
             0.4,
             "#fde0ef"
            ],
            [
             0.5,
             "#f7f7f7"
            ],
            [
             0.6,
             "#e6f5d0"
            ],
            [
             0.7,
             "#b8e186"
            ],
            [
             0.8,
             "#7fbc41"
            ],
            [
             0.9,
             "#4d9221"
            ],
            [
             1,
             "#276419"
            ]
           ],
           "sequential": [
            [
             0.0,
             "#0d0887"
            ],
            [
             0.1111111111111111,
             "#46039f"
            ],
            [
             0.2222222222222222,
             "#7201a8"
            ],
            [
             0.3333333333333333,
             "#9c179e"
            ],
            [
             0.4444444444444444,
             "#bd3786"
            ],
            [
             0.5555555555555556,
             "#d8576b"
            ],
            [
             0.6666666666666666,
             "#ed7953"
            ],
            [
             0.7777777777777778,
             "#fb9f3a"
            ],
            [
             0.8888888888888888,
             "#fdca26"
            ],
            [
             1.0,
             "#f0f921"
            ]
           ],
           "sequentialminus": [
            [
             0.0,
             "#0d0887"
            ],
            [
             0.1111111111111111,
             "#46039f"
            ],
            [
             0.2222222222222222,
             "#7201a8"
            ],
            [
             0.3333333333333333,
             "#9c179e"
            ],
            [
             0.4444444444444444,
             "#bd3786"
            ],
            [
             0.5555555555555556,
             "#d8576b"
            ],
            [
             0.6666666666666666,
             "#ed7953"
            ],
            [
             0.7777777777777778,
             "#fb9f3a"
            ],
            [
             0.8888888888888888,
             "#fdca26"
            ],
            [
             1.0,
             "#f0f921"
            ]
           ]
          },
          "colorway": [
           "#636efa",
           "#EF553B",
           "#00cc96",
           "#ab63fa",
           "#FFA15A",
           "#19d3f3",
           "#FF6692",
           "#B6E880",
           "#FF97FF",
           "#FECB52"
          ],
          "font": {
           "color": "#2a3f5f"
          },
          "geo": {
           "bgcolor": "white",
           "lakecolor": "white",
           "landcolor": "#E5ECF6",
           "showlakes": true,
           "showland": true,
           "subunitcolor": "white"
          },
          "hoverlabel": {
           "align": "left"
          },
          "hovermode": "closest",
          "mapbox": {
           "style": "light"
          },
          "paper_bgcolor": "white",
          "plot_bgcolor": "#E5ECF6",
          "polar": {
           "angularaxis": {
            "gridcolor": "white",
            "linecolor": "white",
            "ticks": ""
           },
           "bgcolor": "#E5ECF6",
           "radialaxis": {
            "gridcolor": "white",
            "linecolor": "white",
            "ticks": ""
           }
          },
          "scene": {
           "xaxis": {
            "backgroundcolor": "#E5ECF6",
            "gridcolor": "white",
            "gridwidth": 2,
            "linecolor": "white",
            "showbackground": true,
            "ticks": "",
            "zerolinecolor": "white"
           },
           "yaxis": {
            "backgroundcolor": "#E5ECF6",
            "gridcolor": "white",
            "gridwidth": 2,
            "linecolor": "white",
            "showbackground": true,
            "ticks": "",
            "zerolinecolor": "white"
           },
           "zaxis": {
            "backgroundcolor": "#E5ECF6",
            "gridcolor": "white",
            "gridwidth": 2,
            "linecolor": "white",
            "showbackground": true,
            "ticks": "",
            "zerolinecolor": "white"
           }
          },
          "shapedefaults": {
           "line": {
            "color": "#2a3f5f"
           }
          },
          "ternary": {
           "aaxis": {
            "gridcolor": "white",
            "linecolor": "white",
            "ticks": ""
           },
           "baxis": {
            "gridcolor": "white",
            "linecolor": "white",
            "ticks": ""
           },
           "bgcolor": "#E5ECF6",
           "caxis": {
            "gridcolor": "white",
            "linecolor": "white",
            "ticks": ""
           }
          },
          "title": {
           "x": 0.05
          },
          "xaxis": {
           "automargin": true,
           "gridcolor": "white",
           "linecolor": "white",
           "ticks": "",
           "title": {
            "standoff": 15
           },
           "zerolinecolor": "white",
           "zerolinewidth": 2
          },
          "yaxis": {
           "automargin": true,
           "gridcolor": "white",
           "linecolor": "white",
           "ticks": "",
           "title": {
            "standoff": 15
           },
           "zerolinecolor": "white",
           "zerolinewidth": 2
          }
         }
        }
       },
       "config": {
        "plotlyServerURL": "https://plot.ly"
       }
      },
      "text/html": "<div>                            <div id=\"e1dcc535-9697-4b5c-a63b-c5f9bf6df6fd\" class=\"plotly-graph-div\" style=\"height:525px; width:100%;\"></div>            <script type=\"text/javascript\">                require([\"plotly\"], function(Plotly) {                    window.PLOTLYENV=window.PLOTLYENV || {};                                    if (document.getElementById(\"e1dcc535-9697-4b5c-a63b-c5f9bf6df6fd\")) {                    Plotly.newPlot(                        \"e1dcc535-9697-4b5c-a63b-c5f9bf6df6fd\",                        [{\"y\":[-0.6942434568539296,-0.7104054017516669,-0.7116730072275291,-0.7122443990604848,-0.7318563001684185,-0.5088703850474985,-0.2493153303186545,-0.039740695087281286,0.058918087213539305,0.10245683910259351,0.23119164708097273,0.3680816191100722,0.482505172978134,0.590074759766609,0.5966334992183373,0.675443969049474,0.708998334255563,0.6964872217129643,0.6216186939163137,0.59933410093721,0.46873791793283726,0.3411918078117919,0.22245990170998908,0.09970604326699228,0.08373941123428685,0.05693483087940576,0.0712094346249823,0.1346837172577926,0.28307940563487377,0.18785859949131822,0.09952118413509559,0.03539447143296259,-0.13913167479893995,-0.32420382487019117,-0.47179783402138165,-0.5747291716843133,-0.65600195667968,-0.731756665750044,-0.8010413363534113,-0.7280617445573618,-0.5919259302545365,-0.536137926231033,-0.3824247203501788,-0.18599482596278694,-0.033052959808199556,0.06762920546270479,0.09928823658480157,0.21851452701343055,0.3908177099446648,0.6025795302947068,0.7322680327208078,0.7442635419764732,0.7487871613703785,0.749441298425922,0.7493397638951482,0.7481557882843679,0.7574032677696954,0.6378932376058781,0.3861554944833818,0.1176750635852366,0.0075118856702993675,-7.494541693497947e-05,-0.030501152464894377,-0.1330177547748579,-0.18881394485637082,-0.21682893418895266,-0.23448196893010953,-0.22917284307027752,-0.13823918266010993,-0.0639361906122985,-0.08508695848821313,-0.07517336189441082,0.04674564322916441,0.3067213454639832,0.3341962792435087,0.3080794897382093,0.2185051635087214,0.10652575848437551,0.07187319061018038,0.18681941244537503,0.32600005407533006,0.3441625619047275,0.273652144367176,0.1208180986889722,0.10440793681310168,0.18726678612247616,0.2813654544115689,0.397484718423901,0.47879629063172335,0.3833702287398917,-0.019246705734638825,-0.3232713556124521,-0.5479991567238871,-0.6475291810540478,-0.659833704654752,-0.6685335842063156,-0.6673248697550822,-0.6685052569568721,-0.6801752987630827,-0.6866798009080917,-0.4938309268773202,-0.252422032781362,0.03453596950151394,0.3083825670107343,0.4568499674987332,0.5632861278961296,0.5755766405040919,0.5987385683319668,0.6783768828712156,0.6835931648782976,0.6256790285279761,0.5895461921062228,0.5168244549075918,0.35807719091369994,0.21440148141484472,0.10511638593388528,0.04890174126300284,0.0512083904976437,0.010635620615957908,0.08347627370141031,0.24060930187876872,0.35293822790658314,0.26850631603591446,0.15748588839474875,-0.03990756856508848,-0.3081322754836533,-0.4678698718302543,-0.540357670928193],\"type\":\"scatter\"},{\"y\":[0.2480487249470833,0.2710681714040888,0.2750877936322338,0.2810722253546991,0.2775987406131404,0.2677298779737429,0.2722203383837427,0.2506466100792353,0.23203769223010973,0.2250678573704865,0.2010810284337019,0.15105976730195536,0.12420885744232968,0.10745873523368332,0.09648907237068394,0.07073519731466238,0.06292149302735006,0.06305119385900126,0.09469720540320314,0.09445000042641394,0.10480360480330897,0.14170147984916825,0.17080792479509133,0.19294797287356258,0.19221118447188812,0.18349920619822813,0.1969519452643267,0.16227730818783015,0.12889180296959024,0.07585748125423386,0.08670990676513846,0.10328193855390566,0.12590470316813662,0.14263649548201274,0.17837257474474644,0.26016886004756357,0.29378253395260545,0.3454813351693018,0.3630434935447888,0.3985356845533401,0.4126692612754992,0.3981158371918856,0.37862883977074646,0.36299785374395044,0.32968660188044274,0.2777828217495375,0.2389998749801734,0.20291688290419652,0.16204849070885485,0.15217668425076347,0.13455943311183538,0.10974351447561292,0.1092700356489773,0.10920438940163057,0.11051736588813177,0.115497170215626,0.12582006913862864,0.15484305940156484,0.24577547237731978,0.2819960508384207,0.2674966705365096,0.27289640711415375,0.3008167326339246,0.29381131122041215,0.30875569322332574,0.3123777453091314,0.3014619594821826,0.2841941223412787,0.2354779763964736,0.20365830077152025,0.216390158971151,0.21499497687818359,0.24417244637666724,0.2498781976067126,0.17462544219772114,0.15628499091189196,0.16536839664138703,0.17094491695934644,0.18704047456321882,0.21925161440790708,0.2360723973604184,0.2392501511086993,0.189252952890415,0.16743408725520426,0.212105311108838,0.2491042673689765,0.2334089357109197,0.22570678123309662,0.2071684271121843,0.1918985394060131,0.18094019099344072,0.19199321758725318,0.21899316167895178,0.238718371938625,0.24904579724814657,0.2537020361854252,0.2575319139884813,0.26521100299501543,0.27802335386850485,0.2724431803048959,0.2532010746435909,0.26081811607712346,0.2523220036928824,0.20159590565813534,0.12950785842395507,0.08715646981179259,0.08353851360554909,0.05555347258234411,0.02777833704943178,0.035922194696085485,0.03698655947884255,0.07067027565296713,0.06888452370330822,0.09134326819895455,0.1534320819477386,0.19947911508130933,0.20711118181396238,0.21941811752083762,0.20460587386783424,0.20253436534662983,0.17984072473505575,0.12602812526805307,0.0877305114253164,0.10105689063628343,0.11452403955845947,0.11128022724631026,0.14957104089818185,0.22185054549005834],\"type\":\"scatter\"},{\"y\":[-0.10920003673780543,-0.09047196943676772,-0.08745439502975261,-0.08824064827712597,-0.10421814239159166,-0.1471903655183121,-0.10555094128252818,-0.05768396183544422,-0.009559715192604124,0.02567613876523267,0.09506683485913858,0.20556149910980825,0.3316652761421406,0.41034806863495144,0.4724369843130929,0.5536531247306129,0.6810020141694715,0.8216699566562786,0.9091287861741446,0.9057291457244028,0.8586494450976092,0.7387133967034094,0.6007451991176016,0.510933027558025,0.44699902148081416,0.36845479726613917,0.2271987422195385,1.3513037935730665e-05,-0.22903221243155558,-0.35482487968998533,-0.39984884615856653,-0.43929304048336504,-0.5164911511952321,-0.6376940630598256,-0.7389247449865565,-0.7956229060685457,-0.8044482686918997,-0.7356471432549345,-0.6154629418869026,-0.5095474294979094,-0.4591474900602196,-0.4145142891681094,-0.34055022009296443,-0.21208169040546554,-0.09996249635907684,-0.022028666390572105,0.014292801090121543,0.04174362467366555,0.09914590398940848,0.14567602238500177,0.17362393670244214,0.18938552542279874,0.1870343727563153,0.1774935258758792,0.16914325321784385,0.16832689271683487,0.1560867200825915,0.16894048407509876,0.19925707051985397,0.22690660108558913,0.3333322512795889,0.4864161050085003,0.6007404190560053,0.6830370897219236,0.7283339076355875,0.7124069965609978,0.699357067223529,0.6838320603390922,0.59587181930404,0.512294903670667,0.3936880735802193,0.22178984835979154,0.08797900233091549,-0.07265406242753758,-0.20248766533977225,-0.23340141168105477,-0.2639369088944673,-0.36170399029353206,-0.47774847549979316,-0.6187766482442186,-0.7088595576768665,-0.6869580556394934,-0.6614765995975049,-0.6051609504595108,-0.5216500683449595,-0.4711502693182349,-0.43872223335179406,-0.34124717715234887,-0.2203532882437227,-0.07395958553789239,0.032964791847658326,-0.035826238384592535,-0.12276657390768375,-0.15923610736352767,-0.16099214682030538,-0.16938842311219082,-0.1696920640398496,-0.17602342060739629,-0.17341632953093633,-0.1699255780750435,-0.1618581495095136,-0.07945419053943092,0.017186004715383563,0.1663128280321451,0.32002728871171837,0.44959946862837663,0.5182460268496996,0.5800187628565183,0.6921409667364675,0.8161623937638836,0.9025605534758412,0.9420263026679487,0.9047107428997163,0.8016052423363589,0.6598760414539693,0.5141923250425833,0.43477297053973785,0.37364538678295345,0.2670518815155163,0.12297439957081102,-0.055669384364295915,-0.2304801385709535,-0.3477671856284861,-0.3945722467461108,-0.46582723374769863,-0.5921544786596502,-0.678147367626879,-0.7383319861355473],\"type\":\"scatter\"}],                        {\"template\":{\"data\":{\"bar\":[{\"error_x\":{\"color\":\"#2a3f5f\"},\"error_y\":{\"color\":\"#2a3f5f\"},\"marker\":{\"line\":{\"color\":\"#E5ECF6\",\"width\":0.5},\"pattern\":{\"fillmode\":\"overlay\",\"size\":10,\"solidity\":0.2}},\"type\":\"bar\"}],\"barpolar\":[{\"marker\":{\"line\":{\"color\":\"#E5ECF6\",\"width\":0.5},\"pattern\":{\"fillmode\":\"overlay\",\"size\":10,\"solidity\":0.2}},\"type\":\"barpolar\"}],\"carpet\":[{\"aaxis\":{\"endlinecolor\":\"#2a3f5f\",\"gridcolor\":\"white\",\"linecolor\":\"white\",\"minorgridcolor\":\"white\",\"startlinecolor\":\"#2a3f5f\"},\"baxis\":{\"endlinecolor\":\"#2a3f5f\",\"gridcolor\":\"white\",\"linecolor\":\"white\",\"minorgridcolor\":\"white\",\"startlinecolor\":\"#2a3f5f\"},\"type\":\"carpet\"}],\"choropleth\":[{\"colorbar\":{\"outlinewidth\":0,\"ticks\":\"\"},\"type\":\"choropleth\"}],\"contour\":[{\"colorbar\":{\"outlinewidth\":0,\"ticks\":\"\"},\"colorscale\":[[0.0,\"#0d0887\"],[0.1111111111111111,\"#46039f\"],[0.2222222222222222,\"#7201a8\"],[0.3333333333333333,\"#9c179e\"],[0.4444444444444444,\"#bd3786\"],[0.5555555555555556,\"#d8576b\"],[0.6666666666666666,\"#ed7953\"],[0.7777777777777778,\"#fb9f3a\"],[0.8888888888888888,\"#fdca26\"],[1.0,\"#f0f921\"]],\"type\":\"contour\"}],\"contourcarpet\":[{\"colorbar\":{\"outlinewidth\":0,\"ticks\":\"\"},\"type\":\"contourcarpet\"}],\"heatmap\":[{\"colorbar\":{\"outlinewidth\":0,\"ticks\":\"\"},\"colorscale\":[[0.0,\"#0d0887\"],[0.1111111111111111,\"#46039f\"],[0.2222222222222222,\"#7201a8\"],[0.3333333333333333,\"#9c179e\"],[0.4444444444444444,\"#bd3786\"],[0.5555555555555556,\"#d8576b\"],[0.6666666666666666,\"#ed7953\"],[0.7777777777777778,\"#fb9f3a\"],[0.8888888888888888,\"#fdca26\"],[1.0,\"#f0f921\"]],\"type\":\"heatmap\"}],\"heatmapgl\":[{\"colorbar\":{\"outlinewidth\":0,\"ticks\":\"\"},\"colorscale\":[[0.0,\"#0d0887\"],[0.1111111111111111,\"#46039f\"],[0.2222222222222222,\"#7201a8\"],[0.3333333333333333,\"#9c179e\"],[0.4444444444444444,\"#bd3786\"],[0.5555555555555556,\"#d8576b\"],[0.6666666666666666,\"#ed7953\"],[0.7777777777777778,\"#fb9f3a\"],[0.8888888888888888,\"#fdca26\"],[1.0,\"#f0f921\"]],\"type\":\"heatmapgl\"}],\"histogram\":[{\"marker\":{\"pattern\":{\"fillmode\":\"overlay\",\"size\":10,\"solidity\":0.2}},\"type\":\"histogram\"}],\"histogram2d\":[{\"colorbar\":{\"outlinewidth\":0,\"ticks\":\"\"},\"colorscale\":[[0.0,\"#0d0887\"],[0.1111111111111111,\"#46039f\"],[0.2222222222222222,\"#7201a8\"],[0.3333333333333333,\"#9c179e\"],[0.4444444444444444,\"#bd3786\"],[0.5555555555555556,\"#d8576b\"],[0.6666666666666666,\"#ed7953\"],[0.7777777777777778,\"#fb9f3a\"],[0.8888888888888888,\"#fdca26\"],[1.0,\"#f0f921\"]],\"type\":\"histogram2d\"}],\"histogram2dcontour\":[{\"colorbar\":{\"outlinewidth\":0,\"ticks\":\"\"},\"colorscale\":[[0.0,\"#0d0887\"],[0.1111111111111111,\"#46039f\"],[0.2222222222222222,\"#7201a8\"],[0.3333333333333333,\"#9c179e\"],[0.4444444444444444,\"#bd3786\"],[0.5555555555555556,\"#d8576b\"],[0.6666666666666666,\"#ed7953\"],[0.7777777777777778,\"#fb9f3a\"],[0.8888888888888888,\"#fdca26\"],[1.0,\"#f0f921\"]],\"type\":\"histogram2dcontour\"}],\"mesh3d\":[{\"colorbar\":{\"outlinewidth\":0,\"ticks\":\"\"},\"type\":\"mesh3d\"}],\"parcoords\":[{\"line\":{\"colorbar\":{\"outlinewidth\":0,\"ticks\":\"\"}},\"type\":\"parcoords\"}],\"pie\":[{\"automargin\":true,\"type\":\"pie\"}],\"scatter\":[{\"marker\":{\"colorbar\":{\"outlinewidth\":0,\"ticks\":\"\"}},\"type\":\"scatter\"}],\"scatter3d\":[{\"line\":{\"colorbar\":{\"outlinewidth\":0,\"ticks\":\"\"}},\"marker\":{\"colorbar\":{\"outlinewidth\":0,\"ticks\":\"\"}},\"type\":\"scatter3d\"}],\"scattercarpet\":[{\"marker\":{\"colorbar\":{\"outlinewidth\":0,\"ticks\":\"\"}},\"type\":\"scattercarpet\"}],\"scattergeo\":[{\"marker\":{\"colorbar\":{\"outlinewidth\":0,\"ticks\":\"\"}},\"type\":\"scattergeo\"}],\"scattergl\":[{\"marker\":{\"colorbar\":{\"outlinewidth\":0,\"ticks\":\"\"}},\"type\":\"scattergl\"}],\"scattermapbox\":[{\"marker\":{\"colorbar\":{\"outlinewidth\":0,\"ticks\":\"\"}},\"type\":\"scattermapbox\"}],\"scatterpolar\":[{\"marker\":{\"colorbar\":{\"outlinewidth\":0,\"ticks\":\"\"}},\"type\":\"scatterpolar\"}],\"scatterpolargl\":[{\"marker\":{\"colorbar\":{\"outlinewidth\":0,\"ticks\":\"\"}},\"type\":\"scatterpolargl\"}],\"scatterternary\":[{\"marker\":{\"colorbar\":{\"outlinewidth\":0,\"ticks\":\"\"}},\"type\":\"scatterternary\"}],\"surface\":[{\"colorbar\":{\"outlinewidth\":0,\"ticks\":\"\"},\"colorscale\":[[0.0,\"#0d0887\"],[0.1111111111111111,\"#46039f\"],[0.2222222222222222,\"#7201a8\"],[0.3333333333333333,\"#9c179e\"],[0.4444444444444444,\"#bd3786\"],[0.5555555555555556,\"#d8576b\"],[0.6666666666666666,\"#ed7953\"],[0.7777777777777778,\"#fb9f3a\"],[0.8888888888888888,\"#fdca26\"],[1.0,\"#f0f921\"]],\"type\":\"surface\"}],\"table\":[{\"cells\":{\"fill\":{\"color\":\"#EBF0F8\"},\"line\":{\"color\":\"white\"}},\"header\":{\"fill\":{\"color\":\"#C8D4E3\"},\"line\":{\"color\":\"white\"}},\"type\":\"table\"}]},\"layout\":{\"annotationdefaults\":{\"arrowcolor\":\"#2a3f5f\",\"arrowhead\":0,\"arrowwidth\":1},\"autotypenumbers\":\"strict\",\"coloraxis\":{\"colorbar\":{\"outlinewidth\":0,\"ticks\":\"\"}},\"colorscale\":{\"diverging\":[[0,\"#8e0152\"],[0.1,\"#c51b7d\"],[0.2,\"#de77ae\"],[0.3,\"#f1b6da\"],[0.4,\"#fde0ef\"],[0.5,\"#f7f7f7\"],[0.6,\"#e6f5d0\"],[0.7,\"#b8e186\"],[0.8,\"#7fbc41\"],[0.9,\"#4d9221\"],[1,\"#276419\"]],\"sequential\":[[0.0,\"#0d0887\"],[0.1111111111111111,\"#46039f\"],[0.2222222222222222,\"#7201a8\"],[0.3333333333333333,\"#9c179e\"],[0.4444444444444444,\"#bd3786\"],[0.5555555555555556,\"#d8576b\"],[0.6666666666666666,\"#ed7953\"],[0.7777777777777778,\"#fb9f3a\"],[0.8888888888888888,\"#fdca26\"],[1.0,\"#f0f921\"]],\"sequentialminus\":[[0.0,\"#0d0887\"],[0.1111111111111111,\"#46039f\"],[0.2222222222222222,\"#7201a8\"],[0.3333333333333333,\"#9c179e\"],[0.4444444444444444,\"#bd3786\"],[0.5555555555555556,\"#d8576b\"],[0.6666666666666666,\"#ed7953\"],[0.7777777777777778,\"#fb9f3a\"],[0.8888888888888888,\"#fdca26\"],[1.0,\"#f0f921\"]]},\"colorway\":[\"#636efa\",\"#EF553B\",\"#00cc96\",\"#ab63fa\",\"#FFA15A\",\"#19d3f3\",\"#FF6692\",\"#B6E880\",\"#FF97FF\",\"#FECB52\"],\"font\":{\"color\":\"#2a3f5f\"},\"geo\":{\"bgcolor\":\"white\",\"lakecolor\":\"white\",\"landcolor\":\"#E5ECF6\",\"showlakes\":true,\"showland\":true,\"subunitcolor\":\"white\"},\"hoverlabel\":{\"align\":\"left\"},\"hovermode\":\"closest\",\"mapbox\":{\"style\":\"light\"},\"paper_bgcolor\":\"white\",\"plot_bgcolor\":\"#E5ECF6\",\"polar\":{\"angularaxis\":{\"gridcolor\":\"white\",\"linecolor\":\"white\",\"ticks\":\"\"},\"bgcolor\":\"#E5ECF6\",\"radialaxis\":{\"gridcolor\":\"white\",\"linecolor\":\"white\",\"ticks\":\"\"}},\"scene\":{\"xaxis\":{\"backgroundcolor\":\"#E5ECF6\",\"gridcolor\":\"white\",\"gridwidth\":2,\"linecolor\":\"white\",\"showbackground\":true,\"ticks\":\"\",\"zerolinecolor\":\"white\"},\"yaxis\":{\"backgroundcolor\":\"#E5ECF6\",\"gridcolor\":\"white\",\"gridwidth\":2,\"linecolor\":\"white\",\"showbackground\":true,\"ticks\":\"\",\"zerolinecolor\":\"white\"},\"zaxis\":{\"backgroundcolor\":\"#E5ECF6\",\"gridcolor\":\"white\",\"gridwidth\":2,\"linecolor\":\"white\",\"showbackground\":true,\"ticks\":\"\",\"zerolinecolor\":\"white\"}},\"shapedefaults\":{\"line\":{\"color\":\"#2a3f5f\"}},\"ternary\":{\"aaxis\":{\"gridcolor\":\"white\",\"linecolor\":\"white\",\"ticks\":\"\"},\"baxis\":{\"gridcolor\":\"white\",\"linecolor\":\"white\",\"ticks\":\"\"},\"bgcolor\":\"#E5ECF6\",\"caxis\":{\"gridcolor\":\"white\",\"linecolor\":\"white\",\"ticks\":\"\"}},\"title\":{\"x\":0.05},\"xaxis\":{\"automargin\":true,\"gridcolor\":\"white\",\"linecolor\":\"white\",\"ticks\":\"\",\"title\":{\"standoff\":15},\"zerolinecolor\":\"white\",\"zerolinewidth\":2},\"yaxis\":{\"automargin\":true,\"gridcolor\":\"white\",\"linecolor\":\"white\",\"ticks\":\"\",\"title\":{\"standoff\":15},\"zerolinecolor\":\"white\",\"zerolinewidth\":2}}}},                        {\"responsive\": true}                    ).then(function(){\n                            \nvar gd = document.getElementById('e1dcc535-9697-4b5c-a63b-c5f9bf6df6fd');\nvar x = new MutationObserver(function (mutations, observer) {{\n        var display = window.getComputedStyle(gd).display;\n        if (!display || display === 'none') {{\n            console.log([gd, 'removed!']);\n            Plotly.purge(gd);\n            observer.disconnect();\n        }}\n}});\n\n// Listen for the removal of the full notebook cells\nvar notebookContainer = gd.closest('#notebook-container');\nif (notebookContainer) {{\n    x.observe(notebookContainer, {childList: true});\n}}\n\n// Listen for the clearing of the current output cell\nvar outputEl = gd.closest('.output');\nif (outputEl) {{\n    x.observe(outputEl, {childList: true});\n}}\n\n                        })                };                });            </script>        </div>"
     },
     "metadata": {},
     "output_type": "display_data"
    }
   ],
   "source": [
    "_x = 128\n",
    "\n",
    "fig = go.Figure()\n",
    "fig.add_trace(go.Scatter(y=train_x[_x, :, 3]))\n",
    "fig.add_trace(go.Scatter(y=train_x[_x, :, 4]))\n",
    "fig.add_trace(go.Scatter(y=train_x[_x, :, 5]))"
   ],
   "metadata": {
    "collapsed": false,
    "pycharm": {
     "name": "#%%\n"
    }
   }
  },
  {
   "cell_type": "code",
   "execution_count": 127,
   "metadata": {},
   "outputs": [],
   "source": [
    "def shuffle_window(x, y):\n",
    "    ind = np.arange(x.shape[0])\n",
    "    np.random.shuffle(ind)\n",
    "    return x[ind], y[ind]\n",
    "\n",
    "\n",
    "train_x, train_y = shuffle_window(train_x, train_y)\n",
    "val_x, val_y = shuffle_window(val_x, val_y)"
   ]
  },
  {
   "cell_type": "code",
   "execution_count": 128,
   "metadata": {},
   "outputs": [],
   "source": [
    "def plot_history(title: str, history):\n",
    "    _, ax = plt.subplots(1, 2, figsize=(6 * 3, 6))\n",
    "    ax[0].plot(history.history['loss'], label='loss')\n",
    "    ax[0].plot(history.history['val_loss'], label='val_loss')\n",
    "    ax[0].set_title('Loss')\n",
    "    ax[0].legend()\n",
    "\n",
    "    ax[1].plot(history.history['sparse_categorical_accuracy'], label='sparse_categorical_accuracy')\n",
    "    ax[1].plot(history.history['val_sparse_categorical_accuracy'], label='val_sparse_categorical_accuracy')\n",
    "    ax[1].set_title('Accuracy')\n",
    "    ax[1].legend()\n",
    "\n",
    "    plt.title(title)\n",
    "    plt.legend()\n"
   ]
  },
  {
   "cell_type": "markdown",
   "source": [
    "# Hyper parameters"
   ],
   "metadata": {
    "collapsed": false
   }
  },
  {
   "cell_type": "code",
   "execution_count": 129,
   "outputs": [],
   "source": [
    "N_EPOCHS = 512\n",
    "BATCH_SIZE = 128"
   ],
   "metadata": {
    "collapsed": false,
    "pycharm": {
     "name": "#%%\n"
    }
   }
  },
  {
   "cell_type": "code",
   "execution_count": 208,
   "metadata": {},
   "outputs": [
    {
     "name": "stdout",
     "output_type": "stream",
     "text": [
      "Epoch 1/512\n",
      "17/17 [==============================] - 4s 195ms/step - loss: 2.3907 - sparse_categorical_accuracy: 0.2759 - val_loss: 1.9673 - val_sparse_categorical_accuracy: 0.4316\n",
      "Epoch 2/512\n",
      "17/17 [==============================] - 3s 184ms/step - loss: 1.6667 - sparse_categorical_accuracy: 0.4816 - val_loss: 1.2765 - val_sparse_categorical_accuracy: 0.5973\n",
      "Epoch 3/512\n",
      "17/17 [==============================] - 3s 179ms/step - loss: 1.1205 - sparse_categorical_accuracy: 0.6281 - val_loss: 0.8934 - val_sparse_categorical_accuracy: 0.6859\n",
      "Epoch 4/512\n",
      "17/17 [==============================] - 3s 178ms/step - loss: 0.9100 - sparse_categorical_accuracy: 0.6987 - val_loss: 0.8345 - val_sparse_categorical_accuracy: 0.6782\n",
      "Epoch 5/512\n",
      "17/17 [==============================] - 3s 176ms/step - loss: 0.8039 - sparse_categorical_accuracy: 0.7283 - val_loss: 0.7226 - val_sparse_categorical_accuracy: 0.7842\n",
      "Epoch 6/512\n",
      "17/17 [==============================] - 3s 190ms/step - loss: 0.7013 - sparse_categorical_accuracy: 0.7627 - val_loss: 0.6294 - val_sparse_categorical_accuracy: 0.8189\n",
      "Epoch 7/512\n",
      "17/17 [==============================] - 3s 181ms/step - loss: 0.6541 - sparse_categorical_accuracy: 0.7900 - val_loss: 0.5755 - val_sparse_categorical_accuracy: 0.8324\n",
      "Epoch 8/512\n",
      "17/17 [==============================] - 3s 182ms/step - loss: 0.5835 - sparse_categorical_accuracy: 0.8074 - val_loss: 0.5415 - val_sparse_categorical_accuracy: 0.8555\n",
      "Epoch 9/512\n",
      "17/17 [==============================] - 3s 180ms/step - loss: 0.5533 - sparse_categorical_accuracy: 0.8145 - val_loss: 0.5439 - val_sparse_categorical_accuracy: 0.8247\n",
      "Epoch 10/512\n",
      "17/17 [==============================] - 3s 190ms/step - loss: 0.5245 - sparse_categorical_accuracy: 0.8296 - val_loss: 0.5218 - val_sparse_categorical_accuracy: 0.8343\n",
      "Epoch 11/512\n",
      "17/17 [==============================] - 4s 208ms/step - loss: 0.4623 - sparse_categorical_accuracy: 0.8418 - val_loss: 0.4732 - val_sparse_categorical_accuracy: 0.8497\n",
      "Epoch 12/512\n",
      "17/17 [==============================] - 3s 191ms/step - loss: 0.4822 - sparse_categorical_accuracy: 0.8376 - val_loss: 0.4661 - val_sparse_categorical_accuracy: 0.8439\n",
      "Epoch 13/512\n",
      "17/17 [==============================] - 4s 216ms/step - loss: 0.4689 - sparse_categorical_accuracy: 0.8427 - val_loss: 0.4208 - val_sparse_categorical_accuracy: 0.8728\n",
      "Epoch 14/512\n",
      "17/17 [==============================] - 4s 220ms/step - loss: 0.4261 - sparse_categorical_accuracy: 0.8621 - val_loss: 0.3749 - val_sparse_categorical_accuracy: 0.8767\n",
      "Epoch 15/512\n",
      "17/17 [==============================] - 3s 185ms/step - loss: 0.4154 - sparse_categorical_accuracy: 0.8635 - val_loss: 0.3706 - val_sparse_categorical_accuracy: 0.8882\n",
      "Epoch 16/512\n",
      "17/17 [==============================] - 3s 180ms/step - loss: 0.3718 - sparse_categorical_accuracy: 0.8776 - val_loss: 0.3369 - val_sparse_categorical_accuracy: 0.8902\n",
      "Epoch 17/512\n",
      "17/17 [==============================] - 3s 181ms/step - loss: 0.3721 - sparse_categorical_accuracy: 0.8799 - val_loss: 0.3607 - val_sparse_categorical_accuracy: 0.8767\n",
      "Epoch 18/512\n",
      "17/17 [==============================] - 3s 179ms/step - loss: 0.3611 - sparse_categorical_accuracy: 0.8851 - val_loss: 0.3310 - val_sparse_categorical_accuracy: 0.8921\n",
      "Epoch 19/512\n",
      "17/17 [==============================] - 3s 187ms/step - loss: 0.3452 - sparse_categorical_accuracy: 0.8875 - val_loss: 0.3241 - val_sparse_categorical_accuracy: 0.8940\n",
      "Epoch 20/512\n",
      "17/17 [==============================] - 3s 188ms/step - loss: 0.3432 - sparse_categorical_accuracy: 0.8903 - val_loss: 0.3004 - val_sparse_categorical_accuracy: 0.8825\n",
      "Epoch 21/512\n",
      "17/17 [==============================] - 4s 220ms/step - loss: 0.3357 - sparse_categorical_accuracy: 0.8903 - val_loss: 0.2919 - val_sparse_categorical_accuracy: 0.8960\n",
      "Epoch 22/512\n",
      "17/17 [==============================] - 3s 198ms/step - loss: 0.3417 - sparse_categorical_accuracy: 0.8804 - val_loss: 0.3131 - val_sparse_categorical_accuracy: 0.8844\n",
      "Epoch 23/512\n",
      "17/17 [==============================] - 4s 212ms/step - loss: 0.3067 - sparse_categorical_accuracy: 0.9115 - val_loss: 0.2867 - val_sparse_categorical_accuracy: 0.9017\n",
      "Epoch 24/512\n",
      "17/17 [==============================] - 3s 198ms/step - loss: 0.3158 - sparse_categorical_accuracy: 0.9054 - val_loss: 0.2534 - val_sparse_categorical_accuracy: 0.9114\n",
      "Epoch 25/512\n",
      "17/17 [==============================] - 3s 201ms/step - loss: 0.3002 - sparse_categorical_accuracy: 0.9068 - val_loss: 0.2769 - val_sparse_categorical_accuracy: 0.9171\n",
      "Epoch 26/512\n",
      "17/17 [==============================] - 3s 207ms/step - loss: 0.3049 - sparse_categorical_accuracy: 0.9007 - val_loss: 0.3331 - val_sparse_categorical_accuracy: 0.8863\n",
      "Epoch 27/512\n",
      "17/17 [==============================] - 3s 204ms/step - loss: 0.2851 - sparse_categorical_accuracy: 0.9035 - val_loss: 0.2645 - val_sparse_categorical_accuracy: 0.9114\n",
      "Epoch 28/512\n",
      "17/17 [==============================] - 3s 192ms/step - loss: 0.2702 - sparse_categorical_accuracy: 0.9101 - val_loss: 0.2600 - val_sparse_categorical_accuracy: 0.9056\n",
      "Epoch 29/512\n",
      "17/17 [==============================] - 3s 185ms/step - loss: 0.2576 - sparse_categorical_accuracy: 0.9204 - val_loss: 0.2666 - val_sparse_categorical_accuracy: 0.8998\n",
      "Epoch 30/512\n",
      "17/17 [==============================] - 3s 180ms/step - loss: 0.2534 - sparse_categorical_accuracy: 0.9200 - val_loss: 0.2619 - val_sparse_categorical_accuracy: 0.9094\n",
      "Epoch 31/512\n",
      "17/17 [==============================] - 3s 189ms/step - loss: 0.2562 - sparse_categorical_accuracy: 0.9148 - val_loss: 0.2452 - val_sparse_categorical_accuracy: 0.9094\n",
      "Epoch 32/512\n",
      "17/17 [==============================] - 3s 192ms/step - loss: 0.2449 - sparse_categorical_accuracy: 0.9223 - val_loss: 0.2675 - val_sparse_categorical_accuracy: 0.9037\n",
      "Epoch 33/512\n",
      "17/17 [==============================] - 3s 190ms/step - loss: 0.2370 - sparse_categorical_accuracy: 0.9181 - val_loss: 0.2770 - val_sparse_categorical_accuracy: 0.9017\n",
      "Epoch 34/512\n",
      "17/17 [==============================] - 3s 194ms/step - loss: 0.2520 - sparse_categorical_accuracy: 0.9176 - val_loss: 0.2736 - val_sparse_categorical_accuracy: 0.9056\n",
      "Epoch 35/512\n",
      "17/17 [==============================] - 3s 179ms/step - loss: 0.2395 - sparse_categorical_accuracy: 0.9157 - val_loss: 0.2592 - val_sparse_categorical_accuracy: 0.9094\n",
      "Epoch 36/512\n",
      "17/17 [==============================] - 3s 190ms/step - loss: 0.2472 - sparse_categorical_accuracy: 0.9181 - val_loss: 0.2767 - val_sparse_categorical_accuracy: 0.8998\n",
      "Epoch 37/512\n",
      "17/17 [==============================] - 3s 190ms/step - loss: 0.2268 - sparse_categorical_accuracy: 0.9270 - val_loss: 0.2687 - val_sparse_categorical_accuracy: 0.9056\n",
      "Epoch 38/512\n",
      "17/17 [==============================] - 3s 193ms/step - loss: 0.2166 - sparse_categorical_accuracy: 0.9266 - val_loss: 0.2781 - val_sparse_categorical_accuracy: 0.9094\n",
      "Epoch 39/512\n",
      "17/17 [==============================] - 3s 190ms/step - loss: 0.2254 - sparse_categorical_accuracy: 0.9195 - val_loss: 0.2484 - val_sparse_categorical_accuracy: 0.9094\n",
      "Epoch 40/512\n",
      "17/17 [==============================] - 3s 184ms/step - loss: 0.2133 - sparse_categorical_accuracy: 0.9284 - val_loss: 0.2458 - val_sparse_categorical_accuracy: 0.9133\n",
      "Epoch 41/512\n",
      "17/17 [==============================] - 3s 192ms/step - loss: 0.2047 - sparse_categorical_accuracy: 0.9327 - val_loss: 0.2636 - val_sparse_categorical_accuracy: 0.9075\n",
      "Epoch 42/512\n",
      "17/17 [==============================] - 3s 191ms/step - loss: 0.2103 - sparse_categorical_accuracy: 0.9294 - val_loss: 0.2576 - val_sparse_categorical_accuracy: 0.9133\n",
      "Epoch 43/512\n",
      "17/17 [==============================] - 3s 189ms/step - loss: 0.2018 - sparse_categorical_accuracy: 0.9336 - val_loss: 0.2921 - val_sparse_categorical_accuracy: 0.8998\n",
      "Epoch 44/512\n",
      "17/17 [==============================] - 3s 190ms/step - loss: 0.2097 - sparse_categorical_accuracy: 0.9289 - val_loss: 0.2420 - val_sparse_categorical_accuracy: 0.9191\n",
      "Epoch 45/512\n",
      "17/17 [==============================] - 3s 187ms/step - loss: 0.1982 - sparse_categorical_accuracy: 0.9336 - val_loss: 0.2596 - val_sparse_categorical_accuracy: 0.9191\n",
      "Epoch 46/512\n",
      "17/17 [==============================] - 3s 190ms/step - loss: 0.2078 - sparse_categorical_accuracy: 0.9266 - val_loss: 0.2504 - val_sparse_categorical_accuracy: 0.9152\n",
      "Epoch 47/512\n",
      "17/17 [==============================] - 3s 191ms/step - loss: 0.1949 - sparse_categorical_accuracy: 0.9355 - val_loss: 0.2454 - val_sparse_categorical_accuracy: 0.9171\n",
      "Epoch 48/512\n",
      "17/17 [==============================] - 3s 197ms/step - loss: 0.2064 - sparse_categorical_accuracy: 0.9251 - val_loss: 0.2506 - val_sparse_categorical_accuracy: 0.9210\n",
      "Epoch 49/512\n",
      "17/17 [==============================] - 3s 194ms/step - loss: 0.1884 - sparse_categorical_accuracy: 0.9369 - val_loss: 0.2587 - val_sparse_categorical_accuracy: 0.9114\n",
      "Epoch 50/512\n",
      "17/17 [==============================] - 3s 190ms/step - loss: 0.2003 - sparse_categorical_accuracy: 0.9298 - val_loss: 0.2758 - val_sparse_categorical_accuracy: 0.9114\n",
      "Epoch 51/512\n",
      "17/17 [==============================] - 3s 191ms/step - loss: 0.1934 - sparse_categorical_accuracy: 0.9364 - val_loss: 0.3057 - val_sparse_categorical_accuracy: 0.9017\n",
      "Epoch 52/512\n",
      "17/17 [==============================] - 3s 206ms/step - loss: 0.1734 - sparse_categorical_accuracy: 0.9393 - val_loss: 0.2756 - val_sparse_categorical_accuracy: 0.9133\n",
      "Epoch 53/512\n",
      "17/17 [==============================] - 4s 218ms/step - loss: 0.1810 - sparse_categorical_accuracy: 0.9383 - val_loss: 0.2928 - val_sparse_categorical_accuracy: 0.9114\n",
      "Epoch 54/512\n",
      "17/17 [==============================] - 3s 203ms/step - loss: 0.1821 - sparse_categorical_accuracy: 0.9336 - val_loss: 0.2622 - val_sparse_categorical_accuracy: 0.9114\n",
      "Epoch 55/512\n",
      "17/17 [==============================] - 3s 193ms/step - loss: 0.1701 - sparse_categorical_accuracy: 0.9477 - val_loss: 0.2828 - val_sparse_categorical_accuracy: 0.9114\n",
      "Epoch 56/512\n",
      "17/17 [==============================] - 3s 199ms/step - loss: 0.1852 - sparse_categorical_accuracy: 0.9364 - val_loss: 0.2857 - val_sparse_categorical_accuracy: 0.9133\n",
      "Epoch 57/512\n",
      "17/17 [==============================] - 3s 201ms/step - loss: 0.1719 - sparse_categorical_accuracy: 0.9374 - val_loss: 0.2837 - val_sparse_categorical_accuracy: 0.9056\n",
      "Epoch 58/512\n",
      "17/17 [==============================] - 3s 195ms/step - loss: 0.1700 - sparse_categorical_accuracy: 0.9449 - val_loss: 0.2959 - val_sparse_categorical_accuracy: 0.9037\n",
      "Epoch 59/512\n",
      "17/17 [==============================] - 3s 199ms/step - loss: 0.1737 - sparse_categorical_accuracy: 0.9435 - val_loss: 0.2934 - val_sparse_categorical_accuracy: 0.9094\n",
      "Epoch 60/512\n",
      "17/17 [==============================] - 3s 186ms/step - loss: 0.1806 - sparse_categorical_accuracy: 0.9374 - val_loss: 0.2930 - val_sparse_categorical_accuracy: 0.9017\n",
      "Epoch 61/512\n",
      "17/17 [==============================] - 3s 198ms/step - loss: 0.1650 - sparse_categorical_accuracy: 0.9440 - val_loss: 0.2702 - val_sparse_categorical_accuracy: 0.9037\n",
      "Epoch 62/512\n",
      "17/17 [==============================] - 3s 196ms/step - loss: 0.1684 - sparse_categorical_accuracy: 0.9440 - val_loss: 0.3081 - val_sparse_categorical_accuracy: 0.8960\n",
      "Epoch 63/512\n",
      "17/17 [==============================] - 3s 188ms/step - loss: 0.1704 - sparse_categorical_accuracy: 0.9435 - val_loss: 0.3012 - val_sparse_categorical_accuracy: 0.9056\n",
      "Epoch 64/512\n",
      "17/17 [==============================] - 3s 191ms/step - loss: 0.1685 - sparse_categorical_accuracy: 0.9379 - val_loss: 0.2918 - val_sparse_categorical_accuracy: 0.9094\n",
      "Epoch 65/512\n",
      "17/17 [==============================] - 3s 189ms/step - loss: 0.1568 - sparse_categorical_accuracy: 0.9477 - val_loss: 0.2883 - val_sparse_categorical_accuracy: 0.8998\n",
      "Epoch 66/512\n",
      "17/17 [==============================] - 3s 192ms/step - loss: 0.1684 - sparse_categorical_accuracy: 0.9435 - val_loss: 0.3114 - val_sparse_categorical_accuracy: 0.9017\n",
      "Epoch 67/512\n",
      "17/17 [==============================] - 3s 182ms/step - loss: 0.1612 - sparse_categorical_accuracy: 0.9444 - val_loss: 0.2937 - val_sparse_categorical_accuracy: 0.9037\n",
      "Epoch 68/512\n",
      "17/17 [==============================] - 3s 190ms/step - loss: 0.1633 - sparse_categorical_accuracy: 0.9444 - val_loss: 0.2980 - val_sparse_categorical_accuracy: 0.9075\n",
      "Epoch 69/512\n",
      "17/17 [==============================] - 3s 187ms/step - loss: 0.1582 - sparse_categorical_accuracy: 0.9444 - val_loss: 0.3272 - val_sparse_categorical_accuracy: 0.9037\n",
      "Epoch 70/512\n",
      "17/17 [==============================] - 3s 180ms/step - loss: 0.1589 - sparse_categorical_accuracy: 0.9435 - val_loss: 0.3143 - val_sparse_categorical_accuracy: 0.9114\n",
      "Epoch 71/512\n",
      "17/17 [==============================] - 3s 190ms/step - loss: 0.1620 - sparse_categorical_accuracy: 0.9426 - val_loss: 0.3092 - val_sparse_categorical_accuracy: 0.9075\n",
      "Epoch 72/512\n",
      "17/17 [==============================] - 3s 192ms/step - loss: 0.1607 - sparse_categorical_accuracy: 0.9454 - val_loss: 0.3148 - val_sparse_categorical_accuracy: 0.9075\n",
      "Epoch 73/512\n",
      "17/17 [==============================] - 3s 195ms/step - loss: 0.1660 - sparse_categorical_accuracy: 0.9459 - val_loss: 0.3251 - val_sparse_categorical_accuracy: 0.9056\n",
      "Epoch 74/512\n",
      "17/17 [==============================] - 3s 206ms/step - loss: 0.1570 - sparse_categorical_accuracy: 0.9463 - val_loss: 0.3327 - val_sparse_categorical_accuracy: 0.9037\n",
      "Epoch 75/512\n",
      "17/17 [==============================] - 3s 203ms/step - loss: 0.1526 - sparse_categorical_accuracy: 0.9444 - val_loss: 0.3313 - val_sparse_categorical_accuracy: 0.9037\n",
      "Epoch 76/512\n",
      "17/17 [==============================] - 3s 188ms/step - loss: 0.1526 - sparse_categorical_accuracy: 0.9487 - val_loss: 0.3297 - val_sparse_categorical_accuracy: 0.9056\n"
     ]
    },
    {
     "data": {
      "text/plain": "<Figure size 1296x432 with 2 Axes>",
      "image/png": "[encoded data removed]"
     },
     "metadata": {
      "needs_background": "light"
     },
     "output_type": "display_data"
    }
   ],
   "source": [
    "learning_rate_schedule = tf.keras.optimizers.schedules.ExponentialDecay(\n",
    "    initial_learning_rate=0.01,\n",
    "    decay_steps=train_x.shape[0] // BATCH_SIZE,\n",
    "    decay_rate=0.96,\n",
    "    staircase=True)\n",
    "\n",
    "import datetime\n",
    "\n",
    "early_stopping_callback = tf.keras.callbacks.EarlyStopping(monitor='val_loss', patience=32, restore_best_weights=True)\n",
    "\n",
    "\n",
    "def get_baseline_model(input_shape=(128, 7), n_output=16):\n",
    "    model = models.Sequential()\n",
    "    model.add(layers.LSTM(units=64, input_shape=input_shape))\n",
    "    model.add(layers.Dense(units=128, activation=activations.relu))\n",
    "    model.add(layers.Dropout(.5))\n",
    "    model.add(layers.Dense(units=8, activation=activations.relu))\n",
    "    model.add(layers.Dense(units=n_output, activation=activations.softmax))\n",
    "    model.compile(\n",
    "        optimizer=optimizers.Adam(learning_rate=learning_rate_schedule),\n",
    "        loss=losses.sparse_categorical_crossentropy,\n",
    "        metrics=[metrics.SparseCategoricalAccuracy()]\n",
    "    )\n",
    "    return model\n",
    "\n",
    "\n",
    "baseline_model = get_baseline_model()\n",
    "baseline_model_history = baseline_model.fit(\n",
    "    x=train_x, y=train_y,\n",
    "    shuffle=True, validation_data=(val_x, val_y),\n",
    "    epochs=N_EPOCHS, batch_size=BATCH_SIZE, callbacks=[early_stopping_callback])\n",
    "plot_history('Baseline Model', baseline_model_history)"
   ]
  },
  {
   "cell_type": "code",
   "execution_count": 210,
   "outputs": [
    {
     "name": "stdout",
     "output_type": "stream",
     "text": [
      "5/5 [==============================] - 0s 63ms/step - loss: 0.2420 - sparse_categorical_accuracy: 0.9191\n"
     ]
    },
    {
     "data": {
      "text/plain": "[0.2420186996459961, 0.9190751314163208]"
     },
     "execution_count": 210,
     "metadata": {},
     "output_type": "execute_result"
    }
   ],
   "source": [
    "baseline_model.evaluate(x=val_x, y=val_y, batch_size=BATCH_SIZE)"
   ],
   "metadata": {
    "collapsed": false,
    "pycharm": {
     "name": "#%%\n"
    }
   }
  },
  {
   "cell_type": "code",
   "execution_count": 189,
   "outputs": [
    {
     "name": "stdout",
     "output_type": "stream",
     "text": [
      "Epoch 1/4\n",
      "17/17 [==============================] - 1s 21ms/step - loss: 1.9470 - sparse_categorical_accuracy: 0.3941 - val_loss: 1.0793 - val_sparse_categorical_accuracy: 0.6108\n",
      "Epoch 2/4\n",
      "17/17 [==============================] - 0s 15ms/step - loss: 1.1878 - sparse_categorical_accuracy: 0.5744 - val_loss: 0.9218 - val_sparse_categorical_accuracy: 0.6667\n",
      "Epoch 3/4\n",
      "17/17 [==============================] - 0s 16ms/step - loss: 0.9643 - sparse_categorical_accuracy: 0.6469 - val_loss: 0.7841 - val_sparse_categorical_accuracy: 0.6994\n",
      "Epoch 4/4\n",
      "17/17 [==============================] - 0s 15ms/step - loss: 0.8332 - sparse_categorical_accuracy: 0.7001 - val_loss: 0.7275 - val_sparse_categorical_accuracy: 0.7264\n"
     ]
    },
    {
     "data": {
      "text/plain": "<Figure size 1296x432 with 2 Axes>",
      "image/png": "[encoded data removed]"
     },
     "metadata": {
      "needs_background": "light"
     },
     "output_type": "display_data"
    }
   ],
   "source": [
    "learning_rate_schedule = tf.keras.optimizers.schedules.ExponentialDecay(\n",
    "    initial_learning_rate=0.002,\n",
    "    decay_steps=train_x.shape[0] // BATCH_SIZE,\n",
    "    decay_rate=0.96,\n",
    "    staircase=True)\n",
    "\n",
    "early_stopping_callback = tf.keras.callbacks.EarlyStopping(monitor='val_loss', patience=32, restore_best_weights=True)\n",
    "\n",
    "\n",
    "def get_convolution_model(input_shape=(128, 7), n_output=16):\n",
    "    model = models.Sequential()\n",
    "    model.add(layers.Conv1D(filters=32, kernel_size=3, activation=activations.relu, input_shape=input_shape))\n",
    "    model.add(layers.MaxPooling1D(pool_size=2))\n",
    "    model.add(layers.Conv1D(filters=64, kernel_size=3, activation=activations.relu))\n",
    "    model.add(layers.MaxPooling1D(pool_size=2))\n",
    "    model.add(layers.Conv1D(filters=128, kernel_size=3, activation=activations.relu))\n",
    "    model.add(layers.MaxPooling1D(pool_size=2))\n",
    "    model.add(layers.Flatten())\n",
    "    model.add(layers.Dense(units=n_output, activation=activations.softmax))\n",
    "    model.compile(\n",
    "        optimizer=optimizers.Adam(learning_rate=learning_rate_schedule),\n",
    "        loss=losses.sparse_categorical_crossentropy,\n",
    "        metrics=[metrics.SparseCategoricalAccuracy()]\n",
    "    )\n",
    "    return model\n",
    "\n",
    "\n",
    "convolution_model = get_convolution_model()\n",
    "convolution_model_history = convolution_model.fit(\n",
    "    x=train_x, y=train_y,\n",
    "    shuffle=True, validation_data=(val_x, val_y),\n",
    "    epochs=4, batch_size=BATCH_SIZE, callbacks=[early_stopping_callback])\n",
    "plot_history('Convolution Model', convolution_model_history)"
   ],
   "metadata": {
    "collapsed": false,
    "pycharm": {
     "name": "#%%\n"
    }
   }
  },
  {
   "cell_type": "code",
   "execution_count": 133,
   "outputs": [
    {
     "name": "stdout",
     "output_type": "stream",
     "text": [
      "Model: \"sequential_37\"\n",
      "_________________________________________________________________\n",
      " Layer (type)                Output Shape              Param #   \n",
      "=================================================================\n",
      " lstm_40 (LSTM)              (None, 128, 32)           5120      \n",
      "                                                                 \n",
      " lstm_41 (LSTM)              (None, 128, 32)           8320      \n",
      "                                                                 \n",
      " conv1d_55 (Conv1D)          (None, 62, 64)            10304     \n",
      "                                                                 \n",
      " max_pooling1d_45 (MaxPoolin  (None, 31, 64)           0         \n",
      " g1D)                                                            \n",
      "                                                                 \n",
      " conv1d_56 (Conv1D)          (None, 29, 128)           24704     \n",
      "                                                                 \n",
      " flatten_18 (Flatten)        (None, 3712)              0         \n",
      "                                                                 \n",
      " dropout_10 (Dropout)        (None, 3712)              0         \n",
      "                                                                 \n",
      " dense_40 (Dense)            (None, 64)                237632    \n",
      "                                                                 \n",
      " batch_normalization_4 (Batc  (None, 64)               256       \n",
      " hNormalization)                                                 \n",
      "                                                                 \n",
      " dense_41 (Dense)            (None, 16)                1040      \n",
      "                                                                 \n",
      "=================================================================\n",
      "Total params: 287,376\n",
      "Trainable params: 287,248\n",
      "Non-trainable params: 128\n",
      "_________________________________________________________________\n",
      "Epoch 1/512\n",
      "17/17 [==============================] - 5s 116ms/step - loss: 2.2479 - sparse_categorical_accuracy: 0.3282 - val_loss: 2.4674 - val_sparse_categorical_accuracy: 0.4085\n",
      "Epoch 2/512\n",
      "17/17 [==============================] - 1s 86ms/step - loss: 1.4484 - sparse_categorical_accuracy: 0.5428 - val_loss: 2.2626 - val_sparse_categorical_accuracy: 0.5067\n",
      "Epoch 3/512\n",
      "17/17 [==============================] - 1s 81ms/step - loss: 1.2219 - sparse_categorical_accuracy: 0.6116 - val_loss: 2.1286 - val_sparse_categorical_accuracy: 0.5645\n",
      "Epoch 4/512\n",
      "17/17 [==============================] - 1s 79ms/step - loss: 1.0552 - sparse_categorical_accuracy: 0.6554 - val_loss: 2.0543 - val_sparse_categorical_accuracy: 0.5453\n",
      "Epoch 5/512\n",
      "17/17 [==============================] - 1s 78ms/step - loss: 0.9594 - sparse_categorical_accuracy: 0.6723 - val_loss: 1.9758 - val_sparse_categorical_accuracy: 0.5819\n",
      "Epoch 6/512\n",
      "17/17 [==============================] - 1s 79ms/step - loss: 0.8727 - sparse_categorical_accuracy: 0.7029 - val_loss: 1.8371 - val_sparse_categorical_accuracy: 0.5934\n",
      "Epoch 7/512\n",
      "17/17 [==============================] - 1s 78ms/step - loss: 0.8122 - sparse_categorical_accuracy: 0.7114 - val_loss: 1.8278 - val_sparse_categorical_accuracy: 0.5877\n",
      "Epoch 8/512\n",
      "17/17 [==============================] - 1s 78ms/step - loss: 0.7790 - sparse_categorical_accuracy: 0.7326 - val_loss: 1.7725 - val_sparse_categorical_accuracy: 0.6069\n",
      "Epoch 9/512\n",
      "17/17 [==============================] - 1s 78ms/step - loss: 0.7053 - sparse_categorical_accuracy: 0.7448 - val_loss: 1.6320 - val_sparse_categorical_accuracy: 0.6647\n",
      "Epoch 10/512\n",
      "17/17 [==============================] - 1s 79ms/step - loss: 0.6631 - sparse_categorical_accuracy: 0.7618 - val_loss: 1.5781 - val_sparse_categorical_accuracy: 0.6243\n",
      "Epoch 11/512\n",
      "17/17 [==============================] - 1s 78ms/step - loss: 0.6329 - sparse_categorical_accuracy: 0.7759 - val_loss: 1.3853 - val_sparse_categorical_accuracy: 0.6879\n",
      "Epoch 12/512\n",
      "17/17 [==============================] - 1s 78ms/step - loss: 0.6079 - sparse_categorical_accuracy: 0.7782 - val_loss: 1.3457 - val_sparse_categorical_accuracy: 0.7071\n",
      "Epoch 13/512\n",
      "17/17 [==============================] - 1s 79ms/step - loss: 0.5961 - sparse_categorical_accuracy: 0.7778 - val_loss: 1.2815 - val_sparse_categorical_accuracy: 0.7052\n",
      "Epoch 14/512\n",
      "17/17 [==============================] - 1s 80ms/step - loss: 0.5804 - sparse_categorical_accuracy: 0.7895 - val_loss: 1.2461 - val_sparse_categorical_accuracy: 0.7129\n",
      "Epoch 15/512\n",
      "17/17 [==============================] - 1s 83ms/step - loss: 0.5449 - sparse_categorical_accuracy: 0.8027 - val_loss: 1.1336 - val_sparse_categorical_accuracy: 0.7380\n",
      "Epoch 16/512\n",
      "17/17 [==============================] - 1s 82ms/step - loss: 0.5126 - sparse_categorical_accuracy: 0.8131 - val_loss: 1.1110 - val_sparse_categorical_accuracy: 0.7476\n",
      "Epoch 17/512\n",
      "17/17 [==============================] - 1s 79ms/step - loss: 0.4930 - sparse_categorical_accuracy: 0.8211 - val_loss: 1.0307 - val_sparse_categorical_accuracy: 0.7495\n",
      "Epoch 18/512\n",
      "17/17 [==============================] - 1s 79ms/step - loss: 0.4815 - sparse_categorical_accuracy: 0.8178 - val_loss: 0.9774 - val_sparse_categorical_accuracy: 0.7457\n",
      "Epoch 19/512\n",
      "17/17 [==============================] - 1s 83ms/step - loss: 0.4533 - sparse_categorical_accuracy: 0.8362 - val_loss: 0.8901 - val_sparse_categorical_accuracy: 0.7592\n",
      "Epoch 20/512\n",
      "17/17 [==============================] - 1s 81ms/step - loss: 0.4453 - sparse_categorical_accuracy: 0.8399 - val_loss: 0.8607 - val_sparse_categorical_accuracy: 0.7534\n",
      "Epoch 21/512\n",
      "17/17 [==============================] - 1s 81ms/step - loss: 0.4373 - sparse_categorical_accuracy: 0.8409 - val_loss: 0.8118 - val_sparse_categorical_accuracy: 0.7514\n",
      "Epoch 22/512\n",
      "17/17 [==============================] - 1s 83ms/step - loss: 0.4188 - sparse_categorical_accuracy: 0.8526 - val_loss: 0.7584 - val_sparse_categorical_accuracy: 0.7669\n",
      "Epoch 23/512\n",
      "17/17 [==============================] - 1s 82ms/step - loss: 0.4132 - sparse_categorical_accuracy: 0.8442 - val_loss: 0.7210 - val_sparse_categorical_accuracy: 0.7803\n",
      "Epoch 24/512\n",
      "17/17 [==============================] - 1s 81ms/step - loss: 0.3905 - sparse_categorical_accuracy: 0.8564 - val_loss: 0.7521 - val_sparse_categorical_accuracy: 0.7553\n",
      "Epoch 25/512\n",
      "17/17 [==============================] - 1s 82ms/step - loss: 0.3791 - sparse_categorical_accuracy: 0.8672 - val_loss: 0.6917 - val_sparse_categorical_accuracy: 0.7842\n",
      "Epoch 26/512\n",
      "17/17 [==============================] - 1s 81ms/step - loss: 0.3671 - sparse_categorical_accuracy: 0.8639 - val_loss: 0.6825 - val_sparse_categorical_accuracy: 0.7765\n",
      "Epoch 27/512\n",
      "17/17 [==============================] - 1s 80ms/step - loss: 0.3597 - sparse_categorical_accuracy: 0.8677 - val_loss: 0.6512 - val_sparse_categorical_accuracy: 0.7823\n",
      "Epoch 28/512\n",
      "17/17 [==============================] - 1s 83ms/step - loss: 0.3592 - sparse_categorical_accuracy: 0.8752 - val_loss: 0.6161 - val_sparse_categorical_accuracy: 0.7881\n",
      "Epoch 29/512\n",
      "17/17 [==============================] - 1s 80ms/step - loss: 0.3438 - sparse_categorical_accuracy: 0.8752 - val_loss: 0.5804 - val_sparse_categorical_accuracy: 0.8015\n",
      "Epoch 30/512\n",
      "17/17 [==============================] - 1s 80ms/step - loss: 0.3465 - sparse_categorical_accuracy: 0.8705 - val_loss: 0.5840 - val_sparse_categorical_accuracy: 0.8035\n",
      "Epoch 31/512\n",
      "17/17 [==============================] - 1s 79ms/step - loss: 0.3346 - sparse_categorical_accuracy: 0.8898 - val_loss: 0.5914 - val_sparse_categorical_accuracy: 0.7958\n",
      "Epoch 32/512\n",
      "17/17 [==============================] - 1s 78ms/step - loss: 0.3150 - sparse_categorical_accuracy: 0.8832 - val_loss: 0.5769 - val_sparse_categorical_accuracy: 0.7861\n",
      "Epoch 33/512\n",
      "17/17 [==============================] - 1s 77ms/step - loss: 0.3249 - sparse_categorical_accuracy: 0.8879 - val_loss: 0.5631 - val_sparse_categorical_accuracy: 0.7919\n",
      "Epoch 34/512\n",
      "17/17 [==============================] - 1s 79ms/step - loss: 0.3134 - sparse_categorical_accuracy: 0.8894 - val_loss: 0.5848 - val_sparse_categorical_accuracy: 0.7881\n",
      "Epoch 35/512\n",
      "17/17 [==============================] - 1s 78ms/step - loss: 0.3077 - sparse_categorical_accuracy: 0.8865 - val_loss: 0.6035 - val_sparse_categorical_accuracy: 0.7803\n",
      "Epoch 36/512\n",
      "17/17 [==============================] - 1s 78ms/step - loss: 0.2958 - sparse_categorical_accuracy: 0.8950 - val_loss: 0.5600 - val_sparse_categorical_accuracy: 0.7958\n",
      "Epoch 37/512\n",
      "17/17 [==============================] - 1s 80ms/step - loss: 0.2968 - sparse_categorical_accuracy: 0.8983 - val_loss: 0.5863 - val_sparse_categorical_accuracy: 0.7746\n",
      "Epoch 38/512\n",
      "17/17 [==============================] - 1s 80ms/step - loss: 0.2769 - sparse_categorical_accuracy: 0.9096 - val_loss: 0.5900 - val_sparse_categorical_accuracy: 0.7919\n",
      "Epoch 39/512\n",
      "17/17 [==============================] - 1s 81ms/step - loss: 0.2833 - sparse_categorical_accuracy: 0.9063 - val_loss: 0.5871 - val_sparse_categorical_accuracy: 0.7919\n",
      "Epoch 40/512\n",
      "17/17 [==============================] - 1s 81ms/step - loss: 0.2694 - sparse_categorical_accuracy: 0.9049 - val_loss: 0.5824 - val_sparse_categorical_accuracy: 0.7861\n",
      "Epoch 41/512\n",
      "17/17 [==============================] - 1s 79ms/step - loss: 0.2817 - sparse_categorical_accuracy: 0.9025 - val_loss: 0.6103 - val_sparse_categorical_accuracy: 0.7881\n",
      "Epoch 42/512\n",
      "17/17 [==============================] - 1s 80ms/step - loss: 0.2667 - sparse_categorical_accuracy: 0.9115 - val_loss: 0.5858 - val_sparse_categorical_accuracy: 0.7842\n",
      "Epoch 43/512\n",
      "17/17 [==============================] - 1s 79ms/step - loss: 0.2750 - sparse_categorical_accuracy: 0.9030 - val_loss: 0.6143 - val_sparse_categorical_accuracy: 0.7803\n",
      "Epoch 44/512\n",
      "17/17 [==============================] - 1s 79ms/step - loss: 0.2622 - sparse_categorical_accuracy: 0.9148 - val_loss: 0.6157 - val_sparse_categorical_accuracy: 0.7919\n",
      "Epoch 45/512\n",
      "17/17 [==============================] - 1s 81ms/step - loss: 0.2591 - sparse_categorical_accuracy: 0.9091 - val_loss: 0.5936 - val_sparse_categorical_accuracy: 0.7861\n",
      "Epoch 46/512\n",
      "17/17 [==============================] - 1s 80ms/step - loss: 0.2597 - sparse_categorical_accuracy: 0.9162 - val_loss: 0.5941 - val_sparse_categorical_accuracy: 0.7842\n",
      "Epoch 47/512\n",
      "17/17 [==============================] - 1s 79ms/step - loss: 0.2500 - sparse_categorical_accuracy: 0.9228 - val_loss: 0.6015 - val_sparse_categorical_accuracy: 0.7842\n",
      "Epoch 48/512\n",
      "17/17 [==============================] - 1s 80ms/step - loss: 0.2485 - sparse_categorical_accuracy: 0.9153 - val_loss: 0.6015 - val_sparse_categorical_accuracy: 0.7861\n",
      "Epoch 49/512\n",
      "17/17 [==============================] - 1s 79ms/step - loss: 0.2488 - sparse_categorical_accuracy: 0.9214 - val_loss: 0.6212 - val_sparse_categorical_accuracy: 0.7842\n",
      "Epoch 50/512\n",
      "17/17 [==============================] - 1s 79ms/step - loss: 0.2387 - sparse_categorical_accuracy: 0.9157 - val_loss: 0.6011 - val_sparse_categorical_accuracy: 0.7842\n",
      "Epoch 51/512\n",
      "17/17 [==============================] - 1s 79ms/step - loss: 0.2294 - sparse_categorical_accuracy: 0.9247 - val_loss: 0.6238 - val_sparse_categorical_accuracy: 0.7765\n",
      "Epoch 52/512\n",
      "17/17 [==============================] - 1s 79ms/step - loss: 0.2399 - sparse_categorical_accuracy: 0.9204 - val_loss: 0.6148 - val_sparse_categorical_accuracy: 0.7823\n",
      "Epoch 53/512\n",
      "17/17 [==============================] - 1s 80ms/step - loss: 0.2398 - sparse_categorical_accuracy: 0.9209 - val_loss: 0.6238 - val_sparse_categorical_accuracy: 0.7900\n",
      "Epoch 54/512\n",
      "17/17 [==============================] - 1s 81ms/step - loss: 0.2370 - sparse_categorical_accuracy: 0.9228 - val_loss: 0.6142 - val_sparse_categorical_accuracy: 0.7881\n",
      "Epoch 55/512\n",
      "17/17 [==============================] - 1s 79ms/step - loss: 0.2272 - sparse_categorical_accuracy: 0.9294 - val_loss: 0.6289 - val_sparse_categorical_accuracy: 0.7842\n",
      "Epoch 56/512\n",
      "17/17 [==============================] - 1s 79ms/step - loss: 0.2249 - sparse_categorical_accuracy: 0.9256 - val_loss: 0.5993 - val_sparse_categorical_accuracy: 0.7881\n",
      "Epoch 57/512\n",
      "17/17 [==============================] - 1s 79ms/step - loss: 0.2265 - sparse_categorical_accuracy: 0.9256 - val_loss: 0.6153 - val_sparse_categorical_accuracy: 0.7823\n",
      "Epoch 58/512\n",
      "17/17 [==============================] - 1s 79ms/step - loss: 0.2226 - sparse_categorical_accuracy: 0.9331 - val_loss: 0.6074 - val_sparse_categorical_accuracy: 0.7803\n",
      "Epoch 59/512\n",
      "17/17 [==============================] - 1s 79ms/step - loss: 0.2170 - sparse_categorical_accuracy: 0.9284 - val_loss: 0.5985 - val_sparse_categorical_accuracy: 0.7900\n",
      "Epoch 60/512\n",
      "17/17 [==============================] - 1s 79ms/step - loss: 0.2137 - sparse_categorical_accuracy: 0.9383 - val_loss: 0.6176 - val_sparse_categorical_accuracy: 0.7823\n",
      "Epoch 61/512\n",
      "17/17 [==============================] - 1s 79ms/step - loss: 0.2085 - sparse_categorical_accuracy: 0.9388 - val_loss: 0.6156 - val_sparse_categorical_accuracy: 0.7842\n",
      "Epoch 62/512\n",
      "17/17 [==============================] - 1s 79ms/step - loss: 0.2183 - sparse_categorical_accuracy: 0.9251 - val_loss: 0.6226 - val_sparse_categorical_accuracy: 0.7784\n",
      "Epoch 63/512\n",
      "17/17 [==============================] - 1s 79ms/step - loss: 0.2141 - sparse_categorical_accuracy: 0.9308 - val_loss: 0.6295 - val_sparse_categorical_accuracy: 0.7861\n",
      "Epoch 64/512\n",
      "17/17 [==============================] - 1s 79ms/step - loss: 0.2014 - sparse_categorical_accuracy: 0.9341 - val_loss: 0.6332 - val_sparse_categorical_accuracy: 0.7765\n",
      "Epoch 65/512\n",
      "17/17 [==============================] - 1s 79ms/step - loss: 0.2139 - sparse_categorical_accuracy: 0.9266 - val_loss: 0.6350 - val_sparse_categorical_accuracy: 0.7900\n",
      "Epoch 66/512\n",
      "17/17 [==============================] - 1s 79ms/step - loss: 0.2075 - sparse_categorical_accuracy: 0.9341 - val_loss: 0.6364 - val_sparse_categorical_accuracy: 0.7881\n",
      "Epoch 67/512\n",
      "17/17 [==============================] - 1s 79ms/step - loss: 0.2052 - sparse_categorical_accuracy: 0.9350 - val_loss: 0.6335 - val_sparse_categorical_accuracy: 0.7861\n",
      "Epoch 68/512\n",
      "17/17 [==============================] - 1s 79ms/step - loss: 0.2139 - sparse_categorical_accuracy: 0.9369 - val_loss: 0.6344 - val_sparse_categorical_accuracy: 0.7861\n"
     ]
    },
    {
     "data": {
      "text/plain": "<Figure size 1296x432 with 2 Axes>",
      "image/png": "[encoded data removed]"
     },
     "metadata": {
      "needs_background": "light"
     },
     "output_type": "display_data"
    }
   ],
   "source": [
    "learning_rate_schedule = tf.keras.optimizers.schedules.ExponentialDecay(\n",
    "    initial_learning_rate=0.001,\n",
    "    decay_steps=train_x.shape[0] // BATCH_SIZE,\n",
    "    decay_rate=0.96,\n",
    "    staircase=True)\n",
    "\n",
    "early_stopping_callback = tf.keras.callbacks.EarlyStopping(monitor='val_loss', patience=32, restore_best_weights=True)\n",
    "\n",
    "\n",
    "def get_lstm_convolution_model(input_shape=(128, 7), n_output=16):\n",
    "    model = models.Sequential()\n",
    "    model.add(layers.LSTM(units=32, return_sequences=True, input_shape=input_shape))\n",
    "    model.add(layers.LSTM(units=32, return_sequences=True))\n",
    "\n",
    "    model.add(layers.Conv1D(filters=64, kernel_size=5, strides=2, activation=activations.relu))\n",
    "    model.add(layers.MaxPooling1D(pool_size=2))\n",
    "    model.add(layers.Conv1D(filters=128, kernel_size=3, activation=activations.relu))\n",
    "\n",
    "    model.add(layers.Flatten())\n",
    "    model.add(layers.Dropout(0.5))\n",
    "    model.add(layers.Dense(units=64, activation=activations.relu))\n",
    "    model.add(layers.BatchNormalization())\n",
    "    model.add(layers.Dense(units=n_output, activation=activations.softmax))\n",
    "    model.compile(\n",
    "        optimizer=optimizers.Adam(learning_rate=learning_rate_schedule),\n",
    "        loss=losses.sparse_categorical_crossentropy,\n",
    "        metrics=[metrics.SparseCategoricalAccuracy()]\n",
    "    )\n",
    "    return model\n",
    "\n",
    "\n",
    "lstm_convolution_model = get_lstm_convolution_model()\n",
    "\n",
    "lstm_convolution_model.summary()\n",
    "\n",
    "lstm_convolution_model_history = lstm_convolution_model.fit(\n",
    "    x=train_x, y=train_y,\n",
    "    shuffle=True, validation_data=(val_x, val_y),\n",
    "    epochs=N_EPOCHS, batch_size=BATCH_SIZE, callbacks=[early_stopping_callback])\n",
    "plot_history('LSTM Convolution Model', lstm_convolution_model_history)"
   ],
   "metadata": {
    "collapsed": false,
    "pycharm": {
     "name": "#%%\n"
    }
   }
  },
  {
   "cell_type": "code",
   "execution_count": 167,
   "metadata": {},
   "outputs": [
    {
     "name": "stdout",
     "output_type": "stream",
     "text": [
      "Epoch 1/512\n",
      "17/17 [==============================] - 10s 441ms/step - loss: 2.3684 - sparse_categorical_accuracy: 0.2759 - val_loss: 2.0104 - val_sparse_categorical_accuracy: 0.3333\n",
      "Epoch 2/512\n",
      "17/17 [==============================] - 7s 427ms/step - loss: 1.6899 - sparse_categorical_accuracy: 0.4477 - val_loss: 1.4573 - val_sparse_categorical_accuracy: 0.5048\n",
      "Epoch 3/512\n",
      "17/17 [==============================] - 7s 434ms/step - loss: 1.2301 - sparse_categorical_accuracy: 0.5956 - val_loss: 1.0294 - val_sparse_categorical_accuracy: 0.6628\n",
      "Epoch 4/512\n",
      "17/17 [==============================] - 8s 446ms/step - loss: 0.9170 - sparse_categorical_accuracy: 0.7057 - val_loss: 0.7943 - val_sparse_categorical_accuracy: 0.7572\n",
      "Epoch 5/512\n",
      "17/17 [==============================] - 8s 453ms/step - loss: 0.7357 - sparse_categorical_accuracy: 0.7632 - val_loss: 0.6554 - val_sparse_categorical_accuracy: 0.7958\n",
      "Epoch 6/512\n",
      "17/17 [==============================] - 8s 447ms/step - loss: 0.6331 - sparse_categorical_accuracy: 0.7660 - val_loss: 0.5798 - val_sparse_categorical_accuracy: 0.7977\n",
      "Epoch 7/512\n",
      "17/17 [==============================] - 8s 451ms/step - loss: 0.5960 - sparse_categorical_accuracy: 0.7806 - val_loss: 0.5420 - val_sparse_categorical_accuracy: 0.8266\n",
      "Epoch 8/512\n",
      "17/17 [==============================] - 8s 451ms/step - loss: 0.5476 - sparse_categorical_accuracy: 0.8079 - val_loss: 0.5331 - val_sparse_categorical_accuracy: 0.7977\n",
      "Epoch 9/512\n",
      "17/17 [==============================] - 8s 457ms/step - loss: 0.5193 - sparse_categorical_accuracy: 0.8089 - val_loss: 0.5130 - val_sparse_categorical_accuracy: 0.7881\n",
      "Epoch 10/512\n",
      "17/17 [==============================] - 8s 463ms/step - loss: 0.4898 - sparse_categorical_accuracy: 0.8225 - val_loss: 0.4474 - val_sparse_categorical_accuracy: 0.8324\n",
      "Epoch 11/512\n",
      "17/17 [==============================] - 8s 467ms/step - loss: 0.4758 - sparse_categorical_accuracy: 0.8230 - val_loss: 0.4837 - val_sparse_categorical_accuracy: 0.7996\n",
      "Epoch 12/512\n",
      "17/17 [==============================] - 8s 453ms/step - loss: 0.4610 - sparse_categorical_accuracy: 0.8206 - val_loss: 0.4666 - val_sparse_categorical_accuracy: 0.8112\n",
      "Epoch 13/512\n",
      "17/17 [==============================] - 8s 457ms/step - loss: 0.4247 - sparse_categorical_accuracy: 0.8493 - val_loss: 0.3965 - val_sparse_categorical_accuracy: 0.8536\n",
      "Epoch 14/512\n",
      "17/17 [==============================] - 8s 468ms/step - loss: 0.3833 - sparse_categorical_accuracy: 0.8653 - val_loss: 0.4129 - val_sparse_categorical_accuracy: 0.8478\n",
      "Epoch 15/512\n",
      "17/17 [==============================] - 8s 463ms/step - loss: 0.3616 - sparse_categorical_accuracy: 0.8795 - val_loss: 0.3823 - val_sparse_categorical_accuracy: 0.8478\n",
      "Epoch 16/512\n",
      "17/17 [==============================] - 8s 478ms/step - loss: 0.3614 - sparse_categorical_accuracy: 0.8729 - val_loss: 0.3896 - val_sparse_categorical_accuracy: 0.8516\n",
      "Epoch 17/512\n",
      "17/17 [==============================] - 8s 471ms/step - loss: 0.3338 - sparse_categorical_accuracy: 0.8832 - val_loss: 0.3694 - val_sparse_categorical_accuracy: 0.8613\n",
      "Epoch 18/512\n",
      "17/17 [==============================] - 8s 465ms/step - loss: 0.3312 - sparse_categorical_accuracy: 0.8851 - val_loss: 0.3557 - val_sparse_categorical_accuracy: 0.8613\n",
      "Epoch 19/512\n",
      "17/17 [==============================] - 8s 472ms/step - loss: 0.3410 - sparse_categorical_accuracy: 0.8781 - val_loss: 0.4159 - val_sparse_categorical_accuracy: 0.8304\n",
      "Epoch 20/512\n",
      "17/17 [==============================] - 8s 472ms/step - loss: 0.3292 - sparse_categorical_accuracy: 0.8922 - val_loss: 0.3590 - val_sparse_categorical_accuracy: 0.8536\n",
      "Epoch 21/512\n",
      "17/17 [==============================] - 8s 468ms/step - loss: 0.3277 - sparse_categorical_accuracy: 0.8814 - val_loss: 0.3559 - val_sparse_categorical_accuracy: 0.8651\n",
      "Epoch 22/512\n",
      "17/17 [==============================] - 8s 468ms/step - loss: 0.3202 - sparse_categorical_accuracy: 0.8861 - val_loss: 0.3830 - val_sparse_categorical_accuracy: 0.8574\n",
      "Epoch 23/512\n",
      "17/17 [==============================] - 8s 472ms/step - loss: 0.3161 - sparse_categorical_accuracy: 0.8837 - val_loss: 0.3845 - val_sparse_categorical_accuracy: 0.8382\n",
      "Epoch 24/512\n",
      "17/17 [==============================] - 8s 469ms/step - loss: 0.2880 - sparse_categorical_accuracy: 0.9011 - val_loss: 0.3217 - val_sparse_categorical_accuracy: 0.8805\n",
      "Epoch 25/512\n",
      "17/17 [==============================] - 8s 466ms/step - loss: 0.2673 - sparse_categorical_accuracy: 0.9063 - val_loss: 0.3041 - val_sparse_categorical_accuracy: 0.8767\n",
      "Epoch 26/512\n",
      "17/17 [==============================] - 8s 473ms/step - loss: 0.2620 - sparse_categorical_accuracy: 0.9049 - val_loss: 0.3327 - val_sparse_categorical_accuracy: 0.8593\n",
      "Epoch 27/512\n",
      "17/17 [==============================] - 8s 470ms/step - loss: 0.2589 - sparse_categorical_accuracy: 0.9091 - val_loss: 0.3332 - val_sparse_categorical_accuracy: 0.8671\n",
      "Epoch 28/512\n",
      "17/17 [==============================] - 8s 473ms/step - loss: 0.2695 - sparse_categorical_accuracy: 0.9002 - val_loss: 0.3299 - val_sparse_categorical_accuracy: 0.8574\n",
      "Epoch 29/512\n",
      "17/17 [==============================] - 8s 470ms/step - loss: 0.2642 - sparse_categorical_accuracy: 0.9025 - val_loss: 0.3178 - val_sparse_categorical_accuracy: 0.8709\n",
      "Epoch 30/512\n",
      "17/17 [==============================] - 8s 466ms/step - loss: 0.2649 - sparse_categorical_accuracy: 0.9030 - val_loss: 0.3509 - val_sparse_categorical_accuracy: 0.8748\n",
      "Epoch 31/512\n",
      "17/17 [==============================] - 8s 467ms/step - loss: 0.2593 - sparse_categorical_accuracy: 0.9082 - val_loss: 0.3173 - val_sparse_categorical_accuracy: 0.8767\n",
      "Epoch 32/512\n",
      "17/17 [==============================] - 8s 483ms/step - loss: 0.2477 - sparse_categorical_accuracy: 0.9115 - val_loss: 0.2873 - val_sparse_categorical_accuracy: 0.8844\n",
      "Epoch 33/512\n",
      "17/17 [==============================] - 8s 482ms/step - loss: 0.2997 - sparse_categorical_accuracy: 0.8879 - val_loss: 0.3128 - val_sparse_categorical_accuracy: 0.8767\n",
      "Epoch 34/512\n",
      "17/17 [==============================] - 8s 481ms/step - loss: 0.2575 - sparse_categorical_accuracy: 0.9054 - val_loss: 0.3161 - val_sparse_categorical_accuracy: 0.8632\n",
      "Epoch 35/512\n",
      "17/17 [==============================] - 8s 482ms/step - loss: 0.2414 - sparse_categorical_accuracy: 0.9115 - val_loss: 0.2922 - val_sparse_categorical_accuracy: 0.8825\n",
      "Epoch 36/512\n",
      "17/17 [==============================] - 8s 481ms/step - loss: 0.2301 - sparse_categorical_accuracy: 0.9200 - val_loss: 0.2832 - val_sparse_categorical_accuracy: 0.8960\n",
      "Epoch 37/512\n",
      "17/17 [==============================] - 8s 486ms/step - loss: 0.2225 - sparse_categorical_accuracy: 0.9190 - val_loss: 0.2814 - val_sparse_categorical_accuracy: 0.8960\n",
      "Epoch 38/512\n",
      "17/17 [==============================] - 8s 493ms/step - loss: 0.2142 - sparse_categorical_accuracy: 0.9218 - val_loss: 0.3076 - val_sparse_categorical_accuracy: 0.8767\n",
      "Epoch 39/512\n",
      "17/17 [==============================] - 8s 498ms/step - loss: 0.2132 - sparse_categorical_accuracy: 0.9204 - val_loss: 0.3020 - val_sparse_categorical_accuracy: 0.8844\n",
      "Epoch 40/512\n",
      "17/17 [==============================] - 8s 487ms/step - loss: 0.2050 - sparse_categorical_accuracy: 0.9284 - val_loss: 0.2987 - val_sparse_categorical_accuracy: 0.8805\n",
      "Epoch 41/512\n",
      "17/17 [==============================] - 8s 471ms/step - loss: 0.2050 - sparse_categorical_accuracy: 0.9289 - val_loss: 0.3133 - val_sparse_categorical_accuracy: 0.8863\n",
      "Epoch 42/512\n",
      "17/17 [==============================] - 8s 480ms/step - loss: 0.2052 - sparse_categorical_accuracy: 0.9233 - val_loss: 0.3024 - val_sparse_categorical_accuracy: 0.8748\n",
      "Epoch 43/512\n",
      "17/17 [==============================] - 8s 471ms/step - loss: 0.2019 - sparse_categorical_accuracy: 0.9294 - val_loss: 0.3057 - val_sparse_categorical_accuracy: 0.8844\n",
      "Epoch 44/512\n",
      "17/17 [==============================] - 8s 490ms/step - loss: 0.2104 - sparse_categorical_accuracy: 0.9204 - val_loss: 0.2984 - val_sparse_categorical_accuracy: 0.8979\n",
      "Epoch 45/512\n",
      "17/17 [==============================] - 8s 474ms/step - loss: 0.1963 - sparse_categorical_accuracy: 0.9298 - val_loss: 0.2978 - val_sparse_categorical_accuracy: 0.8767\n",
      "Epoch 46/512\n",
      "17/17 [==============================] - 8s 485ms/step - loss: 0.1915 - sparse_categorical_accuracy: 0.9346 - val_loss: 0.2712 - val_sparse_categorical_accuracy: 0.8979\n",
      "Epoch 47/512\n",
      "17/17 [==============================] - 8s 470ms/step - loss: 0.1796 - sparse_categorical_accuracy: 0.9341 - val_loss: 0.2836 - val_sparse_categorical_accuracy: 0.8940\n",
      "Epoch 48/512\n",
      "17/17 [==============================] - 8s 464ms/step - loss: 0.1687 - sparse_categorical_accuracy: 0.9421 - val_loss: 0.2876 - val_sparse_categorical_accuracy: 0.8825\n",
      "Epoch 49/512\n",
      "17/17 [==============================] - 8s 477ms/step - loss: 0.1755 - sparse_categorical_accuracy: 0.9350 - val_loss: 0.2918 - val_sparse_categorical_accuracy: 0.8863\n",
      "Epoch 50/512\n",
      "17/17 [==============================] - 8s 474ms/step - loss: 0.1786 - sparse_categorical_accuracy: 0.9336 - val_loss: 0.2616 - val_sparse_categorical_accuracy: 0.8960\n",
      "Epoch 51/512\n",
      "17/17 [==============================] - 8s 471ms/step - loss: 0.1723 - sparse_categorical_accuracy: 0.9383 - val_loss: 0.2930 - val_sparse_categorical_accuracy: 0.8921\n",
      "Epoch 52/512\n",
      "17/17 [==============================] - 8s 471ms/step - loss: 0.1843 - sparse_categorical_accuracy: 0.9313 - val_loss: 0.2733 - val_sparse_categorical_accuracy: 0.8863\n",
      "Epoch 53/512\n",
      "17/17 [==============================] - 8s 471ms/step - loss: 0.2014 - sparse_categorical_accuracy: 0.9270 - val_loss: 0.2907 - val_sparse_categorical_accuracy: 0.8863\n",
      "Epoch 54/512\n",
      "17/17 [==============================] - 8s 473ms/step - loss: 0.1793 - sparse_categorical_accuracy: 0.9350 - val_loss: 0.2774 - val_sparse_categorical_accuracy: 0.8998\n",
      "Epoch 55/512\n",
      "17/17 [==============================] - 8s 473ms/step - loss: 0.1651 - sparse_categorical_accuracy: 0.9449 - val_loss: 0.2592 - val_sparse_categorical_accuracy: 0.8960\n",
      "Epoch 56/512\n",
      "17/17 [==============================] - 8s 470ms/step - loss: 0.1648 - sparse_categorical_accuracy: 0.9360 - val_loss: 0.2960 - val_sparse_categorical_accuracy: 0.8902\n",
      "Epoch 57/512\n",
      "17/17 [==============================] - 8s 473ms/step - loss: 0.1618 - sparse_categorical_accuracy: 0.9444 - val_loss: 0.2792 - val_sparse_categorical_accuracy: 0.8844\n",
      "Epoch 58/512\n",
      "17/17 [==============================] - 8s 476ms/step - loss: 0.1536 - sparse_categorical_accuracy: 0.9430 - val_loss: 0.2651 - val_sparse_categorical_accuracy: 0.9017\n",
      "Epoch 59/512\n",
      "17/17 [==============================] - 8s 488ms/step - loss: 0.1500 - sparse_categorical_accuracy: 0.9430 - val_loss: 0.2825 - val_sparse_categorical_accuracy: 0.8902\n",
      "Epoch 60/512\n",
      "17/17 [==============================] - 8s 487ms/step - loss: 0.1450 - sparse_categorical_accuracy: 0.9430 - val_loss: 0.2635 - val_sparse_categorical_accuracy: 0.8863\n",
      "Epoch 61/512\n",
      "17/17 [==============================] - 8s 478ms/step - loss: 0.1450 - sparse_categorical_accuracy: 0.9506 - val_loss: 0.2902 - val_sparse_categorical_accuracy: 0.8805\n",
      "Epoch 62/512\n",
      "17/17 [==============================] - 8s 487ms/step - loss: 0.1424 - sparse_categorical_accuracy: 0.9473 - val_loss: 0.2890 - val_sparse_categorical_accuracy: 0.8844\n",
      "Epoch 63/512\n",
      "17/17 [==============================] - 8s 477ms/step - loss: 0.1513 - sparse_categorical_accuracy: 0.9449 - val_loss: 0.2670 - val_sparse_categorical_accuracy: 0.8786\n",
      "Epoch 64/512\n",
      "17/17 [==============================] - 8s 478ms/step - loss: 0.1407 - sparse_categorical_accuracy: 0.9553 - val_loss: 0.2717 - val_sparse_categorical_accuracy: 0.8979\n",
      "Epoch 65/512\n",
      "17/17 [==============================] - 8s 470ms/step - loss: 0.1275 - sparse_categorical_accuracy: 0.9590 - val_loss: 0.2663 - val_sparse_categorical_accuracy: 0.8882\n",
      "Epoch 66/512\n",
      "17/17 [==============================] - 8s 481ms/step - loss: 0.1265 - sparse_categorical_accuracy: 0.9543 - val_loss: 0.2756 - val_sparse_categorical_accuracy: 0.8921\n",
      "Epoch 67/512\n",
      "17/17 [==============================] - 8s 493ms/step - loss: 0.1386 - sparse_categorical_accuracy: 0.9496 - val_loss: 0.2793 - val_sparse_categorical_accuracy: 0.8882\n",
      "Epoch 68/512\n",
      "17/17 [==============================] - 8s 478ms/step - loss: 0.1374 - sparse_categorical_accuracy: 0.9539 - val_loss: 0.2524 - val_sparse_categorical_accuracy: 0.8998\n",
      "Epoch 69/512\n",
      "17/17 [==============================] - 8s 487ms/step - loss: 0.1329 - sparse_categorical_accuracy: 0.9501 - val_loss: 0.2684 - val_sparse_categorical_accuracy: 0.8921\n",
      "Epoch 70/512\n",
      "17/17 [==============================] - 8s 476ms/step - loss: 0.1491 - sparse_categorical_accuracy: 0.9468 - val_loss: 0.2551 - val_sparse_categorical_accuracy: 0.8979\n",
      "Epoch 71/512\n",
      "10/17 [================>.............] - ETA: 3s - loss: 0.1374 - sparse_categorical_accuracy: 0.9469"
     ]
    },
    {
     "ename": "KeyboardInterrupt",
     "evalue": "",
     "output_type": "error",
     "traceback": [
      "\u001B[1;31m---------------------------------------------------------------------------\u001B[0m",
      "\u001B[1;31mKeyboardInterrupt\u001B[0m                         Traceback (most recent call last)",
      "Input \u001B[1;32mIn [167]\u001B[0m, in \u001B[0;36m<cell line: 14>\u001B[1;34m()\u001B[0m\n\u001B[0;32m     10\u001B[0m     \u001B[38;5;28;01mreturn\u001B[39;00m model\n\u001B[0;32m     13\u001B[0m bidirectional_lstm_model \u001B[38;5;241m=\u001B[39m get_bidirectional_lstm_model()\n\u001B[1;32m---> 14\u001B[0m bidirectional_lstm_model_history \u001B[38;5;241m=\u001B[39m \u001B[43mbidirectional_lstm_model\u001B[49m\u001B[38;5;241;43m.\u001B[39;49m\u001B[43mfit\u001B[49m\u001B[43m(\u001B[49m\n\u001B[0;32m     15\u001B[0m \u001B[43m    \u001B[49m\u001B[43mx\u001B[49m\u001B[38;5;241;43m=\u001B[39;49m\u001B[43mtrain_x\u001B[49m\u001B[43m,\u001B[49m\u001B[43m \u001B[49m\u001B[43my\u001B[49m\u001B[38;5;241;43m=\u001B[39;49m\u001B[43mtrain_y\u001B[49m\u001B[43m,\u001B[49m\u001B[43m \u001B[49m\u001B[43mvalidation_data\u001B[49m\u001B[38;5;241;43m=\u001B[39;49m\u001B[43m(\u001B[49m\u001B[43mval_x\u001B[49m\u001B[43m,\u001B[49m\u001B[43m \u001B[49m\u001B[43mval_y\u001B[49m\u001B[43m)\u001B[49m\u001B[43m,\u001B[49m\u001B[43m \u001B[49m\u001B[43mepochs\u001B[49m\u001B[38;5;241;43m=\u001B[39;49m\u001B[43mN_EPOCHS\u001B[49m\u001B[43m,\u001B[49m\u001B[43m \u001B[49m\u001B[43mbatch_size\u001B[49m\u001B[38;5;241;43m=\u001B[39;49m\u001B[43mBATCH_SIZE\u001B[49m\u001B[43m,\u001B[49m\n\u001B[0;32m     16\u001B[0m \u001B[43m    \u001B[49m\u001B[43mcallbacks\u001B[49m\u001B[38;5;241;43m=\u001B[39;49m\u001B[43m[\u001B[49m\u001B[43mearly_stopping_callback\u001B[49m\u001B[43m]\u001B[49m\u001B[43m)\u001B[49m\n\u001B[0;32m     17\u001B[0m plot_history(\u001B[38;5;124m'\u001B[39m\u001B[38;5;124mBidirectional LSTM Model\u001B[39m\u001B[38;5;124m'\u001B[39m, bidirectional_lstm_model_history)\n",
      "File \u001B[1;32mC:\\ProgramData\\Anaconda3\\envs\\Project-Latansa\\lib\\site-packages\\keras\\utils\\traceback_utils.py:64\u001B[0m, in \u001B[0;36mfilter_traceback.<locals>.error_handler\u001B[1;34m(*args, **kwargs)\u001B[0m\n\u001B[0;32m     62\u001B[0m filtered_tb \u001B[38;5;241m=\u001B[39m \u001B[38;5;28;01mNone\u001B[39;00m\n\u001B[0;32m     63\u001B[0m \u001B[38;5;28;01mtry\u001B[39;00m:\n\u001B[1;32m---> 64\u001B[0m   \u001B[38;5;28;01mreturn\u001B[39;00m \u001B[43mfn\u001B[49m\u001B[43m(\u001B[49m\u001B[38;5;241;43m*\u001B[39;49m\u001B[43margs\u001B[49m\u001B[43m,\u001B[49m\u001B[43m \u001B[49m\u001B[38;5;241;43m*\u001B[39;49m\u001B[38;5;241;43m*\u001B[39;49m\u001B[43mkwargs\u001B[49m\u001B[43m)\u001B[49m\n\u001B[0;32m     65\u001B[0m \u001B[38;5;28;01mexcept\u001B[39;00m \u001B[38;5;167;01mException\u001B[39;00m \u001B[38;5;28;01mas\u001B[39;00m e:  \u001B[38;5;66;03m# pylint: disable=broad-except\u001B[39;00m\n\u001B[0;32m     66\u001B[0m   filtered_tb \u001B[38;5;241m=\u001B[39m _process_traceback_frames(e\u001B[38;5;241m.\u001B[39m__traceback__)\n",
      "File \u001B[1;32mC:\\ProgramData\\Anaconda3\\envs\\Project-Latansa\\lib\\site-packages\\keras\\engine\\training.py:1384\u001B[0m, in \u001B[0;36mModel.fit\u001B[1;34m(self, x, y, batch_size, epochs, verbose, callbacks, validation_split, validation_data, shuffle, class_weight, sample_weight, initial_epoch, steps_per_epoch, validation_steps, validation_batch_size, validation_freq, max_queue_size, workers, use_multiprocessing)\u001B[0m\n\u001B[0;32m   1377\u001B[0m \u001B[38;5;28;01mwith\u001B[39;00m tf\u001B[38;5;241m.\u001B[39mprofiler\u001B[38;5;241m.\u001B[39mexperimental\u001B[38;5;241m.\u001B[39mTrace(\n\u001B[0;32m   1378\u001B[0m     \u001B[38;5;124m'\u001B[39m\u001B[38;5;124mtrain\u001B[39m\u001B[38;5;124m'\u001B[39m,\n\u001B[0;32m   1379\u001B[0m     epoch_num\u001B[38;5;241m=\u001B[39mepoch,\n\u001B[0;32m   1380\u001B[0m     step_num\u001B[38;5;241m=\u001B[39mstep,\n\u001B[0;32m   1381\u001B[0m     batch_size\u001B[38;5;241m=\u001B[39mbatch_size,\n\u001B[0;32m   1382\u001B[0m     _r\u001B[38;5;241m=\u001B[39m\u001B[38;5;241m1\u001B[39m):\n\u001B[0;32m   1383\u001B[0m   callbacks\u001B[38;5;241m.\u001B[39mon_train_batch_begin(step)\n\u001B[1;32m-> 1384\u001B[0m   tmp_logs \u001B[38;5;241m=\u001B[39m \u001B[38;5;28;43mself\u001B[39;49m\u001B[38;5;241;43m.\u001B[39;49m\u001B[43mtrain_function\u001B[49m\u001B[43m(\u001B[49m\u001B[43miterator\u001B[49m\u001B[43m)\u001B[49m\n\u001B[0;32m   1385\u001B[0m   \u001B[38;5;28;01mif\u001B[39;00m data_handler\u001B[38;5;241m.\u001B[39mshould_sync:\n\u001B[0;32m   1386\u001B[0m     context\u001B[38;5;241m.\u001B[39masync_wait()\n",
      "File \u001B[1;32mC:\\ProgramData\\Anaconda3\\envs\\Project-Latansa\\lib\\site-packages\\tensorflow\\python\\util\\traceback_utils.py:150\u001B[0m, in \u001B[0;36mfilter_traceback.<locals>.error_handler\u001B[1;34m(*args, **kwargs)\u001B[0m\n\u001B[0;32m    148\u001B[0m filtered_tb \u001B[38;5;241m=\u001B[39m \u001B[38;5;28;01mNone\u001B[39;00m\n\u001B[0;32m    149\u001B[0m \u001B[38;5;28;01mtry\u001B[39;00m:\n\u001B[1;32m--> 150\u001B[0m   \u001B[38;5;28;01mreturn\u001B[39;00m \u001B[43mfn\u001B[49m\u001B[43m(\u001B[49m\u001B[38;5;241;43m*\u001B[39;49m\u001B[43margs\u001B[49m\u001B[43m,\u001B[49m\u001B[43m \u001B[49m\u001B[38;5;241;43m*\u001B[39;49m\u001B[38;5;241;43m*\u001B[39;49m\u001B[43mkwargs\u001B[49m\u001B[43m)\u001B[49m\n\u001B[0;32m    151\u001B[0m \u001B[38;5;28;01mexcept\u001B[39;00m \u001B[38;5;167;01mException\u001B[39;00m \u001B[38;5;28;01mas\u001B[39;00m e:\n\u001B[0;32m    152\u001B[0m   filtered_tb \u001B[38;5;241m=\u001B[39m _process_traceback_frames(e\u001B[38;5;241m.\u001B[39m__traceback__)\n",
      "File \u001B[1;32mC:\\ProgramData\\Anaconda3\\envs\\Project-Latansa\\lib\\site-packages\\tensorflow\\python\\eager\\def_function.py:915\u001B[0m, in \u001B[0;36mFunction.__call__\u001B[1;34m(self, *args, **kwds)\u001B[0m\n\u001B[0;32m    912\u001B[0m compiler \u001B[38;5;241m=\u001B[39m \u001B[38;5;124m\"\u001B[39m\u001B[38;5;124mxla\u001B[39m\u001B[38;5;124m\"\u001B[39m \u001B[38;5;28;01mif\u001B[39;00m \u001B[38;5;28mself\u001B[39m\u001B[38;5;241m.\u001B[39m_jit_compile \u001B[38;5;28;01melse\u001B[39;00m \u001B[38;5;124m\"\u001B[39m\u001B[38;5;124mnonXla\u001B[39m\u001B[38;5;124m\"\u001B[39m\n\u001B[0;32m    914\u001B[0m \u001B[38;5;28;01mwith\u001B[39;00m OptionalXlaContext(\u001B[38;5;28mself\u001B[39m\u001B[38;5;241m.\u001B[39m_jit_compile):\n\u001B[1;32m--> 915\u001B[0m   result \u001B[38;5;241m=\u001B[39m \u001B[38;5;28;43mself\u001B[39;49m\u001B[38;5;241;43m.\u001B[39;49m\u001B[43m_call\u001B[49m\u001B[43m(\u001B[49m\u001B[38;5;241;43m*\u001B[39;49m\u001B[43margs\u001B[49m\u001B[43m,\u001B[49m\u001B[43m \u001B[49m\u001B[38;5;241;43m*\u001B[39;49m\u001B[38;5;241;43m*\u001B[39;49m\u001B[43mkwds\u001B[49m\u001B[43m)\u001B[49m\n\u001B[0;32m    917\u001B[0m new_tracing_count \u001B[38;5;241m=\u001B[39m \u001B[38;5;28mself\u001B[39m\u001B[38;5;241m.\u001B[39mexperimental_get_tracing_count()\n\u001B[0;32m    918\u001B[0m without_tracing \u001B[38;5;241m=\u001B[39m (tracing_count \u001B[38;5;241m==\u001B[39m new_tracing_count)\n",
      "File \u001B[1;32mC:\\ProgramData\\Anaconda3\\envs\\Project-Latansa\\lib\\site-packages\\tensorflow\\python\\eager\\def_function.py:947\u001B[0m, in \u001B[0;36mFunction._call\u001B[1;34m(self, *args, **kwds)\u001B[0m\n\u001B[0;32m    944\u001B[0m   \u001B[38;5;28mself\u001B[39m\u001B[38;5;241m.\u001B[39m_lock\u001B[38;5;241m.\u001B[39mrelease()\n\u001B[0;32m    945\u001B[0m   \u001B[38;5;66;03m# In this case we have created variables on the first call, so we run the\u001B[39;00m\n\u001B[0;32m    946\u001B[0m   \u001B[38;5;66;03m# defunned version which is guaranteed to never create variables.\u001B[39;00m\n\u001B[1;32m--> 947\u001B[0m   \u001B[38;5;28;01mreturn\u001B[39;00m \u001B[38;5;28;43mself\u001B[39;49m\u001B[38;5;241;43m.\u001B[39;49m\u001B[43m_stateless_fn\u001B[49m\u001B[43m(\u001B[49m\u001B[38;5;241;43m*\u001B[39;49m\u001B[43margs\u001B[49m\u001B[43m,\u001B[49m\u001B[43m \u001B[49m\u001B[38;5;241;43m*\u001B[39;49m\u001B[38;5;241;43m*\u001B[39;49m\u001B[43mkwds\u001B[49m\u001B[43m)\u001B[49m  \u001B[38;5;66;03m# pylint: disable=not-callable\u001B[39;00m\n\u001B[0;32m    948\u001B[0m \u001B[38;5;28;01melif\u001B[39;00m \u001B[38;5;28mself\u001B[39m\u001B[38;5;241m.\u001B[39m_stateful_fn \u001B[38;5;129;01mis\u001B[39;00m \u001B[38;5;129;01mnot\u001B[39;00m \u001B[38;5;28;01mNone\u001B[39;00m:\n\u001B[0;32m    949\u001B[0m   \u001B[38;5;66;03m# Release the lock early so that multiple threads can perform the call\u001B[39;00m\n\u001B[0;32m    950\u001B[0m   \u001B[38;5;66;03m# in parallel.\u001B[39;00m\n\u001B[0;32m    951\u001B[0m   \u001B[38;5;28mself\u001B[39m\u001B[38;5;241m.\u001B[39m_lock\u001B[38;5;241m.\u001B[39mrelease()\n",
      "File \u001B[1;32mC:\\ProgramData\\Anaconda3\\envs\\Project-Latansa\\lib\\site-packages\\tensorflow\\python\\eager\\function.py:2956\u001B[0m, in \u001B[0;36mFunction.__call__\u001B[1;34m(self, *args, **kwargs)\u001B[0m\n\u001B[0;32m   2953\u001B[0m \u001B[38;5;28;01mwith\u001B[39;00m \u001B[38;5;28mself\u001B[39m\u001B[38;5;241m.\u001B[39m_lock:\n\u001B[0;32m   2954\u001B[0m   (graph_function,\n\u001B[0;32m   2955\u001B[0m    filtered_flat_args) \u001B[38;5;241m=\u001B[39m \u001B[38;5;28mself\u001B[39m\u001B[38;5;241m.\u001B[39m_maybe_define_function(args, kwargs)\n\u001B[1;32m-> 2956\u001B[0m \u001B[38;5;28;01mreturn\u001B[39;00m \u001B[43mgraph_function\u001B[49m\u001B[38;5;241;43m.\u001B[39;49m\u001B[43m_call_flat\u001B[49m\u001B[43m(\u001B[49m\n\u001B[0;32m   2957\u001B[0m \u001B[43m    \u001B[49m\u001B[43mfiltered_flat_args\u001B[49m\u001B[43m,\u001B[49m\u001B[43m \u001B[49m\u001B[43mcaptured_inputs\u001B[49m\u001B[38;5;241;43m=\u001B[39;49m\u001B[43mgraph_function\u001B[49m\u001B[38;5;241;43m.\u001B[39;49m\u001B[43mcaptured_inputs\u001B[49m\u001B[43m)\u001B[49m\n",
      "File \u001B[1;32mC:\\ProgramData\\Anaconda3\\envs\\Project-Latansa\\lib\\site-packages\\tensorflow\\python\\eager\\function.py:1853\u001B[0m, in \u001B[0;36mConcreteFunction._call_flat\u001B[1;34m(self, args, captured_inputs, cancellation_manager)\u001B[0m\n\u001B[0;32m   1849\u001B[0m possible_gradient_type \u001B[38;5;241m=\u001B[39m gradients_util\u001B[38;5;241m.\u001B[39mPossibleTapeGradientTypes(args)\n\u001B[0;32m   1850\u001B[0m \u001B[38;5;28;01mif\u001B[39;00m (possible_gradient_type \u001B[38;5;241m==\u001B[39m gradients_util\u001B[38;5;241m.\u001B[39mPOSSIBLE_GRADIENT_TYPES_NONE\n\u001B[0;32m   1851\u001B[0m     \u001B[38;5;129;01mand\u001B[39;00m executing_eagerly):\n\u001B[0;32m   1852\u001B[0m   \u001B[38;5;66;03m# No tape is watching; skip to running the function.\u001B[39;00m\n\u001B[1;32m-> 1853\u001B[0m   \u001B[38;5;28;01mreturn\u001B[39;00m \u001B[38;5;28mself\u001B[39m\u001B[38;5;241m.\u001B[39m_build_call_outputs(\u001B[38;5;28;43mself\u001B[39;49m\u001B[38;5;241;43m.\u001B[39;49m\u001B[43m_inference_function\u001B[49m\u001B[38;5;241;43m.\u001B[39;49m\u001B[43mcall\u001B[49m\u001B[43m(\u001B[49m\n\u001B[0;32m   1854\u001B[0m \u001B[43m      \u001B[49m\u001B[43mctx\u001B[49m\u001B[43m,\u001B[49m\u001B[43m \u001B[49m\u001B[43margs\u001B[49m\u001B[43m,\u001B[49m\u001B[43m \u001B[49m\u001B[43mcancellation_manager\u001B[49m\u001B[38;5;241;43m=\u001B[39;49m\u001B[43mcancellation_manager\u001B[49m\u001B[43m)\u001B[49m)\n\u001B[0;32m   1855\u001B[0m forward_backward \u001B[38;5;241m=\u001B[39m \u001B[38;5;28mself\u001B[39m\u001B[38;5;241m.\u001B[39m_select_forward_and_backward_functions(\n\u001B[0;32m   1856\u001B[0m     args,\n\u001B[0;32m   1857\u001B[0m     possible_gradient_type,\n\u001B[0;32m   1858\u001B[0m     executing_eagerly)\n\u001B[0;32m   1859\u001B[0m forward_function, args_with_tangents \u001B[38;5;241m=\u001B[39m forward_backward\u001B[38;5;241m.\u001B[39mforward()\n",
      "File \u001B[1;32mC:\\ProgramData\\Anaconda3\\envs\\Project-Latansa\\lib\\site-packages\\tensorflow\\python\\eager\\function.py:499\u001B[0m, in \u001B[0;36m_EagerDefinedFunction.call\u001B[1;34m(self, ctx, args, cancellation_manager)\u001B[0m\n\u001B[0;32m    497\u001B[0m \u001B[38;5;28;01mwith\u001B[39;00m _InterpolateFunctionError(\u001B[38;5;28mself\u001B[39m):\n\u001B[0;32m    498\u001B[0m   \u001B[38;5;28;01mif\u001B[39;00m cancellation_manager \u001B[38;5;129;01mis\u001B[39;00m \u001B[38;5;28;01mNone\u001B[39;00m:\n\u001B[1;32m--> 499\u001B[0m     outputs \u001B[38;5;241m=\u001B[39m \u001B[43mexecute\u001B[49m\u001B[38;5;241;43m.\u001B[39;49m\u001B[43mexecute\u001B[49m\u001B[43m(\u001B[49m\n\u001B[0;32m    500\u001B[0m \u001B[43m        \u001B[49m\u001B[38;5;28;43mstr\u001B[39;49m\u001B[43m(\u001B[49m\u001B[38;5;28;43mself\u001B[39;49m\u001B[38;5;241;43m.\u001B[39;49m\u001B[43msignature\u001B[49m\u001B[38;5;241;43m.\u001B[39;49m\u001B[43mname\u001B[49m\u001B[43m)\u001B[49m\u001B[43m,\u001B[49m\n\u001B[0;32m    501\u001B[0m \u001B[43m        \u001B[49m\u001B[43mnum_outputs\u001B[49m\u001B[38;5;241;43m=\u001B[39;49m\u001B[38;5;28;43mself\u001B[39;49m\u001B[38;5;241;43m.\u001B[39;49m\u001B[43m_num_outputs\u001B[49m\u001B[43m,\u001B[49m\n\u001B[0;32m    502\u001B[0m \u001B[43m        \u001B[49m\u001B[43minputs\u001B[49m\u001B[38;5;241;43m=\u001B[39;49m\u001B[43margs\u001B[49m\u001B[43m,\u001B[49m\n\u001B[0;32m    503\u001B[0m \u001B[43m        \u001B[49m\u001B[43mattrs\u001B[49m\u001B[38;5;241;43m=\u001B[39;49m\u001B[43mattrs\u001B[49m\u001B[43m,\u001B[49m\n\u001B[0;32m    504\u001B[0m \u001B[43m        \u001B[49m\u001B[43mctx\u001B[49m\u001B[38;5;241;43m=\u001B[39;49m\u001B[43mctx\u001B[49m\u001B[43m)\u001B[49m\n\u001B[0;32m    505\u001B[0m   \u001B[38;5;28;01melse\u001B[39;00m:\n\u001B[0;32m    506\u001B[0m     outputs \u001B[38;5;241m=\u001B[39m execute\u001B[38;5;241m.\u001B[39mexecute_with_cancellation(\n\u001B[0;32m    507\u001B[0m         \u001B[38;5;28mstr\u001B[39m(\u001B[38;5;28mself\u001B[39m\u001B[38;5;241m.\u001B[39msignature\u001B[38;5;241m.\u001B[39mname),\n\u001B[0;32m    508\u001B[0m         num_outputs\u001B[38;5;241m=\u001B[39m\u001B[38;5;28mself\u001B[39m\u001B[38;5;241m.\u001B[39m_num_outputs,\n\u001B[1;32m   (...)\u001B[0m\n\u001B[0;32m    511\u001B[0m         ctx\u001B[38;5;241m=\u001B[39mctx,\n\u001B[0;32m    512\u001B[0m         cancellation_manager\u001B[38;5;241m=\u001B[39mcancellation_manager)\n",
      "File \u001B[1;32mC:\\ProgramData\\Anaconda3\\envs\\Project-Latansa\\lib\\site-packages\\tensorflow\\python\\eager\\execute.py:54\u001B[0m, in \u001B[0;36mquick_execute\u001B[1;34m(op_name, num_outputs, inputs, attrs, ctx, name)\u001B[0m\n\u001B[0;32m     52\u001B[0m \u001B[38;5;28;01mtry\u001B[39;00m:\n\u001B[0;32m     53\u001B[0m   ctx\u001B[38;5;241m.\u001B[39mensure_initialized()\n\u001B[1;32m---> 54\u001B[0m   tensors \u001B[38;5;241m=\u001B[39m \u001B[43mpywrap_tfe\u001B[49m\u001B[38;5;241;43m.\u001B[39;49m\u001B[43mTFE_Py_Execute\u001B[49m\u001B[43m(\u001B[49m\u001B[43mctx\u001B[49m\u001B[38;5;241;43m.\u001B[39;49m\u001B[43m_handle\u001B[49m\u001B[43m,\u001B[49m\u001B[43m \u001B[49m\u001B[43mdevice_name\u001B[49m\u001B[43m,\u001B[49m\u001B[43m \u001B[49m\u001B[43mop_name\u001B[49m\u001B[43m,\u001B[49m\n\u001B[0;32m     55\u001B[0m \u001B[43m                                      \u001B[49m\u001B[43minputs\u001B[49m\u001B[43m,\u001B[49m\u001B[43m \u001B[49m\u001B[43mattrs\u001B[49m\u001B[43m,\u001B[49m\u001B[43m \u001B[49m\u001B[43mnum_outputs\u001B[49m\u001B[43m)\u001B[49m\n\u001B[0;32m     56\u001B[0m \u001B[38;5;28;01mexcept\u001B[39;00m core\u001B[38;5;241m.\u001B[39m_NotOkStatusException \u001B[38;5;28;01mas\u001B[39;00m e:\n\u001B[0;32m     57\u001B[0m   \u001B[38;5;28;01mif\u001B[39;00m name \u001B[38;5;129;01mis\u001B[39;00m \u001B[38;5;129;01mnot\u001B[39;00m \u001B[38;5;28;01mNone\u001B[39;00m:\n",
      "\u001B[1;31mKeyboardInterrupt\u001B[0m: "
     ]
    }
   ],
   "source": [
    "def get_bidirectional_lstm_model(input_shape=(128, 7), n_output=16):\n",
    "    model = models.Sequential()\n",
    "    model.add(layers.Bidirectional(layers.LSTM(units=128, input_shape=input_shape)))\n",
    "    model.add(layers.Dense(units=n_output, activation=activations.softmax))\n",
    "    model.compile(\n",
    "        optimizer=optimizers.Adam(learning_rate=1e-3),\n",
    "        loss=losses.sparse_categorical_crossentropy,\n",
    "        metrics=[metrics.SparseCategoricalAccuracy()]\n",
    "    )\n",
    "    return model\n",
    "\n",
    "\n",
    "bidirectional_lstm_model = get_bidirectional_lstm_model()\n",
    "bidirectional_lstm_model_history = bidirectional_lstm_model.fit(\n",
    "    x=train_x, y=train_y, validation_data=(val_x, val_y), epochs=N_EPOCHS, batch_size=BATCH_SIZE,\n",
    "    callbacks=[early_stopping_callback])\n",
    "plot_history('Bidirectional LSTM Model', bidirectional_lstm_model_history)"
   ]
  },
  {
   "cell_type": "code",
   "execution_count": null,
   "metadata": {},
   "outputs": [],
   "source": [
    "def get_stacked_bidirectional_lstm_model(input_shape=(128, 7), n_output=16):\n",
    "    model = models.Sequential()\n",
    "    model.add(layers.Bidirectional(layers.LSTM(units=128, return_sequences=True, input_shape=input_shape)))\n",
    "    model.add(layers.Bidirectional(layers.LSTM(units=32)))\n",
    "    model.add(layers.Dense(units=n_output, activation=activations.softmax))\n",
    "    model.compile(\n",
    "        optimizer=optimizers.Adam(learning_rate=1e-3),\n",
    "        loss=losses.sparse_categorical_crossentropy,\n",
    "        metrics=[metrics.SparseCategoricalAccuracy()]\n",
    "    )\n",
    "    return model\n",
    "\n",
    "\n",
    "stacked_bidirectional_lstm_model = get_stacked_bidirectional_lstm_model()\n",
    "stacked_bidirectional_lstm_model_history = stacked_bidirectional_lstm_model.fit(\n",
    "    x=train_x, y=train_y, validation_data=(val_x, val_y), epochs=32, callbacks=[early_stopping_callback])\n",
    "plot_history('Stacked Bidirectional LSTM Model', stacked_bidirectional_lstm_model_history)"
   ]
  },
  {
   "cell_type": "code",
   "execution_count": null,
   "metadata": {},
   "outputs": [],
   "source": []
  }
 ],
 "metadata": {
  "interpreter": {
   "hash": "c5e48f84046969b800ff52f6d80523bcd1ca3fb1a99f1449e4197bf6c73dc096"
  },
  "kernelspec": {
   "display_name": "Python 3.9.7 64-bit ('base': conda)",
   "language": "python",
   "name": "python3"
  },
  "language_info": {
   "codemirror_mode": {
    "name": "ipython",
    "version": 3
   },
   "file_extension": ".py",
   "mimetype": "text/x-python",
   "name": "python",
   "nbconvert_exporter": "python",
   "pygments_lexer": "ipython3",
   "version": "3.9.7"
  },
  "orig_nbformat": 4
 },
 "nbformat": 4,
 "nbformat_minor": 2
}