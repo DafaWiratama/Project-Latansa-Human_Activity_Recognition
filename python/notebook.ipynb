{
 "cells": [
  {
   "cell_type": "code",
   "execution_count": 68,
   "metadata": {},
   "outputs": [],
   "source": [
    "import pandas as pd\n",
    "import numpy as np\n",
    "import tensorflow as tf\n",
    "from tensorflow.keras import layers, models, activations, losses, optimizers, metrics\n",
    "from matplotlib import pyplot as plt\n",
    "import plotly.graph_objects as go\n",
    "import plotly.express as px"
   ]
  },
  {
   "cell_type": "code",
   "execution_count": 34,
   "metadata": {},
   "outputs": [],
   "source": [
    "train_df = pd.read_csv(\"dataset_train.csv\")\n",
    "val_df = pd.read_csv(\"dataset_val.csv\")"
   ]
  },
  {
   "cell_type": "code",
   "execution_count": 35,
   "metadata": {},
   "outputs": [
    {
     "data": {
      "text/plain": "       accelerometer_x  accelerometer_y  accelerometer_z  gyroscope_x  \\\n0            -0.774121        -9.433371         1.784629     0.012470   \n1            -0.759082        -9.441336         1.766234     0.001488   \n2            -0.726570        -9.446578         1.737082    -0.009375   \n3            -0.691625        -9.455801         1.717754    -0.010948   \n4            -0.647156        -9.461336         1.690160    -0.010913   \n...                ...              ...              ...          ...   \n17115        -0.369055        -9.602301         1.091332     0.004793   \n17116        -0.379781        -9.598336         1.106293     0.004885   \n17117        -0.388988        -9.594660         1.121250     0.006213   \n17118        -0.396617        -9.593133         1.142656     0.007079   \n17119        -0.392949        -9.590074         1.152445     0.005078   \n\n       gyroscope_y  gyroscope_z  state  \n0        -0.020279     0.001386  STAND  \n1        -0.017445    -0.002156  STAND  \n2        -0.016630    -0.005044  STAND  \n3        -0.015826    -0.009066  STAND  \n4        -0.018142    -0.011370  STAND  \n...            ...          ...    ...  \n17115     0.006843     0.002358  STAND  \n17116     0.004316     0.003684  STAND  \n17117     0.007398     0.003539  STAND  \n17118     0.007009     0.003251  STAND  \n17119     0.004108     0.003950  STAND  \n\n[17120 rows x 7 columns]",
      "text/html": "<div>\n<style scoped>\n    .dataframe tbody tr th:only-of-type {\n        vertical-align: middle;\n    }\n\n    .dataframe tbody tr th {\n        vertical-align: top;\n    }\n\n    .dataframe thead th {\n        text-align: right;\n    }\n</style>\n<table border=\"1\" class=\"dataframe\">\n  <thead>\n    <tr style=\"text-align: right;\">\n      <th></th>\n      <th>accelerometer_x</th>\n      <th>accelerometer_y</th>\n      <th>accelerometer_z</th>\n      <th>gyroscope_x</th>\n      <th>gyroscope_y</th>\n      <th>gyroscope_z</th>\n      <th>state</th>\n    </tr>\n  </thead>\n  <tbody>\n    <tr>\n      <th>0</th>\n      <td>-0.774121</td>\n      <td>-9.433371</td>\n      <td>1.784629</td>\n      <td>0.012470</td>\n      <td>-0.020279</td>\n      <td>0.001386</td>\n      <td>STAND</td>\n    </tr>\n    <tr>\n      <th>1</th>\n      <td>-0.759082</td>\n      <td>-9.441336</td>\n      <td>1.766234</td>\n      <td>0.001488</td>\n      <td>-0.017445</td>\n      <td>-0.002156</td>\n      <td>STAND</td>\n    </tr>\n    <tr>\n      <th>2</th>\n      <td>-0.726570</td>\n      <td>-9.446578</td>\n      <td>1.737082</td>\n      <td>-0.009375</td>\n      <td>-0.016630</td>\n      <td>-0.005044</td>\n      <td>STAND</td>\n    </tr>\n    <tr>\n      <th>3</th>\n      <td>-0.691625</td>\n      <td>-9.455801</td>\n      <td>1.717754</td>\n      <td>-0.010948</td>\n      <td>-0.015826</td>\n      <td>-0.009066</td>\n      <td>STAND</td>\n    </tr>\n    <tr>\n      <th>4</th>\n      <td>-0.647156</td>\n      <td>-9.461336</td>\n      <td>1.690160</td>\n      <td>-0.010913</td>\n      <td>-0.018142</td>\n      <td>-0.011370</td>\n      <td>STAND</td>\n    </tr>\n    <tr>\n      <th>...</th>\n      <td>...</td>\n      <td>...</td>\n      <td>...</td>\n      <td>...</td>\n      <td>...</td>\n      <td>...</td>\n      <td>...</td>\n    </tr>\n    <tr>\n      <th>17115</th>\n      <td>-0.369055</td>\n      <td>-9.602301</td>\n      <td>1.091332</td>\n      <td>0.004793</td>\n      <td>0.006843</td>\n      <td>0.002358</td>\n      <td>STAND</td>\n    </tr>\n    <tr>\n      <th>17116</th>\n      <td>-0.379781</td>\n      <td>-9.598336</td>\n      <td>1.106293</td>\n      <td>0.004885</td>\n      <td>0.004316</td>\n      <td>0.003684</td>\n      <td>STAND</td>\n    </tr>\n    <tr>\n      <th>17117</th>\n      <td>-0.388988</td>\n      <td>-9.594660</td>\n      <td>1.121250</td>\n      <td>0.006213</td>\n      <td>0.007398</td>\n      <td>0.003539</td>\n      <td>STAND</td>\n    </tr>\n    <tr>\n      <th>17118</th>\n      <td>-0.396617</td>\n      <td>-9.593133</td>\n      <td>1.142656</td>\n      <td>0.007079</td>\n      <td>0.007009</td>\n      <td>0.003251</td>\n      <td>STAND</td>\n    </tr>\n    <tr>\n      <th>17119</th>\n      <td>-0.392949</td>\n      <td>-9.590074</td>\n      <td>1.152445</td>\n      <td>0.005078</td>\n      <td>0.004108</td>\n      <td>0.003950</td>\n      <td>STAND</td>\n    </tr>\n  </tbody>\n</table>\n<p>17120 rows × 7 columns</p>\n</div>"
     },
     "execution_count": 35,
     "metadata": {},
     "output_type": "execute_result"
    }
   ],
   "source": [
    "train_df"
   ]
  },
  {
   "cell_type": "code",
   "execution_count": 36,
   "metadata": {},
   "outputs": [],
   "source": [
    "def encode(df):\n",
    "    df.state = df.state.astype('category')\n",
    "    df.state = df.state.cat.codes\n",
    "    return df\n",
    "\n",
    "\n",
    "train_df = encode(train_df)\n",
    "val_df = encode(val_df)"
   ]
  },
  {
   "cell_type": "code",
   "execution_count": 37,
   "metadata": {},
   "outputs": [
    {
     "data": {
      "text/plain": "       accelerometer_x  accelerometer_y  accelerometer_z  gyroscope_x  \\\n0            -0.774121        -9.433371         1.784629     0.012470   \n1            -0.759082        -9.441336         1.766234     0.001488   \n2            -0.726570        -9.446578         1.737082    -0.009375   \n3            -0.691625        -9.455801         1.717754    -0.010948   \n4            -0.647156        -9.461336         1.690160    -0.010913   \n...                ...              ...              ...          ...   \n17115        -0.369055        -9.602301         1.091332     0.004793   \n17116        -0.379781        -9.598336         1.106293     0.004885   \n17117        -0.388988        -9.594660         1.121250     0.006213   \n17118        -0.396617        -9.593133         1.142656     0.007079   \n17119        -0.392949        -9.590074         1.152445     0.005078   \n\n       gyroscope_y  gyroscope_z  state  \n0        -0.020279     0.001386      8  \n1        -0.017445    -0.002156      8  \n2        -0.016630    -0.005044      8  \n3        -0.015826    -0.009066      8  \n4        -0.018142    -0.011370      8  \n...            ...          ...    ...  \n17115     0.006843     0.002358      8  \n17116     0.004316     0.003684      8  \n17117     0.007398     0.003539      8  \n17118     0.007009     0.003251      8  \n17119     0.004108     0.003950      8  \n\n[17120 rows x 7 columns]",
      "text/html": "<div>\n<style scoped>\n    .dataframe tbody tr th:only-of-type {\n        vertical-align: middle;\n    }\n\n    .dataframe tbody tr th {\n        vertical-align: top;\n    }\n\n    .dataframe thead th {\n        text-align: right;\n    }\n</style>\n<table border=\"1\" class=\"dataframe\">\n  <thead>\n    <tr style=\"text-align: right;\">\n      <th></th>\n      <th>accelerometer_x</th>\n      <th>accelerometer_y</th>\n      <th>accelerometer_z</th>\n      <th>gyroscope_x</th>\n      <th>gyroscope_y</th>\n      <th>gyroscope_z</th>\n      <th>state</th>\n    </tr>\n  </thead>\n  <tbody>\n    <tr>\n      <th>0</th>\n      <td>-0.774121</td>\n      <td>-9.433371</td>\n      <td>1.784629</td>\n      <td>0.012470</td>\n      <td>-0.020279</td>\n      <td>0.001386</td>\n      <td>8</td>\n    </tr>\n    <tr>\n      <th>1</th>\n      <td>-0.759082</td>\n      <td>-9.441336</td>\n      <td>1.766234</td>\n      <td>0.001488</td>\n      <td>-0.017445</td>\n      <td>-0.002156</td>\n      <td>8</td>\n    </tr>\n    <tr>\n      <th>2</th>\n      <td>-0.726570</td>\n      <td>-9.446578</td>\n      <td>1.737082</td>\n      <td>-0.009375</td>\n      <td>-0.016630</td>\n      <td>-0.005044</td>\n      <td>8</td>\n    </tr>\n    <tr>\n      <th>3</th>\n      <td>-0.691625</td>\n      <td>-9.455801</td>\n      <td>1.717754</td>\n      <td>-0.010948</td>\n      <td>-0.015826</td>\n      <td>-0.009066</td>\n      <td>8</td>\n    </tr>\n    <tr>\n      <th>4</th>\n      <td>-0.647156</td>\n      <td>-9.461336</td>\n      <td>1.690160</td>\n      <td>-0.010913</td>\n      <td>-0.018142</td>\n      <td>-0.011370</td>\n      <td>8</td>\n    </tr>\n    <tr>\n      <th>...</th>\n      <td>...</td>\n      <td>...</td>\n      <td>...</td>\n      <td>...</td>\n      <td>...</td>\n      <td>...</td>\n      <td>...</td>\n    </tr>\n    <tr>\n      <th>17115</th>\n      <td>-0.369055</td>\n      <td>-9.602301</td>\n      <td>1.091332</td>\n      <td>0.004793</td>\n      <td>0.006843</td>\n      <td>0.002358</td>\n      <td>8</td>\n    </tr>\n    <tr>\n      <th>17116</th>\n      <td>-0.379781</td>\n      <td>-9.598336</td>\n      <td>1.106293</td>\n      <td>0.004885</td>\n      <td>0.004316</td>\n      <td>0.003684</td>\n      <td>8</td>\n    </tr>\n    <tr>\n      <th>17117</th>\n      <td>-0.388988</td>\n      <td>-9.594660</td>\n      <td>1.121250</td>\n      <td>0.006213</td>\n      <td>0.007398</td>\n      <td>0.003539</td>\n      <td>8</td>\n    </tr>\n    <tr>\n      <th>17118</th>\n      <td>-0.396617</td>\n      <td>-9.593133</td>\n      <td>1.142656</td>\n      <td>0.007079</td>\n      <td>0.007009</td>\n      <td>0.003251</td>\n      <td>8</td>\n    </tr>\n    <tr>\n      <th>17119</th>\n      <td>-0.392949</td>\n      <td>-9.590074</td>\n      <td>1.152445</td>\n      <td>0.005078</td>\n      <td>0.004108</td>\n      <td>0.003950</td>\n      <td>8</td>\n    </tr>\n  </tbody>\n</table>\n<p>17120 rows × 7 columns</p>\n</div>"
     },
     "execution_count": 37,
     "metadata": {},
     "output_type": "execute_result"
    }
   ],
   "source": [
    "train_df"
   ]
  },
  {
   "cell_type": "code",
   "execution_count": 38,
   "metadata": {},
   "outputs": [
    {
     "data": {
      "text/plain": "Text(0.5, 1.0, 'Gyroscope Z')"
     },
     "execution_count": 38,
     "metadata": {},
     "output_type": "execute_result"
    },
    {
     "data": {
      "text/plain": "<Figure size 1728x576 with 6 Axes>",
      "image/png": "[encoded data removed]"
     },
     "metadata": {
      "needs_background": "light"
     },
     "output_type": "display_data"
    }
   ],
   "source": [
    "fig, ax = plt.subplots(2, 3, figsize=(8 * 3, 8))\n",
    "ax[0, 0].hist(train_df.accelerometer_x, bins=64);\n",
    "ax[0, 0].set_title(\"Accelerometer X\")\n",
    "ax[0, 1].hist(train_df.accelerometer_y, bins=64);\n",
    "ax[0, 1].set_title(\"Accelerometer Y\")\n",
    "ax[0, 2].hist(train_df.accelerometer_z, bins=64);\n",
    "ax[0, 2].set_title(\"Accelerometer Z\")\n",
    "\n",
    "ax[1, 0].hist(train_df.gyroscope_x, bins=64);\n",
    "ax[1, 0].set_title(\"Gyroscope X\")\n",
    "ax[1, 1].hist(train_df.gyroscope_y, bins=64);\n",
    "ax[1, 1].set_title(\"Gyroscope Y\")\n",
    "ax[1, 2].hist(train_df.gyroscope_z, bins=64);\n",
    "ax[1, 2].set_title(\"Gyroscope Z\")"
   ]
  },
  {
   "cell_type": "code",
   "execution_count": 39,
   "metadata": {},
   "outputs": [],
   "source": [
    "def normalize(column):\n",
    "    return (column - column.min()) / ((column.max() - column.min()) / 2) - 1\n"
   ]
  },
  {
   "cell_type": "code",
   "execution_count": 40,
   "metadata": {},
   "outputs": [],
   "source": [
    "def normalize_columns(df):\n",
    "    columns = ['accelerometer_x', 'accelerometer_y', 'accelerometer_z', 'gyroscope_x', 'gyroscope_y', 'gyroscope_z']\n",
    "    for column in columns:\n",
    "        df[column] = normalize(df[column])\n",
    "    return df\n",
    "\n",
    "\n",
    "train_df = normalize_columns(train_df)\n",
    "val_df = normalize_columns(val_df)\n"
   ]
  },
  {
   "cell_type": "code",
   "execution_count": 41,
   "metadata": {},
   "outputs": [
    {
     "data": {
      "text/plain": "Text(0.5, 1.0, 'Gyroscope Z')"
     },
     "execution_count": 41,
     "metadata": {},
     "output_type": "execute_result"
    },
    {
     "data": {
      "text/plain": "<Figure size 1728x576 with 6 Axes>",
      "image/png": "[encoded data removed]"
     },
     "metadata": {
      "needs_background": "light"
     },
     "output_type": "display_data"
    }
   ],
   "source": [
    "_, ax = plt.subplots(2, 3, figsize=(8 * 3, 8))\n",
    "ax[0, 0].hist(train_df.accelerometer_x, bins=64)\n",
    "ax[0, 0].set_title(\"Accelerometer X\")\n",
    "ax[0, 1].hist(train_df.accelerometer_y, bins=64)\n",
    "ax[0, 1].set_title(\"Accelerometer Y\")\n",
    "ax[0, 2].hist(train_df.accelerometer_z, bins=64)\n",
    "ax[0, 2].set_title(\"Accelerometer Z\")\n",
    "\n",
    "ax[1, 0].hist(train_df.gyroscope_x, bins=64)\n",
    "ax[1, 0].set_title(\"Gyroscope X\")\n",
    "ax[1, 1].hist(train_df.gyroscope_y, bins=64)\n",
    "ax[1, 1].set_title(\"Gyroscope Y\")\n",
    "ax[1, 2].hist(train_df.gyroscope_z, bins=64)\n",
    "ax[1, 2].set_title(\"Gyroscope Z\")"
   ]
  },
  {
   "cell_type": "code",
   "execution_count": 102,
   "metadata": {},
   "outputs": [],
   "source": [
    "def create_window(df: pd.DataFrame, window=64, step=32):\n",
    "    window_x = []\n",
    "    window_y = []\n",
    "\n",
    "    for i in range(0, len(df) - window, step):\n",
    "        window_x.append(df.iloc[i:i + window])\n",
    "        window_y.append(df.iloc[i + window]['state'])\n",
    "\n",
    "    window_x = np.array(window_x)\n",
    "    window_y = np.array(window_y)\n",
    "\n",
    "    return window_x, window_y\n",
    "\n",
    "\n",
    "train_x, train_y = create_window(train_df)\n",
    "val_x, val_y = create_window(val_df)"
   ]
  },
  {
   "cell_type": "code",
   "execution_count": 105,
   "outputs": [
    {
     "data": {
      "application/vnd.plotly.v1+json": {
       "data": [
        {
         "y": [
          -0.1521856712586257,
          -0.1704257285934272,
          -0.17909577326538118,
          -0.16108051480212482,
          -0.1580808416214574,
          -0.21594590523285973,
          -0.24134480112426848,
          -0.13806296436722332,
          0.032160822772342446,
          0.13287395053054252,
          0.2636930883629516,
          0.5089671973317187,
          0.658233012590207,
          0.6528307625331726,
          0.5164158123740552,
          0.27741013060188946,
          0.12386055243307204,
          0.030266983858763252,
          0.09447092211271046,
          0.40645036451631666,
          0.3301934277043366,
          -0.05154821781293706,
          -0.3498320425236433,
          -0.45118110363761255,
          -0.29859174259744237,
          0.2381012781090477,
          0.34651863275138406,
          0.2904254146076404,
          0.12463978541314225,
          -0.1698724158627115,
          -0.18190088739609966,
          0.2568456564240431,
          0.2934406500203528,
          0.26555504899735727,
          0.11320576248644842,
          -0.17690161068478671,
          -0.1401374510160368,
          0.26976000396718525,
          0.3161211641247317,
          0.24830489415377133,
          0.05068390340650897,
          -0.28566279845314646,
          -0.208665048310825,
          0.16482312570109459,
          0.3961000535644801,
          0.33110709519413595,
          0.1231480601222974,
          -0.2109984237165925,
          -0.2735913096210104,
          -0.12520258001622508,
          -0.031139116760474095,
          0.06336395151610907,
          0.05847732966551411,
          -0.08344517415682662,
          -0.27948623078877344,
          -0.27461603089321107,
          -0.2463582009661044,
          -0.21738453328442464,
          -0.17315628978944375,
          -0.13120210081410766,
          -0.09600661787344156,
          -0.09290449437012271,
          -0.1228108368954729,
          -0.1839870986728993
         ],
         "type": "scatter"
        },
        {
         "y": [
          -0.3726765778321728,
          -0.4917670865323197,
          -0.5606232634747776,
          -0.6539888926719268,
          -0.7142882375588803,
          -0.70595010606888,
          -0.6731038896385353,
          -0.580095817690709,
          -0.4724746782553966,
          -0.3272684503707777,
          -0.14601442283798438,
          -0.045769271258106925,
          -0.014775471689115305,
          0.054614576323415376,
          0.1516829382480549,
          0.17359397178450742,
          0.1659800560740159,
          0.16655726282319017,
          0.1522258075198608,
          0.11693160423508853,
          0.13272279342090654,
          0.18661168357133584,
          0.26328278962371376,
          0.3033071850583233,
          0.3153051380401908,
          0.3056611728410754,
          0.29600569309675073,
          0.3189620429990163,
          0.3417940339939751,
          0.39316814504523934,
          0.40041031193554777,
          0.3473577846267255,
          0.31029402191097866,
          0.30800207563774973,
          0.3060343192929966,
          0.3026565253335469,
          0.28760252170722933,
          0.2213058753652104,
          0.17968423545646606,
          0.16466813160099214,
          0.14126520955685518,
          0.1553509909116555,
          0.14213776530017674,
          0.07550586015012417,
          0.048621031193130326,
          0.06535767125787251,
          0.11941484112036171,
          0.1920737678641551,
          0.23472251854524662,
          0.24525786961940987,
          0.26054094235905056,
          0.2704833458944851,
          0.2949297622292191,
          0.3307903671449117,
          0.30917293328913,
          0.16428213057516694,
          -0.02340151834892057,
          -0.21160044771874564,
          -0.4044866216219155,
          -0.5559407514862125,
          -0.679579905733711,
          -0.7311761765648245,
          -0.7428634066034243,
          -0.7312907338595294
         ],
         "type": "scatter"
        },
        {
         "y": [
          0.10352344605163721,
          0.12245376970896138,
          0.11249806520652794,
          0.1380369488728601,
          0.18752007517181934,
          0.164524670307012,
          0.1530294381676347,
          0.14012030661464325,
          0.10071643960054955,
          0.1227798840605423,
          0.12524279742091138,
          0.13924330800015872,
          0.20743067263637793,
          0.24668231787550066,
          0.2061826083634557,
          0.17129503005023383,
          0.14556851558921546,
          0.10240092973981652,
          0.09563360212521888,
          0.11786760382033479,
          0.13702535050152775,
          0.09678986870403694,
          -0.0014445484372905826,
          -0.09043435320577431,
          -0.10798032732653418,
          -0.09101230367566338,
          -0.0203490945422945,
          -0.01469320705201338,
          -0.021803731495780188,
          -0.08571460421519173,
          -0.1269381853871756,
          -0.038407360171186955,
          0.02447945123644346,
          0.022106159571989137,
          0.0035753634510580223,
          -0.03143426695732143,
          -0.07398213922404284,
          0.023795367346674423,
          0.10199721964952646,
          0.13960657484541406,
          0.13936027236184545,
          0.062429243132649415,
          0.015676865249873995,
          0.09815115176799227,
          0.18368305462701873,
          0.1856648583549474,
          0.11154013551184794,
          -0.001412733381797704,
          -0.10140534368302878,
          -0.10607203934070963,
          -0.09370632766339027,
          -0.07695265321120204,
          -0.05896317231195691,
          -0.07388213248758935,
          -0.14891069274251212,
          -0.1000593104424492,
          0.019623470490371053,
          0.06917304499633148,
          0.09156143554658236,
          0.10732275226716537,
          0.16370687846293186,
          0.20508782711052298,
          0.20950640100746032,
          0.18434340319227638
         ],
         "type": "scatter"
        }
       ],
       "layout": {
        "template": {
         "data": {
          "bar": [
           {
            "error_x": {
             "color": "#2a3f5f"
            },
            "error_y": {
             "color": "#2a3f5f"
            },
            "marker": {
             "line": {
              "color": "#E5ECF6",
              "width": 0.5
             },
             "pattern": {
              "fillmode": "overlay",
              "size": 10,
              "solidity": 0.2
             }
            },
            "type": "bar"
           }
          ],
          "barpolar": [
           {
            "marker": {
             "line": {
              "color": "#E5ECF6",
              "width": 0.5
             },
             "pattern": {
              "fillmode": "overlay",
              "size": 10,
              "solidity": 0.2
             }
            },
            "type": "barpolar"
           }
          ],
          "carpet": [
           {
            "aaxis": {
             "endlinecolor": "#2a3f5f",
             "gridcolor": "white",
             "linecolor": "white",
             "minorgridcolor": "white",
             "startlinecolor": "#2a3f5f"
            },
            "baxis": {
             "endlinecolor": "#2a3f5f",
             "gridcolor": "white",
             "linecolor": "white",
             "minorgridcolor": "white",
             "startlinecolor": "#2a3f5f"
            },
            "type": "carpet"
           }
          ],
          "choropleth": [
           {
            "colorbar": {
             "outlinewidth": 0,
             "ticks": ""
            },
            "type": "choropleth"
           }
          ],
          "contour": [
           {
            "colorbar": {
             "outlinewidth": 0,
             "ticks": ""
            },
            "colorscale": [
             [
              0.0,
              "#0d0887"
             ],
             [
              0.1111111111111111,
              "#46039f"
             ],
             [
              0.2222222222222222,
              "#7201a8"
             ],
             [
              0.3333333333333333,
              "#9c179e"
             ],
             [
              0.4444444444444444,
              "#bd3786"
             ],
             [
              0.5555555555555556,
              "#d8576b"
             ],
             [
              0.6666666666666666,
              "#ed7953"
             ],
             [
              0.7777777777777778,
              "#fb9f3a"
             ],
             [
              0.8888888888888888,
              "#fdca26"
             ],
             [
              1.0,
              "#f0f921"
             ]
            ],
            "type": "contour"
           }
          ],
          "contourcarpet": [
           {
            "colorbar": {
             "outlinewidth": 0,
             "ticks": ""
            },
            "type": "contourcarpet"
           }
          ],
          "heatmap": [
           {
            "colorbar": {
             "outlinewidth": 0,
             "ticks": ""
            },
            "colorscale": [
             [
              0.0,
              "#0d0887"
             ],
             [
              0.1111111111111111,
              "#46039f"
             ],
             [
              0.2222222222222222,
              "#7201a8"
             ],
             [
              0.3333333333333333,
              "#9c179e"
             ],
             [
              0.4444444444444444,
              "#bd3786"
             ],
             [
              0.5555555555555556,
              "#d8576b"
             ],
             [
              0.6666666666666666,
              "#ed7953"
             ],
             [
              0.7777777777777778,
              "#fb9f3a"
             ],
             [
              0.8888888888888888,
              "#fdca26"
             ],
             [
              1.0,
              "#f0f921"
             ]
            ],
            "type": "heatmap"
           }
          ],
          "heatmapgl": [
           {
            "colorbar": {
             "outlinewidth": 0,
             "ticks": ""
            },
            "colorscale": [
             [
              0.0,
              "#0d0887"
             ],
             [
              0.1111111111111111,
              "#46039f"
             ],
             [
              0.2222222222222222,
              "#7201a8"
             ],
             [
              0.3333333333333333,
              "#9c179e"
             ],
             [
              0.4444444444444444,
              "#bd3786"
             ],
             [
              0.5555555555555556,
              "#d8576b"
             ],
             [
              0.6666666666666666,
              "#ed7953"
             ],
             [
              0.7777777777777778,
              "#fb9f3a"
             ],
             [
              0.8888888888888888,
              "#fdca26"
             ],
             [
              1.0,
              "#f0f921"
             ]
            ],
            "type": "heatmapgl"
           }
          ],
          "histogram": [
           {
            "marker": {
             "pattern": {
              "fillmode": "overlay",
              "size": 10,
              "solidity": 0.2
             }
            },
            "type": "histogram"
           }
          ],
          "histogram2d": [
           {
            "colorbar": {
             "outlinewidth": 0,
             "ticks": ""
            },
            "colorscale": [
             [
              0.0,
              "#0d0887"
             ],
             [
              0.1111111111111111,
              "#46039f"
             ],
             [
              0.2222222222222222,
              "#7201a8"
             ],
             [
              0.3333333333333333,
              "#9c179e"
             ],
             [
              0.4444444444444444,
              "#bd3786"
             ],
             [
              0.5555555555555556,
              "#d8576b"
             ],
             [
              0.6666666666666666,
              "#ed7953"
             ],
             [
              0.7777777777777778,
              "#fb9f3a"
             ],
             [
              0.8888888888888888,
              "#fdca26"
             ],
             [
              1.0,
              "#f0f921"
             ]
            ],
            "type": "histogram2d"
           }
          ],
          "histogram2dcontour": [
           {
            "colorbar": {
             "outlinewidth": 0,
             "ticks": ""
            },
            "colorscale": [
             [
              0.0,
              "#0d0887"
             ],
             [
              0.1111111111111111,
              "#46039f"
             ],
             [
              0.2222222222222222,
              "#7201a8"
             ],
             [
              0.3333333333333333,
              "#9c179e"
             ],
             [
              0.4444444444444444,
              "#bd3786"
             ],
             [
              0.5555555555555556,
              "#d8576b"
             ],
             [
              0.6666666666666666,
              "#ed7953"
             ],
             [
              0.7777777777777778,
              "#fb9f3a"
             ],
             [
              0.8888888888888888,
              "#fdca26"
             ],
             [
              1.0,
              "#f0f921"
             ]
            ],
            "type": "histogram2dcontour"
           }
          ],
          "mesh3d": [
           {
            "colorbar": {
             "outlinewidth": 0,
             "ticks": ""
            },
            "type": "mesh3d"
           }
          ],
          "parcoords": [
           {
            "line": {
             "colorbar": {
              "outlinewidth": 0,
              "ticks": ""
             }
            },
            "type": "parcoords"
           }
          ],
          "pie": [
           {
            "automargin": true,
            "type": "pie"
           }
          ],
          "scatter": [
           {
            "marker": {
             "colorbar": {
              "outlinewidth": 0,
              "ticks": ""
             }
            },
            "type": "scatter"
           }
          ],
          "scatter3d": [
           {
            "line": {
             "colorbar": {
              "outlinewidth": 0,
              "ticks": ""
             }
            },
            "marker": {
             "colorbar": {
              "outlinewidth": 0,
              "ticks": ""
             }
            },
            "type": "scatter3d"
           }
          ],
          "scattercarpet": [
           {
            "marker": {
             "colorbar": {
              "outlinewidth": 0,
              "ticks": ""
             }
            },
            "type": "scattercarpet"
           }
          ],
          "scattergeo": [
           {
            "marker": {
             "colorbar": {
              "outlinewidth": 0,
              "ticks": ""
             }
            },
            "type": "scattergeo"
           }
          ],
          "scattergl": [
           {
            "marker": {
             "colorbar": {
              "outlinewidth": 0,
              "ticks": ""
             }
            },
            "type": "scattergl"
           }
          ],
          "scattermapbox": [
           {
            "marker": {
             "colorbar": {
              "outlinewidth": 0,
              "ticks": ""
             }
            },
            "type": "scattermapbox"
           }
          ],
          "scatterpolar": [
           {
            "marker": {
             "colorbar": {
              "outlinewidth": 0,
              "ticks": ""
             }
            },
            "type": "scatterpolar"
           }
          ],
          "scatterpolargl": [
           {
            "marker": {
             "colorbar": {
              "outlinewidth": 0,
              "ticks": ""
             }
            },
            "type": "scatterpolargl"
           }
          ],
          "scatterternary": [
           {
            "marker": {
             "colorbar": {
              "outlinewidth": 0,
              "ticks": ""
             }
            },
            "type": "scatterternary"
           }
          ],
          "surface": [
           {
            "colorbar": {
             "outlinewidth": 0,
             "ticks": ""
            },
            "colorscale": [
             [
              0.0,
              "#0d0887"
             ],
             [
              0.1111111111111111,
              "#46039f"
             ],
             [
              0.2222222222222222,
              "#7201a8"
             ],
             [
              0.3333333333333333,
              "#9c179e"
             ],
             [
              0.4444444444444444,
              "#bd3786"
             ],
             [
              0.5555555555555556,
              "#d8576b"
             ],
             [
              0.6666666666666666,
              "#ed7953"
             ],
             [
              0.7777777777777778,
              "#fb9f3a"
             ],
             [
              0.8888888888888888,
              "#fdca26"
             ],
             [
              1.0,
              "#f0f921"
             ]
            ],
            "type": "surface"
           }
          ],
          "table": [
           {
            "cells": {
             "fill": {
              "color": "#EBF0F8"
             },
             "line": {
              "color": "white"
             }
            },
            "header": {
             "fill": {
              "color": "#C8D4E3"
             },
             "line": {
              "color": "white"
             }
            },
            "type": "table"
           }
          ]
         },
         "layout": {
          "annotationdefaults": {
           "arrowcolor": "#2a3f5f",
           "arrowhead": 0,
           "arrowwidth": 1
          },
          "autotypenumbers": "strict",
          "coloraxis": {
           "colorbar": {
            "outlinewidth": 0,
            "ticks": ""
           }
          },
          "colorscale": {
           "diverging": [
            [
             0,
             "#8e0152"
            ],
            [
             0.1,
             "#c51b7d"
            ],
            [
             0.2,
             "#de77ae"
            ],
            [
             0.3,
             "#f1b6da"
            ],
            [
             0.4,
             "#fde0ef"
            ],
            [
             0.5,
             "#f7f7f7"
            ],
            [
             0.6,
             "#e6f5d0"
            ],
            [
             0.7,
             "#b8e186"
            ],
            [
             0.8,
             "#7fbc41"
            ],
            [
             0.9,
             "#4d9221"
            ],
            [
             1,
             "#276419"
            ]
           ],
           "sequential": [
            [
             0.0,
             "#0d0887"
            ],
            [
             0.1111111111111111,
             "#46039f"
            ],
            [
             0.2222222222222222,
             "#7201a8"
            ],
            [
             0.3333333333333333,
             "#9c179e"
            ],
            [
             0.4444444444444444,
             "#bd3786"
            ],
            [
             0.5555555555555556,
             "#d8576b"
            ],
            [
             0.6666666666666666,
             "#ed7953"
            ],
            [
             0.7777777777777778,
             "#fb9f3a"
            ],
            [
             0.8888888888888888,
             "#fdca26"
            ],
            [
             1.0,
             "#f0f921"
            ]
           ],
           "sequentialminus": [
            [
             0.0,
             "#0d0887"
            ],
            [
             0.1111111111111111,
             "#46039f"
            ],
            [
             0.2222222222222222,
             "#7201a8"
            ],
            [
             0.3333333333333333,
             "#9c179e"
            ],
            [
             0.4444444444444444,
             "#bd3786"
            ],
            [
             0.5555555555555556,
             "#d8576b"
            ],
            [
             0.6666666666666666,
             "#ed7953"
            ],
            [
             0.7777777777777778,
             "#fb9f3a"
            ],
            [
             0.8888888888888888,
             "#fdca26"
            ],
            [
             1.0,
             "#f0f921"
            ]
           ]
          },
          "colorway": [
           "#636efa",
           "#EF553B",
           "#00cc96",
           "#ab63fa",
           "#FFA15A",
           "#19d3f3",
           "#FF6692",
           "#B6E880",
           "#FF97FF",
           "#FECB52"
          ],
          "font": {
           "color": "#2a3f5f"
          },
          "geo": {
           "bgcolor": "white",
           "lakecolor": "white",
           "landcolor": "#E5ECF6",
           "showlakes": true,
           "showland": true,
           "subunitcolor": "white"
          },
          "hoverlabel": {
           "align": "left"
          },
          "hovermode": "closest",
          "mapbox": {
           "style": "light"
          },
          "paper_bgcolor": "white",
          "plot_bgcolor": "#E5ECF6",
          "polar": {
           "angularaxis": {
            "gridcolor": "white",
            "linecolor": "white",
            "ticks": ""
           },
           "bgcolor": "#E5ECF6",
           "radialaxis": {
            "gridcolor": "white",
            "linecolor": "white",
            "ticks": ""
           }
          },
          "scene": {
           "xaxis": {
            "backgroundcolor": "#E5ECF6",
            "gridcolor": "white",
            "gridwidth": 2,
            "linecolor": "white",
            "showbackground": true,
            "ticks": "",
            "zerolinecolor": "white"
           },
           "yaxis": {
            "backgroundcolor": "#E5ECF6",
            "gridcolor": "white",
            "gridwidth": 2,
            "linecolor": "white",
            "showbackground": true,
            "ticks": "",
            "zerolinecolor": "white"
           },
           "zaxis": {
            "backgroundcolor": "#E5ECF6",
            "gridcolor": "white",
            "gridwidth": 2,
            "linecolor": "white",
            "showbackground": true,
            "ticks": "",
            "zerolinecolor": "white"
           }
          },
          "shapedefaults": {
           "line": {
            "color": "#2a3f5f"
           }
          },
          "ternary": {
           "aaxis": {
            "gridcolor": "white",
            "linecolor": "white",
            "ticks": ""
           },
           "baxis": {
            "gridcolor": "white",
            "linecolor": "white",
            "ticks": ""
           },
           "bgcolor": "#E5ECF6",
           "caxis": {
            "gridcolor": "white",
            "linecolor": "white",
            "ticks": ""
           }
          },
          "title": {
           "x": 0.05
          },
          "xaxis": {
           "automargin": true,
           "gridcolor": "white",
           "linecolor": "white",
           "ticks": "",
           "title": {
            "standoff": 15
           },
           "zerolinecolor": "white",
           "zerolinewidth": 2
          },
          "yaxis": {
           "automargin": true,
           "gridcolor": "white",
           "linecolor": "white",
           "ticks": "",
           "title": {
            "standoff": 15
           },
           "zerolinecolor": "white",
           "zerolinewidth": 2
          }
         }
        }
       },
       "config": {
        "plotlyServerURL": "https://plot.ly"
       }
      },
      "text/html": "<div>                            <div id=\"bab24325-bcb3-4f63-95e4-44804b7c65a3\" class=\"plotly-graph-div\" style=\"height:525px; width:100%;\"></div>            <script type=\"text/javascript\">                require([\"plotly\"], function(Plotly) {                    window.PLOTLYENV=window.PLOTLYENV || {};                                    if (document.getElementById(\"bab24325-bcb3-4f63-95e4-44804b7c65a3\")) {                    Plotly.newPlot(                        \"bab24325-bcb3-4f63-95e4-44804b7c65a3\",                        [{\"y\":[-0.1521856712586257,-0.1704257285934272,-0.17909577326538118,-0.16108051480212482,-0.1580808416214574,-0.21594590523285973,-0.24134480112426848,-0.13806296436722332,0.032160822772342446,0.13287395053054252,0.2636930883629516,0.5089671973317187,0.658233012590207,0.6528307625331726,0.5164158123740552,0.27741013060188946,0.12386055243307204,0.030266983858763252,0.09447092211271046,0.40645036451631666,0.3301934277043366,-0.05154821781293706,-0.3498320425236433,-0.45118110363761255,-0.29859174259744237,0.2381012781090477,0.34651863275138406,0.2904254146076404,0.12463978541314225,-0.1698724158627115,-0.18190088739609966,0.2568456564240431,0.2934406500203528,0.26555504899735727,0.11320576248644842,-0.17690161068478671,-0.1401374510160368,0.26976000396718525,0.3161211641247317,0.24830489415377133,0.05068390340650897,-0.28566279845314646,-0.208665048310825,0.16482312570109459,0.3961000535644801,0.33110709519413595,0.1231480601222974,-0.2109984237165925,-0.2735913096210104,-0.12520258001622508,-0.031139116760474095,0.06336395151610907,0.05847732966551411,-0.08344517415682662,-0.27948623078877344,-0.27461603089321107,-0.2463582009661044,-0.21738453328442464,-0.17315628978944375,-0.13120210081410766,-0.09600661787344156,-0.09290449437012271,-0.1228108368954729,-0.1839870986728993],\"type\":\"scatter\"},{\"y\":[-0.3726765778321728,-0.4917670865323197,-0.5606232634747776,-0.6539888926719268,-0.7142882375588803,-0.70595010606888,-0.6731038896385353,-0.580095817690709,-0.4724746782553966,-0.3272684503707777,-0.14601442283798438,-0.045769271258106925,-0.014775471689115305,0.054614576323415376,0.1516829382480549,0.17359397178450742,0.1659800560740159,0.16655726282319017,0.1522258075198608,0.11693160423508853,0.13272279342090654,0.18661168357133584,0.26328278962371376,0.3033071850583233,0.3153051380401908,0.3056611728410754,0.29600569309675073,0.3189620429990163,0.3417940339939751,0.39316814504523934,0.40041031193554777,0.3473577846267255,0.31029402191097866,0.30800207563774973,0.3060343192929966,0.3026565253335469,0.28760252170722933,0.2213058753652104,0.17968423545646606,0.16466813160099214,0.14126520955685518,0.1553509909116555,0.14213776530017674,0.07550586015012417,0.048621031193130326,0.06535767125787251,0.11941484112036171,0.1920737678641551,0.23472251854524662,0.24525786961940987,0.26054094235905056,0.2704833458944851,0.2949297622292191,0.3307903671449117,0.30917293328913,0.16428213057516694,-0.02340151834892057,-0.21160044771874564,-0.4044866216219155,-0.5559407514862125,-0.679579905733711,-0.7311761765648245,-0.7428634066034243,-0.7312907338595294],\"type\":\"scatter\"},{\"y\":[0.10352344605163721,0.12245376970896138,0.11249806520652794,0.1380369488728601,0.18752007517181934,0.164524670307012,0.1530294381676347,0.14012030661464325,0.10071643960054955,0.1227798840605423,0.12524279742091138,0.13924330800015872,0.20743067263637793,0.24668231787550066,0.2061826083634557,0.17129503005023383,0.14556851558921546,0.10240092973981652,0.09563360212521888,0.11786760382033479,0.13702535050152775,0.09678986870403694,-0.0014445484372905826,-0.09043435320577431,-0.10798032732653418,-0.09101230367566338,-0.0203490945422945,-0.01469320705201338,-0.021803731495780188,-0.08571460421519173,-0.1269381853871756,-0.038407360171186955,0.02447945123644346,0.022106159571989137,0.0035753634510580223,-0.03143426695732143,-0.07398213922404284,0.023795367346674423,0.10199721964952646,0.13960657484541406,0.13936027236184545,0.062429243132649415,0.015676865249873995,0.09815115176799227,0.18368305462701873,0.1856648583549474,0.11154013551184794,-0.001412733381797704,-0.10140534368302878,-0.10607203934070963,-0.09370632766339027,-0.07695265321120204,-0.05896317231195691,-0.07388213248758935,-0.14891069274251212,-0.1000593104424492,0.019623470490371053,0.06917304499633148,0.09156143554658236,0.10732275226716537,0.16370687846293186,0.20508782711052298,0.20950640100746032,0.18434340319227638],\"type\":\"scatter\"}],                        {\"template\":{\"data\":{\"bar\":[{\"error_x\":{\"color\":\"#2a3f5f\"},\"error_y\":{\"color\":\"#2a3f5f\"},\"marker\":{\"line\":{\"color\":\"#E5ECF6\",\"width\":0.5},\"pattern\":{\"fillmode\":\"overlay\",\"size\":10,\"solidity\":0.2}},\"type\":\"bar\"}],\"barpolar\":[{\"marker\":{\"line\":{\"color\":\"#E5ECF6\",\"width\":0.5},\"pattern\":{\"fillmode\":\"overlay\",\"size\":10,\"solidity\":0.2}},\"type\":\"barpolar\"}],\"carpet\":[{\"aaxis\":{\"endlinecolor\":\"#2a3f5f\",\"gridcolor\":\"white\",\"linecolor\":\"white\",\"minorgridcolor\":\"white\",\"startlinecolor\":\"#2a3f5f\"},\"baxis\":{\"endlinecolor\":\"#2a3f5f\",\"gridcolor\":\"white\",\"linecolor\":\"white\",\"minorgridcolor\":\"white\",\"startlinecolor\":\"#2a3f5f\"},\"type\":\"carpet\"}],\"choropleth\":[{\"colorbar\":{\"outlinewidth\":0,\"ticks\":\"\"},\"type\":\"choropleth\"}],\"contour\":[{\"colorbar\":{\"outlinewidth\":0,\"ticks\":\"\"},\"colorscale\":[[0.0,\"#0d0887\"],[0.1111111111111111,\"#46039f\"],[0.2222222222222222,\"#7201a8\"],[0.3333333333333333,\"#9c179e\"],[0.4444444444444444,\"#bd3786\"],[0.5555555555555556,\"#d8576b\"],[0.6666666666666666,\"#ed7953\"],[0.7777777777777778,\"#fb9f3a\"],[0.8888888888888888,\"#fdca26\"],[1.0,\"#f0f921\"]],\"type\":\"contour\"}],\"contourcarpet\":[{\"colorbar\":{\"outlinewidth\":0,\"ticks\":\"\"},\"type\":\"contourcarpet\"}],\"heatmap\":[{\"colorbar\":{\"outlinewidth\":0,\"ticks\":\"\"},\"colorscale\":[[0.0,\"#0d0887\"],[0.1111111111111111,\"#46039f\"],[0.2222222222222222,\"#7201a8\"],[0.3333333333333333,\"#9c179e\"],[0.4444444444444444,\"#bd3786\"],[0.5555555555555556,\"#d8576b\"],[0.6666666666666666,\"#ed7953\"],[0.7777777777777778,\"#fb9f3a\"],[0.8888888888888888,\"#fdca26\"],[1.0,\"#f0f921\"]],\"type\":\"heatmap\"}],\"heatmapgl\":[{\"colorbar\":{\"outlinewidth\":0,\"ticks\":\"\"},\"colorscale\":[[0.0,\"#0d0887\"],[0.1111111111111111,\"#46039f\"],[0.2222222222222222,\"#7201a8\"],[0.3333333333333333,\"#9c179e\"],[0.4444444444444444,\"#bd3786\"],[0.5555555555555556,\"#d8576b\"],[0.6666666666666666,\"#ed7953\"],[0.7777777777777778,\"#fb9f3a\"],[0.8888888888888888,\"#fdca26\"],[1.0,\"#f0f921\"]],\"type\":\"heatmapgl\"}],\"histogram\":[{\"marker\":{\"pattern\":{\"fillmode\":\"overlay\",\"size\":10,\"solidity\":0.2}},\"type\":\"histogram\"}],\"histogram2d\":[{\"colorbar\":{\"outlinewidth\":0,\"ticks\":\"\"},\"colorscale\":[[0.0,\"#0d0887\"],[0.1111111111111111,\"#46039f\"],[0.2222222222222222,\"#7201a8\"],[0.3333333333333333,\"#9c179e\"],[0.4444444444444444,\"#bd3786\"],[0.5555555555555556,\"#d8576b\"],[0.6666666666666666,\"#ed7953\"],[0.7777777777777778,\"#fb9f3a\"],[0.8888888888888888,\"#fdca26\"],[1.0,\"#f0f921\"]],\"type\":\"histogram2d\"}],\"histogram2dcontour\":[{\"colorbar\":{\"outlinewidth\":0,\"ticks\":\"\"},\"colorscale\":[[0.0,\"#0d0887\"],[0.1111111111111111,\"#46039f\"],[0.2222222222222222,\"#7201a8\"],[0.3333333333333333,\"#9c179e\"],[0.4444444444444444,\"#bd3786\"],[0.5555555555555556,\"#d8576b\"],[0.6666666666666666,\"#ed7953\"],[0.7777777777777778,\"#fb9f3a\"],[0.8888888888888888,\"#fdca26\"],[1.0,\"#f0f921\"]],\"type\":\"histogram2dcontour\"}],\"mesh3d\":[{\"colorbar\":{\"outlinewidth\":0,\"ticks\":\"\"},\"type\":\"mesh3d\"}],\"parcoords\":[{\"line\":{\"colorbar\":{\"outlinewidth\":0,\"ticks\":\"\"}},\"type\":\"parcoords\"}],\"pie\":[{\"automargin\":true,\"type\":\"pie\"}],\"scatter\":[{\"marker\":{\"colorbar\":{\"outlinewidth\":0,\"ticks\":\"\"}},\"type\":\"scatter\"}],\"scatter3d\":[{\"line\":{\"colorbar\":{\"outlinewidth\":0,\"ticks\":\"\"}},\"marker\":{\"colorbar\":{\"outlinewidth\":0,\"ticks\":\"\"}},\"type\":\"scatter3d\"}],\"scattercarpet\":[{\"marker\":{\"colorbar\":{\"outlinewidth\":0,\"ticks\":\"\"}},\"type\":\"scattercarpet\"}],\"scattergeo\":[{\"marker\":{\"colorbar\":{\"outlinewidth\":0,\"ticks\":\"\"}},\"type\":\"scattergeo\"}],\"scattergl\":[{\"marker\":{\"colorbar\":{\"outlinewidth\":0,\"ticks\":\"\"}},\"type\":\"scattergl\"}],\"scattermapbox\":[{\"marker\":{\"colorbar\":{\"outlinewidth\":0,\"ticks\":\"\"}},\"type\":\"scattermapbox\"}],\"scatterpolar\":[{\"marker\":{\"colorbar\":{\"outlinewidth\":0,\"ticks\":\"\"}},\"type\":\"scatterpolar\"}],\"scatterpolargl\":[{\"marker\":{\"colorbar\":{\"outlinewidth\":0,\"ticks\":\"\"}},\"type\":\"scatterpolargl\"}],\"scatterternary\":[{\"marker\":{\"colorbar\":{\"outlinewidth\":0,\"ticks\":\"\"}},\"type\":\"scatterternary\"}],\"surface\":[{\"colorbar\":{\"outlinewidth\":0,\"ticks\":\"\"},\"colorscale\":[[0.0,\"#0d0887\"],[0.1111111111111111,\"#46039f\"],[0.2222222222222222,\"#7201a8\"],[0.3333333333333333,\"#9c179e\"],[0.4444444444444444,\"#bd3786\"],[0.5555555555555556,\"#d8576b\"],[0.6666666666666666,\"#ed7953\"],[0.7777777777777778,\"#fb9f3a\"],[0.8888888888888888,\"#fdca26\"],[1.0,\"#f0f921\"]],\"type\":\"surface\"}],\"table\":[{\"cells\":{\"fill\":{\"color\":\"#EBF0F8\"},\"line\":{\"color\":\"white\"}},\"header\":{\"fill\":{\"color\":\"#C8D4E3\"},\"line\":{\"color\":\"white\"}},\"type\":\"table\"}]},\"layout\":{\"annotationdefaults\":{\"arrowcolor\":\"#2a3f5f\",\"arrowhead\":0,\"arrowwidth\":1},\"autotypenumbers\":\"strict\",\"coloraxis\":{\"colorbar\":{\"outlinewidth\":0,\"ticks\":\"\"}},\"colorscale\":{\"diverging\":[[0,\"#8e0152\"],[0.1,\"#c51b7d\"],[0.2,\"#de77ae\"],[0.3,\"#f1b6da\"],[0.4,\"#fde0ef\"],[0.5,\"#f7f7f7\"],[0.6,\"#e6f5d0\"],[0.7,\"#b8e186\"],[0.8,\"#7fbc41\"],[0.9,\"#4d9221\"],[1,\"#276419\"]],\"sequential\":[[0.0,\"#0d0887\"],[0.1111111111111111,\"#46039f\"],[0.2222222222222222,\"#7201a8\"],[0.3333333333333333,\"#9c179e\"],[0.4444444444444444,\"#bd3786\"],[0.5555555555555556,\"#d8576b\"],[0.6666666666666666,\"#ed7953\"],[0.7777777777777778,\"#fb9f3a\"],[0.8888888888888888,\"#fdca26\"],[1.0,\"#f0f921\"]],\"sequentialminus\":[[0.0,\"#0d0887\"],[0.1111111111111111,\"#46039f\"],[0.2222222222222222,\"#7201a8\"],[0.3333333333333333,\"#9c179e\"],[0.4444444444444444,\"#bd3786\"],[0.5555555555555556,\"#d8576b\"],[0.6666666666666666,\"#ed7953\"],[0.7777777777777778,\"#fb9f3a\"],[0.8888888888888888,\"#fdca26\"],[1.0,\"#f0f921\"]]},\"colorway\":[\"#636efa\",\"#EF553B\",\"#00cc96\",\"#ab63fa\",\"#FFA15A\",\"#19d3f3\",\"#FF6692\",\"#B6E880\",\"#FF97FF\",\"#FECB52\"],\"font\":{\"color\":\"#2a3f5f\"},\"geo\":{\"bgcolor\":\"white\",\"lakecolor\":\"white\",\"landcolor\":\"#E5ECF6\",\"showlakes\":true,\"showland\":true,\"subunitcolor\":\"white\"},\"hoverlabel\":{\"align\":\"left\"},\"hovermode\":\"closest\",\"mapbox\":{\"style\":\"light\"},\"paper_bgcolor\":\"white\",\"plot_bgcolor\":\"#E5ECF6\",\"polar\":{\"angularaxis\":{\"gridcolor\":\"white\",\"linecolor\":\"white\",\"ticks\":\"\"},\"bgcolor\":\"#E5ECF6\",\"radialaxis\":{\"gridcolor\":\"white\",\"linecolor\":\"white\",\"ticks\":\"\"}},\"scene\":{\"xaxis\":{\"backgroundcolor\":\"#E5ECF6\",\"gridcolor\":\"white\",\"gridwidth\":2,\"linecolor\":\"white\",\"showbackground\":true,\"ticks\":\"\",\"zerolinecolor\":\"white\"},\"yaxis\":{\"backgroundcolor\":\"#E5ECF6\",\"gridcolor\":\"white\",\"gridwidth\":2,\"linecolor\":\"white\",\"showbackground\":true,\"ticks\":\"\",\"zerolinecolor\":\"white\"},\"zaxis\":{\"backgroundcolor\":\"#E5ECF6\",\"gridcolor\":\"white\",\"gridwidth\":2,\"linecolor\":\"white\",\"showbackground\":true,\"ticks\":\"\",\"zerolinecolor\":\"white\"}},\"shapedefaults\":{\"line\":{\"color\":\"#2a3f5f\"}},\"ternary\":{\"aaxis\":{\"gridcolor\":\"white\",\"linecolor\":\"white\",\"ticks\":\"\"},\"baxis\":{\"gridcolor\":\"white\",\"linecolor\":\"white\",\"ticks\":\"\"},\"bgcolor\":\"#E5ECF6\",\"caxis\":{\"gridcolor\":\"white\",\"linecolor\":\"white\",\"ticks\":\"\"}},\"title\":{\"x\":0.05},\"xaxis\":{\"automargin\":true,\"gridcolor\":\"white\",\"linecolor\":\"white\",\"ticks\":\"\",\"title\":{\"standoff\":15},\"zerolinecolor\":\"white\",\"zerolinewidth\":2},\"yaxis\":{\"automargin\":true,\"gridcolor\":\"white\",\"linecolor\":\"white\",\"ticks\":\"\",\"title\":{\"standoff\":15},\"zerolinecolor\":\"white\",\"zerolinewidth\":2}}}},                        {\"responsive\": true}                    ).then(function(){\n                            \nvar gd = document.getElementById('bab24325-bcb3-4f63-95e4-44804b7c65a3');\nvar x = new MutationObserver(function (mutations, observer) {{\n        var display = window.getComputedStyle(gd).display;\n        if (!display || display === 'none') {{\n            console.log([gd, 'removed!']);\n            Plotly.purge(gd);\n            observer.disconnect();\n        }}\n}});\n\n// Listen for the removal of the full notebook cells\nvar notebookContainer = gd.closest('#notebook-container');\nif (notebookContainer) {{\n    x.observe(notebookContainer, {childList: true});\n}}\n\n// Listen for the clearing of the current output cell\nvar outputEl = gd.closest('.output');\nif (outputEl) {{\n    x.observe(outputEl, {childList: true});\n}}\n\n                        })                };                });            </script>        </div>"
     },
     "metadata": {},
     "output_type": "display_data"
    }
   ],
   "source": [
    "_x = 128\n",
    "\n",
    "fig = go.Figure()\n",
    "fig.add_trace(go.Scatter(y=train_x[_x, :, 3]))\n",
    "fig.add_trace(go.Scatter(y=train_x[_x, :, 4]))\n",
    "fig.add_trace(go.Scatter(y=train_x[_x, :, 5]))\n"
   ],
   "metadata": {
    "collapsed": false,
    "pycharm": {
     "name": "#%%\n"
    }
   }
  },
  {
   "cell_type": "code",
   "execution_count": 62,
   "metadata": {},
   "outputs": [],
   "source": [
    "def shuffle_window(x, y):\n",
    "    ind = np.arange(x.shape[0])\n",
    "    np.random.shuffle(ind)\n",
    "    return x[ind], y[ind]\n",
    "\n",
    "\n",
    "train_x, train_y = shuffle_window(train_x, train_y)\n",
    "val_x, val_y = shuffle_window(val_x, val_y)"
   ]
  },
  {
   "cell_type": "code",
   "execution_count": 63,
   "metadata": {},
   "outputs": [],
   "source": [
    "def plot_history(title: str, history):\n",
    "    _, ax = plt.subplots(1, 2, figsize=(6 * 3, 6))\n",
    "    ax[0].plot(history.history['loss'], label='loss')\n",
    "    ax[0].plot(history.history['val_loss'], label='val_loss')\n",
    "    ax[0].set_title('Loss')\n",
    "    ax[0].legend()\n",
    "\n",
    "    ax[1].plot(history.history['sparse_categorical_accuracy'], label='sparse_categorical_accuracy')\n",
    "    ax[1].plot(history.history['val_sparse_categorical_accuracy'], label='val_sparse_categorical_accuracy')\n",
    "    ax[1].set_title('Accuracy')\n",
    "    ax[1].legend()\n",
    "\n",
    "    plt.title(title)\n",
    "    plt.legend()\n"
   ]
  },
  {
   "cell_type": "code",
   "execution_count": null,
   "outputs": [],
   "source": [],
   "metadata": {
    "collapsed": false,
    "pycharm": {
     "name": "#%%\n"
    }
   }
  },
  {
   "cell_type": "markdown",
   "source": [
    "# Hyper parameters"
   ],
   "metadata": {
    "collapsed": false
   }
  },
  {
   "cell_type": "code",
   "execution_count": 64,
   "outputs": [],
   "source": [
    "N_EPOCHS = 64\n",
    "BATCH_SIZE = 128"
   ],
   "metadata": {
    "collapsed": false,
    "pycharm": {
     "name": "#%%\n"
    }
   }
  },
  {
   "cell_type": "code",
   "execution_count": 65,
   "metadata": {},
   "outputs": [
    {
     "name": "stdout",
     "output_type": "stream",
     "text": [
      "Epoch 1/64\n",
      "5/5 [==============================] - 2s 149ms/step - loss: 2.7306 - sparse_categorical_accuracy: 0.1257 - val_loss: 2.6371 - val_sparse_categorical_accuracy: 0.2424\n",
      "Epoch 2/64\n",
      "5/5 [==============================] - 0s 78ms/step - loss: 2.5813 - sparse_categorical_accuracy: 0.2664 - val_loss: 2.4720 - val_sparse_categorical_accuracy: 0.2121\n",
      "Epoch 3/64\n",
      "5/5 [==============================] - 0s 78ms/step - loss: 2.3615 - sparse_categorical_accuracy: 0.2739 - val_loss: 2.2853 - val_sparse_categorical_accuracy: 0.2348\n",
      "Epoch 4/64\n",
      "5/5 [==============================] - 0s 79ms/step - loss: 2.1974 - sparse_categorical_accuracy: 0.2683 - val_loss: 2.1708 - val_sparse_categorical_accuracy: 0.2348\n",
      "Epoch 5/64\n",
      "5/5 [==============================] - 0s 79ms/step - loss: 2.0812 - sparse_categorical_accuracy: 0.3058 - val_loss: 2.0892 - val_sparse_categorical_accuracy: 0.2576\n",
      "Epoch 6/64\n",
      "5/5 [==============================] - 0s 80ms/step - loss: 2.0092 - sparse_categorical_accuracy: 0.3640 - val_loss: 2.0155 - val_sparse_categorical_accuracy: 0.3106\n",
      "Epoch 7/64\n",
      "5/5 [==============================] - 0s 80ms/step - loss: 1.9228 - sparse_categorical_accuracy: 0.3583 - val_loss: 1.9346 - val_sparse_categorical_accuracy: 0.3030\n",
      "Epoch 8/64\n",
      "5/5 [==============================] - 0s 79ms/step - loss: 1.8446 - sparse_categorical_accuracy: 0.3471 - val_loss: 1.9116 - val_sparse_categorical_accuracy: 0.2955\n",
      "Epoch 9/64\n",
      "5/5 [==============================] - 0s 80ms/step - loss: 1.8092 - sparse_categorical_accuracy: 0.3565 - val_loss: 1.8318 - val_sparse_categorical_accuracy: 0.3409\n",
      "Epoch 10/64\n",
      "5/5 [==============================] - 0s 82ms/step - loss: 1.7238 - sparse_categorical_accuracy: 0.3602 - val_loss: 1.7002 - val_sparse_categorical_accuracy: 0.3561\n",
      "Epoch 11/64\n",
      "5/5 [==============================] - 0s 81ms/step - loss: 1.6863 - sparse_categorical_accuracy: 0.3884 - val_loss: 1.6849 - val_sparse_categorical_accuracy: 0.3712\n",
      "Epoch 12/64\n",
      "5/5 [==============================] - 0s 79ms/step - loss: 1.6434 - sparse_categorical_accuracy: 0.4090 - val_loss: 1.6807 - val_sparse_categorical_accuracy: 0.3409\n",
      "Epoch 13/64\n",
      "5/5 [==============================] - 0s 79ms/step - loss: 1.5723 - sparse_categorical_accuracy: 0.4109 - val_loss: 1.6237 - val_sparse_categorical_accuracy: 0.3712\n",
      "Epoch 14/64\n",
      "5/5 [==============================] - 0s 79ms/step - loss: 1.4965 - sparse_categorical_accuracy: 0.4822 - val_loss: 1.5615 - val_sparse_categorical_accuracy: 0.3864\n",
      "Epoch 15/64\n",
      "5/5 [==============================] - 0s 79ms/step - loss: 1.4608 - sparse_categorical_accuracy: 0.5028 - val_loss: 1.5482 - val_sparse_categorical_accuracy: 0.3939\n",
      "Epoch 16/64\n",
      "5/5 [==============================] - 0s 79ms/step - loss: 1.4130 - sparse_categorical_accuracy: 0.5047 - val_loss: 1.4993 - val_sparse_categorical_accuracy: 0.4470\n",
      "Epoch 17/64\n",
      "5/5 [==============================] - 0s 86ms/step - loss: 1.3888 - sparse_categorical_accuracy: 0.5084 - val_loss: 1.5517 - val_sparse_categorical_accuracy: 0.4167\n",
      "Epoch 18/64\n",
      "5/5 [==============================] - 0s 86ms/step - loss: 1.3561 - sparse_categorical_accuracy: 0.5366 - val_loss: 1.4052 - val_sparse_categorical_accuracy: 0.5076\n",
      "Epoch 19/64\n",
      "5/5 [==============================] - 0s 83ms/step - loss: 1.3014 - sparse_categorical_accuracy: 0.5685 - val_loss: 1.4068 - val_sparse_categorical_accuracy: 0.4773\n",
      "Epoch 20/64\n",
      "5/5 [==============================] - 0s 78ms/step - loss: 1.2668 - sparse_categorical_accuracy: 0.5460 - val_loss: 1.4041 - val_sparse_categorical_accuracy: 0.4924\n",
      "Epoch 21/64\n",
      "5/5 [==============================] - 0s 84ms/step - loss: 1.2587 - sparse_categorical_accuracy: 0.5629 - val_loss: 1.4043 - val_sparse_categorical_accuracy: 0.5379\n",
      "Epoch 22/64\n",
      "5/5 [==============================] - 0s 82ms/step - loss: 1.2025 - sparse_categorical_accuracy: 0.5797 - val_loss: 1.3718 - val_sparse_categorical_accuracy: 0.5455\n",
      "Epoch 23/64\n",
      "5/5 [==============================] - 0s 81ms/step - loss: 1.1889 - sparse_categorical_accuracy: 0.5929 - val_loss: 1.3369 - val_sparse_categorical_accuracy: 0.5379\n",
      "Epoch 24/64\n",
      "5/5 [==============================] - 0s 81ms/step - loss: 1.1583 - sparse_categorical_accuracy: 0.6135 - val_loss: 1.3364 - val_sparse_categorical_accuracy: 0.5303\n",
      "Epoch 25/64\n",
      "5/5 [==============================] - 0s 85ms/step - loss: 1.1585 - sparse_categorical_accuracy: 0.5910 - val_loss: 1.3905 - val_sparse_categorical_accuracy: 0.5227\n",
      "Epoch 26/64\n",
      "5/5 [==============================] - 0s 80ms/step - loss: 1.1372 - sparse_categorical_accuracy: 0.6135 - val_loss: 1.3276 - val_sparse_categorical_accuracy: 0.5303\n",
      "Epoch 27/64\n",
      "5/5 [==============================] - 0s 78ms/step - loss: 1.1350 - sparse_categorical_accuracy: 0.6041 - val_loss: 1.3312 - val_sparse_categorical_accuracy: 0.4848\n",
      "Epoch 28/64\n",
      "5/5 [==============================] - 0s 79ms/step - loss: 1.1218 - sparse_categorical_accuracy: 0.6173 - val_loss: 1.3086 - val_sparse_categorical_accuracy: 0.5455\n",
      "Epoch 29/64\n",
      "5/5 [==============================] - 0s 78ms/step - loss: 1.0877 - sparse_categorical_accuracy: 0.6098 - val_loss: 1.3647 - val_sparse_categorical_accuracy: 0.5530\n",
      "Epoch 30/64\n",
      "5/5 [==============================] - 0s 77ms/step - loss: 1.0792 - sparse_categorical_accuracy: 0.6060 - val_loss: 1.2758 - val_sparse_categorical_accuracy: 0.5152\n",
      "Epoch 31/64\n",
      "5/5 [==============================] - 0s 79ms/step - loss: 1.0791 - sparse_categorical_accuracy: 0.6098 - val_loss: 1.3801 - val_sparse_categorical_accuracy: 0.5379\n",
      "Epoch 32/64\n",
      "5/5 [==============================] - 0s 80ms/step - loss: 1.0526 - sparse_categorical_accuracy: 0.6248 - val_loss: 1.3041 - val_sparse_categorical_accuracy: 0.5833\n",
      "Epoch 33/64\n",
      "5/5 [==============================] - 0s 78ms/step - loss: 1.0563 - sparse_categorical_accuracy: 0.6341 - val_loss: 1.3277 - val_sparse_categorical_accuracy: 0.5530\n",
      "Epoch 34/64\n",
      "5/5 [==============================] - 0s 78ms/step - loss: 1.0525 - sparse_categorical_accuracy: 0.6116 - val_loss: 1.3553 - val_sparse_categorical_accuracy: 0.5606\n",
      "Epoch 35/64\n",
      "5/5 [==============================] - 0s 84ms/step - loss: 1.0243 - sparse_categorical_accuracy: 0.6304 - val_loss: 1.4186 - val_sparse_categorical_accuracy: 0.4848\n",
      "Epoch 36/64\n",
      "5/5 [==============================] - 0s 81ms/step - loss: 1.0198 - sparse_categorical_accuracy: 0.6417 - val_loss: 1.3724 - val_sparse_categorical_accuracy: 0.5303\n",
      "Epoch 37/64\n",
      "5/5 [==============================] - 0s 78ms/step - loss: 1.0093 - sparse_categorical_accuracy: 0.6473 - val_loss: 1.2442 - val_sparse_categorical_accuracy: 0.5682\n",
      "Epoch 38/64\n",
      "5/5 [==============================] - 0s 78ms/step - loss: 0.9894 - sparse_categorical_accuracy: 0.6548 - val_loss: 1.3905 - val_sparse_categorical_accuracy: 0.5227\n",
      "Epoch 39/64\n",
      "5/5 [==============================] - 0s 81ms/step - loss: 0.9820 - sparse_categorical_accuracy: 0.6548 - val_loss: 1.3369 - val_sparse_categorical_accuracy: 0.5379\n",
      "Epoch 40/64\n",
      "5/5 [==============================] - 0s 83ms/step - loss: 0.9697 - sparse_categorical_accuracy: 0.6642 - val_loss: 1.3225 - val_sparse_categorical_accuracy: 0.5606\n",
      "Epoch 41/64\n",
      "5/5 [==============================] - 0s 84ms/step - loss: 0.9494 - sparse_categorical_accuracy: 0.6754 - val_loss: 1.4293 - val_sparse_categorical_accuracy: 0.5303\n",
      "Epoch 42/64\n",
      "5/5 [==============================] - 0s 85ms/step - loss: 0.9438 - sparse_categorical_accuracy: 0.6642 - val_loss: 1.3674 - val_sparse_categorical_accuracy: 0.5303\n",
      "Epoch 43/64\n",
      "5/5 [==============================] - 0s 77ms/step - loss: 0.9403 - sparse_categorical_accuracy: 0.6623 - val_loss: 1.3533 - val_sparse_categorical_accuracy: 0.5606\n",
      "Epoch 44/64\n",
      "5/5 [==============================] - 0s 77ms/step - loss: 0.9170 - sparse_categorical_accuracy: 0.6829 - val_loss: 1.3655 - val_sparse_categorical_accuracy: 0.5530\n",
      "Epoch 45/64\n",
      "5/5 [==============================] - 0s 77ms/step - loss: 0.9246 - sparse_categorical_accuracy: 0.6642 - val_loss: 1.3688 - val_sparse_categorical_accuracy: 0.5152\n",
      "Epoch 46/64\n",
      "5/5 [==============================] - 0s 78ms/step - loss: 0.9098 - sparse_categorical_accuracy: 0.6754 - val_loss: 1.3413 - val_sparse_categorical_accuracy: 0.5379\n",
      "Epoch 47/64\n",
      "5/5 [==============================] - 0s 77ms/step - loss: 0.9003 - sparse_categorical_accuracy: 0.6811 - val_loss: 1.3831 - val_sparse_categorical_accuracy: 0.5682\n",
      "Epoch 48/64\n",
      "5/5 [==============================] - 0s 82ms/step - loss: 0.9096 - sparse_categorical_accuracy: 0.6735 - val_loss: 1.4151 - val_sparse_categorical_accuracy: 0.5379\n",
      "Epoch 49/64\n",
      "5/5 [==============================] - 0s 77ms/step - loss: 1.0400 - sparse_categorical_accuracy: 0.6417 - val_loss: 1.3949 - val_sparse_categorical_accuracy: 0.5227\n",
      "Epoch 50/64\n",
      "5/5 [==============================] - 0s 81ms/step - loss: 1.0604 - sparse_categorical_accuracy: 0.6173 - val_loss: 1.6998 - val_sparse_categorical_accuracy: 0.4545\n",
      "Epoch 51/64\n",
      "5/5 [==============================] - 0s 77ms/step - loss: 1.0119 - sparse_categorical_accuracy: 0.6717 - val_loss: 1.3875 - val_sparse_categorical_accuracy: 0.5227\n",
      "Epoch 52/64\n",
      "5/5 [==============================] - 0s 77ms/step - loss: 0.9986 - sparse_categorical_accuracy: 0.6585 - val_loss: 1.4399 - val_sparse_categorical_accuracy: 0.5379\n",
      "Epoch 53/64\n",
      "5/5 [==============================] - 0s 77ms/step - loss: 0.9676 - sparse_categorical_accuracy: 0.6585 - val_loss: 1.5249 - val_sparse_categorical_accuracy: 0.4924\n",
      "Epoch 54/64\n",
      "5/5 [==============================] - 0s 78ms/step - loss: 0.9528 - sparse_categorical_accuracy: 0.6698 - val_loss: 1.3951 - val_sparse_categorical_accuracy: 0.4924\n",
      "Epoch 55/64\n",
      "5/5 [==============================] - 0s 77ms/step - loss: 0.9502 - sparse_categorical_accuracy: 0.6886 - val_loss: 1.3066 - val_sparse_categorical_accuracy: 0.5076\n",
      "Epoch 56/64\n",
      "5/5 [==============================] - 0s 78ms/step - loss: 0.9246 - sparse_categorical_accuracy: 0.6942 - val_loss: 1.4034 - val_sparse_categorical_accuracy: 0.5227\n",
      "Epoch 57/64\n",
      "5/5 [==============================] - 0s 77ms/step - loss: 0.9257 - sparse_categorical_accuracy: 0.6904 - val_loss: 1.4344 - val_sparse_categorical_accuracy: 0.5152\n",
      "Epoch 58/64\n",
      "5/5 [==============================] - 0s 78ms/step - loss: 0.9031 - sparse_categorical_accuracy: 0.6961 - val_loss: 1.3015 - val_sparse_categorical_accuracy: 0.4924\n",
      "Epoch 59/64\n",
      "5/5 [==============================] - 0s 78ms/step - loss: 0.9055 - sparse_categorical_accuracy: 0.6942 - val_loss: 1.3825 - val_sparse_categorical_accuracy: 0.5379\n",
      "Epoch 60/64\n",
      "5/5 [==============================] - 0s 78ms/step - loss: 0.8812 - sparse_categorical_accuracy: 0.7111 - val_loss: 1.4998 - val_sparse_categorical_accuracy: 0.5152\n",
      "Epoch 61/64\n",
      "5/5 [==============================] - 0s 85ms/step - loss: 0.8843 - sparse_categorical_accuracy: 0.6904 - val_loss: 1.4549 - val_sparse_categorical_accuracy: 0.5303\n",
      "Epoch 62/64\n",
      "5/5 [==============================] - 0s 77ms/step - loss: 0.8627 - sparse_categorical_accuracy: 0.7036 - val_loss: 1.6048 - val_sparse_categorical_accuracy: 0.5152\n",
      "Epoch 63/64\n",
      "5/5 [==============================] - 0s 82ms/step - loss: 0.9554 - sparse_categorical_accuracy: 0.6679 - val_loss: 1.5047 - val_sparse_categorical_accuracy: 0.4848\n",
      "Epoch 64/64\n",
      "5/5 [==============================] - 0s 80ms/step - loss: 0.8828 - sparse_categorical_accuracy: 0.6979 - val_loss: 1.3040 - val_sparse_categorical_accuracy: 0.5530\n"
     ]
    },
    {
     "data": {
      "text/plain": "<Figure size 1296x432 with 2 Axes>",
      "image/png": "[encoded data removed]"
     },
     "metadata": {
      "needs_background": "light"
     },
     "output_type": "display_data"
    }
   ],
   "source": [
    "learning_rate_schedule = tf.keras.optimizers.schedules.ExponentialDecay(\n",
    "    initial_learning_rate=0.001,\n",
    "    decay_steps=train_x.shape[0] // BATCH_SIZE,\n",
    "    decay_rate=0.98,\n",
    "    staircase=True)\n",
    "\n",
    "\n",
    "def get_baseline_model(input_shape=(64, 6), n_output=16):\n",
    "    model = models.Sequential()\n",
    "    model.add(layers.LSTM(units=128, input_shape=input_shape))\n",
    "    model.add(layers.Dense(units=n_output, activation=activations.softmax))\n",
    "    model.compile(\n",
    "        optimizer=optimizers.Adam(learning_rate=learning_rate_schedule),\n",
    "        loss=losses.sparse_categorical_crossentropy,\n",
    "        metrics=[metrics.SparseCategoricalAccuracy()]\n",
    "    )\n",
    "    return model\n",
    "\n",
    "\n",
    "baseline_model = get_baseline_model()\n",
    "baseline_model_history = baseline_model.fit(\n",
    "    x=train_x, y=train_y,\n",
    "    shuffle=True, validation_data=(val_x, val_y),\n",
    "    epochs=N_EPOCHS, batch_size=BATCH_SIZE)\n",
    "plot_history('Baseline Model', baseline_model_history)"
   ]
  },
  {
   "cell_type": "code",
   "execution_count": 66,
   "metadata": {},
   "outputs": [
    {
     "name": "stdout",
     "output_type": "stream",
     "text": [
      "Epoch 1/64\n",
      "5/5 [==============================] - 3s 248ms/step - loss: 2.7062 - sparse_categorical_accuracy: 0.1520 - val_loss: 2.5668 - val_sparse_categorical_accuracy: 0.2121\n",
      "Epoch 2/64\n",
      "5/5 [==============================] - 1s 126ms/step - loss: 2.4668 - sparse_categorical_accuracy: 0.2664 - val_loss: 2.2829 - val_sparse_categorical_accuracy: 0.2197\n",
      "Epoch 3/64\n",
      "5/5 [==============================] - 1s 129ms/step - loss: 2.1763 - sparse_categorical_accuracy: 0.2570 - val_loss: 2.1356 - val_sparse_categorical_accuracy: 0.2500\n",
      "Epoch 4/64\n",
      "5/5 [==============================] - 1s 131ms/step - loss: 2.0453 - sparse_categorical_accuracy: 0.2702 - val_loss: 2.0285 - val_sparse_categorical_accuracy: 0.2121\n",
      "Epoch 5/64\n",
      "5/5 [==============================] - 1s 129ms/step - loss: 1.9770 - sparse_categorical_accuracy: 0.2871 - val_loss: 1.9968 - val_sparse_categorical_accuracy: 0.2652\n",
      "Epoch 6/64\n",
      "5/5 [==============================] - 1s 128ms/step - loss: 1.9012 - sparse_categorical_accuracy: 0.3715 - val_loss: 1.9258 - val_sparse_categorical_accuracy: 0.2727\n",
      "Epoch 7/64\n",
      "5/5 [==============================] - 1s 128ms/step - loss: 1.8068 - sparse_categorical_accuracy: 0.3583 - val_loss: 1.8188 - val_sparse_categorical_accuracy: 0.2955\n",
      "Epoch 8/64\n",
      "5/5 [==============================] - 1s 127ms/step - loss: 1.7349 - sparse_categorical_accuracy: 0.3752 - val_loss: 1.7814 - val_sparse_categorical_accuracy: 0.3030\n",
      "Epoch 9/64\n",
      "5/5 [==============================] - 1s 131ms/step - loss: 1.6491 - sparse_categorical_accuracy: 0.3959 - val_loss: 1.7086 - val_sparse_categorical_accuracy: 0.3712\n",
      "Epoch 10/64\n",
      "5/5 [==============================] - 1s 130ms/step - loss: 1.5797 - sparse_categorical_accuracy: 0.4203 - val_loss: 1.5733 - val_sparse_categorical_accuracy: 0.4621\n",
      "Epoch 11/64\n",
      "5/5 [==============================] - 1s 128ms/step - loss: 1.4981 - sparse_categorical_accuracy: 0.5159 - val_loss: 1.5985 - val_sparse_categorical_accuracy: 0.4848\n",
      "Epoch 12/64\n",
      "5/5 [==============================] - 1s 131ms/step - loss: 1.4629 - sparse_categorical_accuracy: 0.5310 - val_loss: 1.4686 - val_sparse_categorical_accuracy: 0.4848\n",
      "Epoch 13/64\n",
      "5/5 [==============================] - 1s 128ms/step - loss: 1.4053 - sparse_categorical_accuracy: 0.5066 - val_loss: 1.4383 - val_sparse_categorical_accuracy: 0.5152\n",
      "Epoch 14/64\n",
      "5/5 [==============================] - 1s 132ms/step - loss: 1.3506 - sparse_categorical_accuracy: 0.5422 - val_loss: 1.4159 - val_sparse_categorical_accuracy: 0.4697\n",
      "Epoch 15/64\n",
      "5/5 [==============================] - 1s 132ms/step - loss: 1.3221 - sparse_categorical_accuracy: 0.5422 - val_loss: 1.3773 - val_sparse_categorical_accuracy: 0.5152\n",
      "Epoch 16/64\n",
      "5/5 [==============================] - 1s 148ms/step - loss: 1.2565 - sparse_categorical_accuracy: 0.5553 - val_loss: 1.4148 - val_sparse_categorical_accuracy: 0.4848\n",
      "Epoch 17/64\n",
      "5/5 [==============================] - 1s 141ms/step - loss: 1.2146 - sparse_categorical_accuracy: 0.5647 - val_loss: 1.3024 - val_sparse_categorical_accuracy: 0.5455\n",
      "Epoch 18/64\n",
      "5/5 [==============================] - 1s 134ms/step - loss: 1.1934 - sparse_categorical_accuracy: 0.5891 - val_loss: 1.3113 - val_sparse_categorical_accuracy: 0.5303\n",
      "Epoch 19/64\n",
      "5/5 [==============================] - 1s 134ms/step - loss: 1.2351 - sparse_categorical_accuracy: 0.5647 - val_loss: 1.2502 - val_sparse_categorical_accuracy: 0.5606\n",
      "Epoch 20/64\n",
      "5/5 [==============================] - 1s 141ms/step - loss: 1.1964 - sparse_categorical_accuracy: 0.5835 - val_loss: 1.3625 - val_sparse_categorical_accuracy: 0.5227\n",
      "Epoch 21/64\n",
      "5/5 [==============================] - 1s 133ms/step - loss: 1.1559 - sparse_categorical_accuracy: 0.6116 - val_loss: 1.3698 - val_sparse_categorical_accuracy: 0.4242\n",
      "Epoch 22/64\n",
      "5/5 [==============================] - 1s 131ms/step - loss: 1.1607 - sparse_categorical_accuracy: 0.5891 - val_loss: 1.3332 - val_sparse_categorical_accuracy: 0.4773\n",
      "Epoch 23/64\n",
      "5/5 [==============================] - 1s 131ms/step - loss: 1.1079 - sparse_categorical_accuracy: 0.5797 - val_loss: 1.3042 - val_sparse_categorical_accuracy: 0.5152\n",
      "Epoch 24/64\n",
      "5/5 [==============================] - 1s 138ms/step - loss: 1.0744 - sparse_categorical_accuracy: 0.6173 - val_loss: 1.3021 - val_sparse_categorical_accuracy: 0.5303\n",
      "Epoch 25/64\n",
      "5/5 [==============================] - 1s 134ms/step - loss: 1.0842 - sparse_categorical_accuracy: 0.6135 - val_loss: 1.3705 - val_sparse_categorical_accuracy: 0.5227\n",
      "Epoch 26/64\n",
      "5/5 [==============================] - 1s 131ms/step - loss: 1.0392 - sparse_categorical_accuracy: 0.6079 - val_loss: 1.5411 - val_sparse_categorical_accuracy: 0.4545\n",
      "Epoch 27/64\n",
      "5/5 [==============================] - 1s 132ms/step - loss: 1.0471 - sparse_categorical_accuracy: 0.6304 - val_loss: 1.4980 - val_sparse_categorical_accuracy: 0.4848\n",
      "Epoch 28/64\n",
      "5/5 [==============================] - 1s 135ms/step - loss: 1.0150 - sparse_categorical_accuracy: 0.6229 - val_loss: 1.3322 - val_sparse_categorical_accuracy: 0.5000\n",
      "Epoch 29/64\n",
      "5/5 [==============================] - 1s 132ms/step - loss: 1.0063 - sparse_categorical_accuracy: 0.6266 - val_loss: 1.5332 - val_sparse_categorical_accuracy: 0.4091\n",
      "Epoch 30/64\n",
      "5/5 [==============================] - 1s 134ms/step - loss: 1.2603 - sparse_categorical_accuracy: 0.5553 - val_loss: 1.2885 - val_sparse_categorical_accuracy: 0.5303\n",
      "Epoch 31/64\n",
      "5/5 [==============================] - 1s 133ms/step - loss: 1.2710 - sparse_categorical_accuracy: 0.5741 - val_loss: 1.4904 - val_sparse_categorical_accuracy: 0.4924\n",
      "Epoch 32/64\n",
      "5/5 [==============================] - 1s 135ms/step - loss: 1.2202 - sparse_categorical_accuracy: 0.5891 - val_loss: 1.3761 - val_sparse_categorical_accuracy: 0.5152\n",
      "Epoch 33/64\n",
      "5/5 [==============================] - 1s 131ms/step - loss: 1.1739 - sparse_categorical_accuracy: 0.5985 - val_loss: 1.3969 - val_sparse_categorical_accuracy: 0.5000\n",
      "Epoch 34/64\n",
      "5/5 [==============================] - 1s 134ms/step - loss: 1.1647 - sparse_categorical_accuracy: 0.5891 - val_loss: 1.3598 - val_sparse_categorical_accuracy: 0.5000\n",
      "Epoch 35/64\n",
      "5/5 [==============================] - 1s 133ms/step - loss: 1.1317 - sparse_categorical_accuracy: 0.6023 - val_loss: 1.3157 - val_sparse_categorical_accuracy: 0.5152\n",
      "Epoch 36/64\n",
      "5/5 [==============================] - 1s 134ms/step - loss: 1.1175 - sparse_categorical_accuracy: 0.6079 - val_loss: 1.2249 - val_sparse_categorical_accuracy: 0.5530\n",
      "Epoch 37/64\n",
      "5/5 [==============================] - 1s 137ms/step - loss: 1.0972 - sparse_categorical_accuracy: 0.6248 - val_loss: 1.2860 - val_sparse_categorical_accuracy: 0.5227\n",
      "Epoch 38/64\n",
      "5/5 [==============================] - 1s 135ms/step - loss: 1.0772 - sparse_categorical_accuracy: 0.6173 - val_loss: 1.2389 - val_sparse_categorical_accuracy: 0.5682\n",
      "Epoch 39/64\n",
      "5/5 [==============================] - 1s 134ms/step - loss: 1.0471 - sparse_categorical_accuracy: 0.6266 - val_loss: 1.2375 - val_sparse_categorical_accuracy: 0.5606\n",
      "Epoch 40/64\n",
      "5/5 [==============================] - 1s 132ms/step - loss: 1.0291 - sparse_categorical_accuracy: 0.6379 - val_loss: 1.2526 - val_sparse_categorical_accuracy: 0.5758\n",
      "Epoch 41/64\n",
      "5/5 [==============================] - 1s 132ms/step - loss: 0.9995 - sparse_categorical_accuracy: 0.6510 - val_loss: 1.2197 - val_sparse_categorical_accuracy: 0.5985\n",
      "Epoch 42/64\n",
      "5/5 [==============================] - 1s 133ms/step - loss: 0.9779 - sparse_categorical_accuracy: 0.6642 - val_loss: 1.3478 - val_sparse_categorical_accuracy: 0.5303\n",
      "Epoch 43/64\n",
      "5/5 [==============================] - 1s 131ms/step - loss: 1.0020 - sparse_categorical_accuracy: 0.6492 - val_loss: 1.1785 - val_sparse_categorical_accuracy: 0.5758\n",
      "Epoch 44/64\n",
      "5/5 [==============================] - 1s 131ms/step - loss: 0.9440 - sparse_categorical_accuracy: 0.6585 - val_loss: 1.1591 - val_sparse_categorical_accuracy: 0.5909\n",
      "Epoch 45/64\n",
      "5/5 [==============================] - 1s 132ms/step - loss: 0.9430 - sparse_categorical_accuracy: 0.6529 - val_loss: 1.1976 - val_sparse_categorical_accuracy: 0.5909\n",
      "Epoch 46/64\n",
      "5/5 [==============================] - 1s 132ms/step - loss: 0.9312 - sparse_categorical_accuracy: 0.6642 - val_loss: 1.2957 - val_sparse_categorical_accuracy: 0.5455\n",
      "Epoch 47/64\n",
      "5/5 [==============================] - 1s 136ms/step - loss: 0.9158 - sparse_categorical_accuracy: 0.6623 - val_loss: 1.4406 - val_sparse_categorical_accuracy: 0.5227\n",
      "Epoch 48/64\n",
      "5/5 [==============================] - 1s 134ms/step - loss: 0.9827 - sparse_categorical_accuracy: 0.6529 - val_loss: 1.3527 - val_sparse_categorical_accuracy: 0.5227\n",
      "Epoch 49/64\n",
      "5/5 [==============================] - 1s 135ms/step - loss: 0.9365 - sparse_categorical_accuracy: 0.6754 - val_loss: 1.2737 - val_sparse_categorical_accuracy: 0.5606\n",
      "Epoch 50/64\n",
      "5/5 [==============================] - 1s 133ms/step - loss: 0.9096 - sparse_categorical_accuracy: 0.6698 - val_loss: 1.2480 - val_sparse_categorical_accuracy: 0.5606\n",
      "Epoch 51/64\n",
      "5/5 [==============================] - 1s 131ms/step - loss: 0.8767 - sparse_categorical_accuracy: 0.6773 - val_loss: 1.2774 - val_sparse_categorical_accuracy: 0.5530\n",
      "Epoch 52/64\n",
      "5/5 [==============================] - 1s 133ms/step - loss: 0.8967 - sparse_categorical_accuracy: 0.6567 - val_loss: 1.2985 - val_sparse_categorical_accuracy: 0.5530\n",
      "Epoch 53/64\n",
      "5/5 [==============================] - 1s 139ms/step - loss: 0.9704 - sparse_categorical_accuracy: 0.6510 - val_loss: 1.4210 - val_sparse_categorical_accuracy: 0.5606\n",
      "Epoch 54/64\n",
      "5/5 [==============================] - 1s 132ms/step - loss: 0.9389 - sparse_categorical_accuracy: 0.6717 - val_loss: 1.3179 - val_sparse_categorical_accuracy: 0.5303\n",
      "Epoch 55/64\n",
      "5/5 [==============================] - 1s 132ms/step - loss: 0.9268 - sparse_categorical_accuracy: 0.6717 - val_loss: 1.2296 - val_sparse_categorical_accuracy: 0.5606\n",
      "Epoch 56/64\n",
      "5/5 [==============================] - 1s 136ms/step - loss: 0.8991 - sparse_categorical_accuracy: 0.6848 - val_loss: 1.4726 - val_sparse_categorical_accuracy: 0.5076\n",
      "Epoch 57/64\n",
      "5/5 [==============================] - 1s 134ms/step - loss: 0.9703 - sparse_categorical_accuracy: 0.6473 - val_loss: 1.2092 - val_sparse_categorical_accuracy: 0.5909\n",
      "Epoch 58/64\n",
      "5/5 [==============================] - 1s 134ms/step - loss: 0.9105 - sparse_categorical_accuracy: 0.6811 - val_loss: 1.3575 - val_sparse_categorical_accuracy: 0.5152\n",
      "Epoch 59/64\n",
      "5/5 [==============================] - 1s 136ms/step - loss: 0.9882 - sparse_categorical_accuracy: 0.6529 - val_loss: 1.3248 - val_sparse_categorical_accuracy: 0.5530\n",
      "Epoch 60/64\n",
      "5/5 [==============================] - 1s 133ms/step - loss: 0.9216 - sparse_categorical_accuracy: 0.6660 - val_loss: 1.3008 - val_sparse_categorical_accuracy: 0.5682\n",
      "Epoch 61/64\n",
      "5/5 [==============================] - 1s 134ms/step - loss: 0.8778 - sparse_categorical_accuracy: 0.7129 - val_loss: 1.2089 - val_sparse_categorical_accuracy: 0.5530\n",
      "Epoch 62/64\n",
      "5/5 [==============================] - 1s 133ms/step - loss: 0.8491 - sparse_categorical_accuracy: 0.7017 - val_loss: 1.1576 - val_sparse_categorical_accuracy: 0.6212\n",
      "Epoch 63/64\n",
      "5/5 [==============================] - 1s 139ms/step - loss: 0.8369 - sparse_categorical_accuracy: 0.7355 - val_loss: 1.2458 - val_sparse_categorical_accuracy: 0.5379\n",
      "Epoch 64/64\n",
      "5/5 [==============================] - 1s 135ms/step - loss: 0.8213 - sparse_categorical_accuracy: 0.7242 - val_loss: 1.0781 - val_sparse_categorical_accuracy: 0.6212\n"
     ]
    },
    {
     "data": {
      "text/plain": "<Figure size 1296x432 with 2 Axes>",
      "image/png": "[encoded data removed]"
     },
     "metadata": {
      "needs_background": "light"
     },
     "output_type": "display_data"
    }
   ],
   "source": [
    "def get_bidirectional_lstm_model(input_shape=(64, 7), n_output=16):\n",
    "    model = models.Sequential()\n",
    "    model.add(layers.Bidirectional(layers.LSTM(units=128, input_shape=input_shape)))\n",
    "    model.add(layers.Dense(units=n_output, activation=activations.softmax))\n",
    "    model.compile(\n",
    "        optimizer=optimizers.Adam(learning_rate=1e-3),\n",
    "        loss=losses.sparse_categorical_crossentropy,\n",
    "        metrics=[metrics.SparseCategoricalAccuracy()]\n",
    "    )\n",
    "    return model\n",
    "\n",
    "\n",
    "bidirectional_lstm_model = get_bidirectional_lstm_model()\n",
    "bidirectional_lstm_model_history = bidirectional_lstm_model.fit(\n",
    "    x=train_x, y=train_y, validation_data=(val_x, val_y), epochs=N_EPOCHS, batch_size=BATCH_SIZE)\n",
    "plot_history('Bidirectional LSTM Model', bidirectional_lstm_model_history)"
   ]
  },
  {
   "cell_type": "code",
   "execution_count": 67,
   "metadata": {},
   "outputs": [
    {
     "name": "stdout",
     "output_type": "stream",
     "text": [
      "Epoch 1/32\n",
      "17/17 [==============================] - 6s 123ms/step - loss: 2.4741 - sparse_categorical_accuracy: 0.2176 - val_loss: 2.2091 - val_sparse_categorical_accuracy: 0.2424\n",
      "Epoch 2/32\n",
      "17/17 [==============================] - 1s 75ms/step - loss: 2.0901 - sparse_categorical_accuracy: 0.3077 - val_loss: 1.9638 - val_sparse_categorical_accuracy: 0.2879\n",
      "Epoch 3/32\n",
      "17/17 [==============================] - 1s 72ms/step - loss: 1.8541 - sparse_categorical_accuracy: 0.3677 - val_loss: 1.7715 - val_sparse_categorical_accuracy: 0.3258\n",
      "Epoch 4/32\n",
      "17/17 [==============================] - 1s 69ms/step - loss: 1.6913 - sparse_categorical_accuracy: 0.4184 - val_loss: 1.7883 - val_sparse_categorical_accuracy: 0.3561\n",
      "Epoch 5/32\n",
      "17/17 [==============================] - 1s 67ms/step - loss: 1.7958 - sparse_categorical_accuracy: 0.4034 - val_loss: 2.0041 - val_sparse_categorical_accuracy: 0.2727\n",
      "Epoch 6/32\n",
      "17/17 [==============================] - 1s 69ms/step - loss: 1.7877 - sparse_categorical_accuracy: 0.3677 - val_loss: 1.7994 - val_sparse_categorical_accuracy: 0.3258\n",
      "Epoch 7/32\n",
      "17/17 [==============================] - 1s 67ms/step - loss: 1.6635 - sparse_categorical_accuracy: 0.4015 - val_loss: 1.7767 - val_sparse_categorical_accuracy: 0.3788\n",
      "Epoch 8/32\n",
      "17/17 [==============================] - 1s 68ms/step - loss: 1.5989 - sparse_categorical_accuracy: 0.4597 - val_loss: 1.5658 - val_sparse_categorical_accuracy: 0.3561\n",
      "Epoch 9/32\n",
      "17/17 [==============================] - 1s 67ms/step - loss: 1.4783 - sparse_categorical_accuracy: 0.4953 - val_loss: 1.5056 - val_sparse_categorical_accuracy: 0.4318\n",
      "Epoch 10/32\n",
      "17/17 [==============================] - 1s 68ms/step - loss: 1.3594 - sparse_categorical_accuracy: 0.5291 - val_loss: 1.5167 - val_sparse_categorical_accuracy: 0.4924\n",
      "Epoch 11/32\n",
      "17/17 [==============================] - 1s 68ms/step - loss: 1.3454 - sparse_categorical_accuracy: 0.5629 - val_loss: 1.3861 - val_sparse_categorical_accuracy: 0.5606\n",
      "Epoch 12/32\n",
      "17/17 [==============================] - 1s 67ms/step - loss: 1.2839 - sparse_categorical_accuracy: 0.5666 - val_loss: 1.3573 - val_sparse_categorical_accuracy: 0.5152\n",
      "Epoch 13/32\n",
      "17/17 [==============================] - 1s 67ms/step - loss: 1.2167 - sparse_categorical_accuracy: 0.5835 - val_loss: 1.4386 - val_sparse_categorical_accuracy: 0.5227\n",
      "Epoch 14/32\n",
      "17/17 [==============================] - 1s 67ms/step - loss: 1.1561 - sparse_categorical_accuracy: 0.5985 - val_loss: 1.4704 - val_sparse_categorical_accuracy: 0.5530\n",
      "Epoch 15/32\n",
      "17/17 [==============================] - 1s 67ms/step - loss: 1.1989 - sparse_categorical_accuracy: 0.5816 - val_loss: 1.4158 - val_sparse_categorical_accuracy: 0.4621\n",
      "Epoch 16/32\n",
      "17/17 [==============================] - 1s 67ms/step - loss: 1.1745 - sparse_categorical_accuracy: 0.5629 - val_loss: 1.3531 - val_sparse_categorical_accuracy: 0.5227\n",
      "Epoch 17/32\n",
      "17/17 [==============================] - 1s 67ms/step - loss: 1.1250 - sparse_categorical_accuracy: 0.6098 - val_loss: 1.3322 - val_sparse_categorical_accuracy: 0.5530\n",
      "Epoch 18/32\n",
      "17/17 [==============================] - 1s 68ms/step - loss: 1.1094 - sparse_categorical_accuracy: 0.6154 - val_loss: 1.3375 - val_sparse_categorical_accuracy: 0.5682\n",
      "Epoch 19/32\n",
      "17/17 [==============================] - 1s 67ms/step - loss: 1.0883 - sparse_categorical_accuracy: 0.6323 - val_loss: 1.3385 - val_sparse_categorical_accuracy: 0.5152\n",
      "Epoch 20/32\n",
      "17/17 [==============================] - 1s 68ms/step - loss: 1.1489 - sparse_categorical_accuracy: 0.6060 - val_loss: 1.3318 - val_sparse_categorical_accuracy: 0.5606\n",
      "Epoch 21/32\n",
      "17/17 [==============================] - 1s 68ms/step - loss: 1.0812 - sparse_categorical_accuracy: 0.6567 - val_loss: 1.4466 - val_sparse_categorical_accuracy: 0.5076\n",
      "Epoch 22/32\n",
      "17/17 [==============================] - 1s 67ms/step - loss: 1.0409 - sparse_categorical_accuracy: 0.6585 - val_loss: 1.5521 - val_sparse_categorical_accuracy: 0.4848\n",
      "Epoch 23/32\n",
      "17/17 [==============================] - 1s 67ms/step - loss: 0.9436 - sparse_categorical_accuracy: 0.6811 - val_loss: 1.3870 - val_sparse_categorical_accuracy: 0.5303\n",
      "Epoch 24/32\n",
      "17/17 [==============================] - 1s 67ms/step - loss: 0.9058 - sparse_categorical_accuracy: 0.7073 - val_loss: 1.3237 - val_sparse_categorical_accuracy: 0.5530\n",
      "Epoch 25/32\n",
      "17/17 [==============================] - 1s 68ms/step - loss: 0.8608 - sparse_categorical_accuracy: 0.7129 - val_loss: 1.3840 - val_sparse_categorical_accuracy: 0.5455\n",
      "Epoch 26/32\n",
      "17/17 [==============================] - 1s 66ms/step - loss: 0.8550 - sparse_categorical_accuracy: 0.7073 - val_loss: 1.5749 - val_sparse_categorical_accuracy: 0.5152\n",
      "Epoch 27/32\n",
      "17/17 [==============================] - 1s 67ms/step - loss: 0.9456 - sparse_categorical_accuracy: 0.6773 - val_loss: 1.3569 - val_sparse_categorical_accuracy: 0.4697\n",
      "Epoch 28/32\n",
      "17/17 [==============================] - 1s 66ms/step - loss: 0.9493 - sparse_categorical_accuracy: 0.6754 - val_loss: 1.2963 - val_sparse_categorical_accuracy: 0.5379\n",
      "Epoch 29/32\n",
      "17/17 [==============================] - 1s 66ms/step - loss: 0.9278 - sparse_categorical_accuracy: 0.6942 - val_loss: 1.3236 - val_sparse_categorical_accuracy: 0.5379\n",
      "Epoch 30/32\n",
      "17/17 [==============================] - 1s 66ms/step - loss: 0.9172 - sparse_categorical_accuracy: 0.6886 - val_loss: 1.3384 - val_sparse_categorical_accuracy: 0.5530\n",
      "Epoch 31/32\n",
      "17/17 [==============================] - 1s 66ms/step - loss: 0.8274 - sparse_categorical_accuracy: 0.7317 - val_loss: 1.2319 - val_sparse_categorical_accuracy: 0.5379\n",
      "Epoch 32/32\n",
      "17/17 [==============================] - 1s 66ms/step - loss: 0.7794 - sparse_categorical_accuracy: 0.7392 - val_loss: 1.2862 - val_sparse_categorical_accuracy: 0.5455\n"
     ]
    },
    {
     "data": {
      "text/plain": "<Figure size 1296x432 with 2 Axes>",
      "image/png": "[encoded data removed]"
     },
     "metadata": {
      "needs_background": "light"
     },
     "output_type": "display_data"
    }
   ],
   "source": [
    "def get_stacked_bidirectional_lstm_model(input_shape=(64, 7), n_output=16):\n",
    "    model = models.Sequential()\n",
    "    model.add(layers.Bidirectional(layers.LSTM(units=128, return_sequences=True, input_shape=input_shape)))\n",
    "    model.add(layers.Bidirectional(layers.LSTM(units=32)))\n",
    "    model.add(layers.Dense(units=n_output, activation=activations.softmax))\n",
    "    model.compile(\n",
    "        optimizer=optimizers.Adam(learning_rate=1e-3),\n",
    "        loss=losses.sparse_categorical_crossentropy,\n",
    "        metrics=[metrics.SparseCategoricalAccuracy()]\n",
    "    )\n",
    "    return model\n",
    "\n",
    "\n",
    "stacked_bidirectional_lstm_model = get_stacked_bidirectional_lstm_model()\n",
    "stacked_bidirectional_lstm_model_history = stacked_bidirectional_lstm_model.fit(x=train_x, y=train_y,\n",
    "                                                                                validation_data=(val_x, val_y),\n",
    "                                                                                epochs=32)\n",
    "plot_history('Stacked Bidirectional LSTM Model', stacked_bidirectional_lstm_model_history)"
   ]
  },
  {
   "cell_type": "code",
   "execution_count": null,
   "metadata": {},
   "outputs": [],
   "source": []
  }
 ],
 "metadata": {
  "interpreter": {
   "hash": "c5e48f84046969b800ff52f6d80523bcd1ca3fb1a99f1449e4197bf6c73dc096"
  },
  "kernelspec": {
   "display_name": "Python 3.9.7 64-bit ('base': conda)",
   "language": "python",
   "name": "python3"
  },
  "language_info": {
   "codemirror_mode": {
    "name": "ipython",
    "version": 3
   },
   "file_extension": ".py",
   "mimetype": "text/x-python",
   "name": "python",
   "nbconvert_exporter": "python",
   "pygments_lexer": "ipython3",
   "version": "3.9.7"
  },
  "orig_nbformat": 4
 },
 "nbformat": 4,
 "nbformat_minor": 2
}