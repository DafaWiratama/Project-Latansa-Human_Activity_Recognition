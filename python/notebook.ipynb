{
 "cells": [
  {
   "cell_type": "code",
   "execution_count": 30,
   "metadata": {},
   "outputs": [],
   "source": [
    "import pandas as pd\n",
    "import numpy as np\n",
    "import tensorflow as tf\n",
    "from tensorflow.keras import layers, models, activations, losses, optimizers, metrics\n",
    "from matplotlib import pyplot as plt\n",
    "import plotly.graph_objects as go\n",
    "import plotly.express as px\n",
    "import scipy.stats as stats"
   ]
  },
  {
   "cell_type": "code",
   "execution_count": 31,
   "outputs": [
    {
     "data": {
      "text/plain": "<matplotlib.lines.Line2D at 0x1d3bc74f5e0>"
     },
     "execution_count": 31,
     "metadata": {},
     "output_type": "execute_result"
    },
    {
     "data": {
      "text/plain": "<Figure size 720x720 with 1 Axes>",
      "image/png": "[encoded data removed]"
     },
     "metadata": {
      "needs_background": "light"
     },
     "output_type": "display_data"
    }
   ],
   "source": [
    "np.random.seed(0)\n",
    "population = np.random.normal(loc=0, scale=1, size=10_000)\n",
    "\n",
    "fig, ax = plt.subplots(1, 1, figsize=(10, 10))\n",
    "plt.hist(population, bins=100, histtype='step')\n",
    "\n",
    "std = 1\n",
    "mean = np.mean(population)\n",
    "\n",
    "plt.axvline(mean, color='k', linestyle='dashed', linewidth=1)\n",
    "plt.axvline(mean + std, color='r', linestyle='dashed')\n",
    "plt.axvline(mean - std, color='r', linestyle='dashed')\n",
    "\n",
    "plt.axvline(mean + std * 2, color='g', linestyle='dashed')\n",
    "plt.axvline(mean - std * 2, color='g', linestyle='dashed')\n",
    "\n",
    "plt.axvline(mean + std * 3, color='b', linestyle='dashed')\n",
    "plt.axvline(mean - std * 3, color='b', linestyle='dashed')"
   ],
   "metadata": {
    "collapsed": false,
    "pycharm": {
     "name": "#%%\n"
    }
   }
  },
  {
   "cell_type": "code",
   "execution_count": 32,
   "metadata": {},
   "outputs": [],
   "source": [
    "train_df = pd.read_csv(\"dataset_train.csv\")\n",
    "val_df = pd.read_csv(\"dataset_val.csv\")"
   ]
  },
  {
   "cell_type": "code",
   "execution_count": 33,
   "metadata": {},
   "outputs": [
    {
     "data": {
      "text/plain": "       accelerometer_x  accelerometer_y  accelerometer_z  gyroscope_x  \\\n0            -0.774121        -9.433371         1.784629     0.012470   \n1            -0.759082        -9.441336         1.766234     0.001488   \n2            -0.726570        -9.446578         1.737082    -0.009375   \n3            -0.691625        -9.455801         1.717754    -0.010948   \n4            -0.647156        -9.461336         1.690160    -0.010913   \n...                ...              ...              ...          ...   \n17115        -0.369055        -9.602301         1.091332     0.004793   \n17116        -0.379781        -9.598336         1.106293     0.004885   \n17117        -0.388988        -9.594660         1.121250     0.006213   \n17118        -0.396617        -9.593133         1.142656     0.007079   \n17119        -0.392949        -9.590074         1.152445     0.005078   \n\n       gyroscope_y  gyroscope_z  state  \n0        -0.020279     0.001386  STAND  \n1        -0.017445    -0.002156  STAND  \n2        -0.016630    -0.005044  STAND  \n3        -0.015826    -0.009066  STAND  \n4        -0.018142    -0.011370  STAND  \n...            ...          ...    ...  \n17115     0.006843     0.002358  STAND  \n17116     0.004316     0.003684  STAND  \n17117     0.007398     0.003539  STAND  \n17118     0.007009     0.003251  STAND  \n17119     0.004108     0.003950  STAND  \n\n[17120 rows x 7 columns]",
      "text/html": "<div>\n<style scoped>\n    .dataframe tbody tr th:only-of-type {\n        vertical-align: middle;\n    }\n\n    .dataframe tbody tr th {\n        vertical-align: top;\n    }\n\n    .dataframe thead th {\n        text-align: right;\n    }\n</style>\n<table border=\"1\" class=\"dataframe\">\n  <thead>\n    <tr style=\"text-align: right;\">\n      <th></th>\n      <th>accelerometer_x</th>\n      <th>accelerometer_y</th>\n      <th>accelerometer_z</th>\n      <th>gyroscope_x</th>\n      <th>gyroscope_y</th>\n      <th>gyroscope_z</th>\n      <th>state</th>\n    </tr>\n  </thead>\n  <tbody>\n    <tr>\n      <th>0</th>\n      <td>-0.774121</td>\n      <td>-9.433371</td>\n      <td>1.784629</td>\n      <td>0.012470</td>\n      <td>-0.020279</td>\n      <td>0.001386</td>\n      <td>STAND</td>\n    </tr>\n    <tr>\n      <th>1</th>\n      <td>-0.759082</td>\n      <td>-9.441336</td>\n      <td>1.766234</td>\n      <td>0.001488</td>\n      <td>-0.017445</td>\n      <td>-0.002156</td>\n      <td>STAND</td>\n    </tr>\n    <tr>\n      <th>2</th>\n      <td>-0.726570</td>\n      <td>-9.446578</td>\n      <td>1.737082</td>\n      <td>-0.009375</td>\n      <td>-0.016630</td>\n      <td>-0.005044</td>\n      <td>STAND</td>\n    </tr>\n    <tr>\n      <th>3</th>\n      <td>-0.691625</td>\n      <td>-9.455801</td>\n      <td>1.717754</td>\n      <td>-0.010948</td>\n      <td>-0.015826</td>\n      <td>-0.009066</td>\n      <td>STAND</td>\n    </tr>\n    <tr>\n      <th>4</th>\n      <td>-0.647156</td>\n      <td>-9.461336</td>\n      <td>1.690160</td>\n      <td>-0.010913</td>\n      <td>-0.018142</td>\n      <td>-0.011370</td>\n      <td>STAND</td>\n    </tr>\n    <tr>\n      <th>...</th>\n      <td>...</td>\n      <td>...</td>\n      <td>...</td>\n      <td>...</td>\n      <td>...</td>\n      <td>...</td>\n      <td>...</td>\n    </tr>\n    <tr>\n      <th>17115</th>\n      <td>-0.369055</td>\n      <td>-9.602301</td>\n      <td>1.091332</td>\n      <td>0.004793</td>\n      <td>0.006843</td>\n      <td>0.002358</td>\n      <td>STAND</td>\n    </tr>\n    <tr>\n      <th>17116</th>\n      <td>-0.379781</td>\n      <td>-9.598336</td>\n      <td>1.106293</td>\n      <td>0.004885</td>\n      <td>0.004316</td>\n      <td>0.003684</td>\n      <td>STAND</td>\n    </tr>\n    <tr>\n      <th>17117</th>\n      <td>-0.388988</td>\n      <td>-9.594660</td>\n      <td>1.121250</td>\n      <td>0.006213</td>\n      <td>0.007398</td>\n      <td>0.003539</td>\n      <td>STAND</td>\n    </tr>\n    <tr>\n      <th>17118</th>\n      <td>-0.396617</td>\n      <td>-9.593133</td>\n      <td>1.142656</td>\n      <td>0.007079</td>\n      <td>0.007009</td>\n      <td>0.003251</td>\n      <td>STAND</td>\n    </tr>\n    <tr>\n      <th>17119</th>\n      <td>-0.392949</td>\n      <td>-9.590074</td>\n      <td>1.152445</td>\n      <td>0.005078</td>\n      <td>0.004108</td>\n      <td>0.003950</td>\n      <td>STAND</td>\n    </tr>\n  </tbody>\n</table>\n<p>17120 rows × 7 columns</p>\n</div>"
     },
     "execution_count": 33,
     "metadata": {},
     "output_type": "execute_result"
    }
   ],
   "source": [
    "train_df"
   ]
  },
  {
   "cell_type": "code",
   "execution_count": 34,
   "metadata": {},
   "outputs": [],
   "source": [
    "def encode(df):\n",
    "    df.state = df.state.astype('category')\n",
    "    df.state = df.state.cat.codes\n",
    "    return df\n",
    "\n",
    "\n",
    "train_df = encode(train_df)\n",
    "val_df = encode(val_df)"
   ]
  },
  {
   "cell_type": "code",
   "execution_count": 35,
   "metadata": {},
   "outputs": [
    {
     "data": {
      "text/plain": "       accelerometer_x  accelerometer_y  accelerometer_z  gyroscope_x  \\\n0            -0.774121        -9.433371         1.784629     0.012470   \n1            -0.759082        -9.441336         1.766234     0.001488   \n2            -0.726570        -9.446578         1.737082    -0.009375   \n3            -0.691625        -9.455801         1.717754    -0.010948   \n4            -0.647156        -9.461336         1.690160    -0.010913   \n...                ...              ...              ...          ...   \n17115        -0.369055        -9.602301         1.091332     0.004793   \n17116        -0.379781        -9.598336         1.106293     0.004885   \n17117        -0.388988        -9.594660         1.121250     0.006213   \n17118        -0.396617        -9.593133         1.142656     0.007079   \n17119        -0.392949        -9.590074         1.152445     0.005078   \n\n       gyroscope_y  gyroscope_z  state  \n0        -0.020279     0.001386      8  \n1        -0.017445    -0.002156      8  \n2        -0.016630    -0.005044      8  \n3        -0.015826    -0.009066      8  \n4        -0.018142    -0.011370      8  \n...            ...          ...    ...  \n17115     0.006843     0.002358      8  \n17116     0.004316     0.003684      8  \n17117     0.007398     0.003539      8  \n17118     0.007009     0.003251      8  \n17119     0.004108     0.003950      8  \n\n[17120 rows x 7 columns]",
      "text/html": "<div>\n<style scoped>\n    .dataframe tbody tr th:only-of-type {\n        vertical-align: middle;\n    }\n\n    .dataframe tbody tr th {\n        vertical-align: top;\n    }\n\n    .dataframe thead th {\n        text-align: right;\n    }\n</style>\n<table border=\"1\" class=\"dataframe\">\n  <thead>\n    <tr style=\"text-align: right;\">\n      <th></th>\n      <th>accelerometer_x</th>\n      <th>accelerometer_y</th>\n      <th>accelerometer_z</th>\n      <th>gyroscope_x</th>\n      <th>gyroscope_y</th>\n      <th>gyroscope_z</th>\n      <th>state</th>\n    </tr>\n  </thead>\n  <tbody>\n    <tr>\n      <th>0</th>\n      <td>-0.774121</td>\n      <td>-9.433371</td>\n      <td>1.784629</td>\n      <td>0.012470</td>\n      <td>-0.020279</td>\n      <td>0.001386</td>\n      <td>8</td>\n    </tr>\n    <tr>\n      <th>1</th>\n      <td>-0.759082</td>\n      <td>-9.441336</td>\n      <td>1.766234</td>\n      <td>0.001488</td>\n      <td>-0.017445</td>\n      <td>-0.002156</td>\n      <td>8</td>\n    </tr>\n    <tr>\n      <th>2</th>\n      <td>-0.726570</td>\n      <td>-9.446578</td>\n      <td>1.737082</td>\n      <td>-0.009375</td>\n      <td>-0.016630</td>\n      <td>-0.005044</td>\n      <td>8</td>\n    </tr>\n    <tr>\n      <th>3</th>\n      <td>-0.691625</td>\n      <td>-9.455801</td>\n      <td>1.717754</td>\n      <td>-0.010948</td>\n      <td>-0.015826</td>\n      <td>-0.009066</td>\n      <td>8</td>\n    </tr>\n    <tr>\n      <th>4</th>\n      <td>-0.647156</td>\n      <td>-9.461336</td>\n      <td>1.690160</td>\n      <td>-0.010913</td>\n      <td>-0.018142</td>\n      <td>-0.011370</td>\n      <td>8</td>\n    </tr>\n    <tr>\n      <th>...</th>\n      <td>...</td>\n      <td>...</td>\n      <td>...</td>\n      <td>...</td>\n      <td>...</td>\n      <td>...</td>\n      <td>...</td>\n    </tr>\n    <tr>\n      <th>17115</th>\n      <td>-0.369055</td>\n      <td>-9.602301</td>\n      <td>1.091332</td>\n      <td>0.004793</td>\n      <td>0.006843</td>\n      <td>0.002358</td>\n      <td>8</td>\n    </tr>\n    <tr>\n      <th>17116</th>\n      <td>-0.379781</td>\n      <td>-9.598336</td>\n      <td>1.106293</td>\n      <td>0.004885</td>\n      <td>0.004316</td>\n      <td>0.003684</td>\n      <td>8</td>\n    </tr>\n    <tr>\n      <th>17117</th>\n      <td>-0.388988</td>\n      <td>-9.594660</td>\n      <td>1.121250</td>\n      <td>0.006213</td>\n      <td>0.007398</td>\n      <td>0.003539</td>\n      <td>8</td>\n    </tr>\n    <tr>\n      <th>17118</th>\n      <td>-0.396617</td>\n      <td>-9.593133</td>\n      <td>1.142656</td>\n      <td>0.007079</td>\n      <td>0.007009</td>\n      <td>0.003251</td>\n      <td>8</td>\n    </tr>\n    <tr>\n      <th>17119</th>\n      <td>-0.392949</td>\n      <td>-9.590074</td>\n      <td>1.152445</td>\n      <td>0.005078</td>\n      <td>0.004108</td>\n      <td>0.003950</td>\n      <td>8</td>\n    </tr>\n  </tbody>\n</table>\n<p>17120 rows × 7 columns</p>\n</div>"
     },
     "execution_count": 35,
     "metadata": {},
     "output_type": "execute_result"
    }
   ],
   "source": [
    "train_df"
   ]
  },
  {
   "cell_type": "code",
   "execution_count": 36,
   "outputs": [
    {
     "data": {
      "text/plain": "<BarContainer object of 16 artists>"
     },
     "execution_count": 36,
     "metadata": {},
     "output_type": "execute_result"
    },
    {
     "data": {
      "text/plain": "<Figure size 432x288 with 1 Axes>",
      "image/png": "[encoded data removed]"
     },
     "metadata": {
      "needs_background": "light"
     },
     "output_type": "display_data"
    }
   ],
   "source": [
    "t = train_df.groupby('state').count()[\"accelerometer_x\"].reset_index()\n",
    "plt.bar(t['state'], t.sort_values(by='accelerometer_x', ascending=False)['accelerometer_x'])"
   ],
   "metadata": {
    "collapsed": false,
    "pycharm": {
     "name": "#%%\n"
    }
   }
  },
  {
   "cell_type": "code",
   "execution_count": 37,
   "metadata": {},
   "outputs": [
    {
     "data": {
      "text/plain": "Text(0.5, 1.0, 'Gyroscope Z')"
     },
     "execution_count": 37,
     "metadata": {},
     "output_type": "execute_result"
    },
    {
     "data": {
      "text/plain": "<Figure size 1728x576 with 6 Axes>",
      "image/png": "[encoded data removed]"
     },
     "metadata": {
      "needs_background": "light"
     },
     "output_type": "display_data"
    }
   ],
   "source": [
    "fig, ax = plt.subplots(2, 3, figsize=(8 * 3, 8))\n",
    "ax[0, 0].hist(train_df.accelerometer_x, bins=64)\n",
    "ax[0, 0].set_title(\"Accelerometer X\")\n",
    "ax[0, 1].hist(train_df.accelerometer_y, bins=64)\n",
    "ax[0, 1].set_title(\"Accelerometer Y\")\n",
    "ax[0, 2].hist(train_df.accelerometer_z, bins=64)\n",
    "ax[0, 2].set_title(\"Accelerometer Z\")\n",
    "\n",
    "ax[1, 0].hist(train_df.gyroscope_x, bins=64)\n",
    "ax[1, 0].set_title(\"Gyroscope X\")\n",
    "ax[1, 1].hist(train_df.gyroscope_y, bins=64)\n",
    "ax[1, 1].set_title(\"Gyroscope Y\")\n",
    "ax[1, 2].hist(train_df.gyroscope_z, bins=64)\n",
    "ax[1, 2].set_title(\"Gyroscope Z\")"
   ]
  },
  {
   "cell_type": "code",
   "execution_count": 38,
   "metadata": {},
   "outputs": [],
   "source": [
    "def normalize(column):\n",
    "    return (column - column.min()) / ((column.max() - column.min()) / 2) - 1\n"
   ]
  },
  {
   "cell_type": "code",
   "execution_count": 39,
   "metadata": {},
   "outputs": [],
   "source": [
    "def normalize_columns(df):\n",
    "    columns = ['accelerometer_x', 'accelerometer_y', 'accelerometer_z', 'gyroscope_x', 'gyroscope_y', 'gyroscope_z']\n",
    "    for column in columns:\n",
    "        df[column] = normalize(df[column])\n",
    "    return df\n",
    "\n",
    "\n",
    "train_df = normalize_columns(train_df)\n",
    "val_df = normalize_columns(val_df)\n"
   ]
  },
  {
   "cell_type": "code",
   "execution_count": 40,
   "metadata": {},
   "outputs": [
    {
     "data": {
      "text/plain": "Text(0.5, 1.0, 'Gyroscope Z')"
     },
     "execution_count": 40,
     "metadata": {},
     "output_type": "execute_result"
    },
    {
     "data": {
      "text/plain": "<Figure size 1728x576 with 6 Axes>",
      "image/png": "[encoded data removed]"
     },
     "metadata": {
      "needs_background": "light"
     },
     "output_type": "display_data"
    }
   ],
   "source": [
    "_, ax = plt.subplots(2, 3, figsize=(8 * 3, 8))\n",
    "\n",
    "ax[0, 0].hist(train_df.accelerometer_x, bins=64)\n",
    "ax[0, 0].set_title(\"Accelerometer X\")\n",
    "ax[0, 1].hist(train_df.accelerometer_y, bins=64)\n",
    "ax[0, 1].set_title(\"Accelerometer Y\")\n",
    "ax[0, 2].hist(train_df.accelerometer_z, bins=64)\n",
    "ax[0, 2].set_title(\"Accelerometer Z\")\n",
    "\n",
    "ax[1, 0].hist(train_df.gyroscope_x, bins=64)\n",
    "ax[1, 0].set_title(\"Gyroscope X\")\n",
    "ax[1, 1].hist(train_df.gyroscope_y, bins=64)\n",
    "ax[1, 1].set_title(\"Gyroscope Y\")\n",
    "ax[1, 2].hist(train_df.gyroscope_z, bins=64)\n",
    "ax[1, 2].set_title(\"Gyroscope Z\")"
   ]
  },
  {
   "cell_type": "code",
   "execution_count": 41,
   "metadata": {},
   "outputs": [],
   "source": [
    "def create_window(df: pd.DataFrame, window=128, step=8):\n",
    "    window_x = []\n",
    "    window_y = []\n",
    "\n",
    "    for i in range(0, len(df) - window, step):\n",
    "        window_x.append(df.iloc[i:i + window])\n",
    "        window_y.append(df.iloc[i + window]['state'])\n",
    "\n",
    "    window_x = np.array(window_x)\n",
    "    window_y = np.array(window_y)\n",
    "\n",
    "    return window_x, window_y\n",
    "\n",
    "\n",
    "train_x, train_y = create_window(train_df)\n",
    "val_x, val_y = create_window(val_df)"
   ]
  },
  {
   "cell_type": "code",
   "execution_count": 42,
   "outputs": [
    {
     "data": {
      "application/vnd.plotly.v1+json": {
       "data": [
        {
         "y": [
          -0.6942434568539296,
          -0.7104054017516669,
          -0.7116730072275291,
          -0.7122443990604848,
          -0.7318563001684185,
          -0.5088703850474985,
          -0.2493153303186545,
          -0.039740695087281286,
          0.058918087213539305,
          0.10245683910259351,
          0.23119164708097273,
          0.3680816191100722,
          0.482505172978134,
          0.590074759766609,
          0.5966334992183373,
          0.675443969049474,
          0.708998334255563,
          0.6964872217129643,
          0.6216186939163137,
          0.59933410093721,
          0.46873791793283726,
          0.3411918078117919,
          0.22245990170998908,
          0.09970604326699228,
          0.08373941123428685,
          0.05693483087940576,
          0.0712094346249823,
          0.1346837172577926,
          0.28307940563487377,
          0.18785859949131822,
          0.09952118413509559,
          0.03539447143296259,
          -0.13913167479893995,
          -0.32420382487019117,
          -0.47179783402138165,
          -0.5747291716843133,
          -0.65600195667968,
          -0.731756665750044,
          -0.8010413363534113,
          -0.7280617445573618,
          -0.5919259302545365,
          -0.536137926231033,
          -0.3824247203501788,
          -0.18599482596278694,
          -0.033052959808199556,
          0.06762920546270479,
          0.09928823658480157,
          0.21851452701343055,
          0.3908177099446648,
          0.6025795302947068,
          0.7322680327208078,
          0.7442635419764732,
          0.7487871613703785,
          0.749441298425922,
          0.7493397638951482,
          0.7481557882843679,
          0.7574032677696954,
          0.6378932376058781,
          0.3861554944833818,
          0.1176750635852366,
          0.0075118856702993675,
          -7.494541693497947E-5,
          -0.030501152464894377,
          -0.1330177547748579,
          -0.18881394485637082,
          -0.21682893418895266,
          -0.23448196893010953,
          -0.22917284307027752,
          -0.13823918266010993,
          -0.0639361906122985,
          -0.08508695848821313,
          -0.07517336189441082,
          0.04674564322916441,
          0.3067213454639832,
          0.3341962792435087,
          0.3080794897382093,
          0.2185051635087214,
          0.10652575848437551,
          0.07187319061018038,
          0.18681941244537503,
          0.32600005407533006,
          0.3441625619047275,
          0.273652144367176,
          0.1208180986889722,
          0.10440793681310168,
          0.18726678612247616,
          0.2813654544115689,
          0.397484718423901,
          0.47879629063172335,
          0.3833702287398917,
          -0.019246705734638825,
          -0.3232713556124521,
          -0.5479991567238871,
          -0.6475291810540478,
          -0.659833704654752,
          -0.6685335842063156,
          -0.6673248697550822,
          -0.6685052569568721,
          -0.6801752987630827,
          -0.6866798009080917,
          -0.4938309268773202,
          -0.252422032781362,
          0.03453596950151394,
          0.3083825670107343,
          0.4568499674987332,
          0.5632861278961296,
          0.5755766405040919,
          0.5987385683319668,
          0.6783768828712156,
          0.6835931648782976,
          0.6256790285279761,
          0.5895461921062228,
          0.5168244549075918,
          0.35807719091369994,
          0.21440148141484472,
          0.10511638593388528,
          0.04890174126300284,
          0.0512083904976437,
          0.010635620615957908,
          0.08347627370141031,
          0.24060930187876872,
          0.35293822790658314,
          0.26850631603591446,
          0.15748588839474875,
          -0.03990756856508848,
          -0.3081322754836533,
          -0.4678698718302543,
          -0.540357670928193
         ],
         "type": "scatter"
        },
        {
         "y": [
          0.2480487249470833,
          0.2710681714040888,
          0.2750877936322338,
          0.2810722253546991,
          0.2775987406131404,
          0.2677298779737429,
          0.2722203383837427,
          0.2506466100792353,
          0.23203769223010973,
          0.2250678573704865,
          0.2010810284337019,
          0.15105976730195536,
          0.12420885744232968,
          0.10745873523368332,
          0.09648907237068394,
          0.07073519731466238,
          0.06292149302735006,
          0.06305119385900126,
          0.09469720540320314,
          0.09445000042641394,
          0.10480360480330897,
          0.14170147984916825,
          0.17080792479509133,
          0.19294797287356258,
          0.19221118447188812,
          0.18349920619822813,
          0.1969519452643267,
          0.16227730818783015,
          0.12889180296959024,
          0.07585748125423386,
          0.08670990676513846,
          0.10328193855390566,
          0.12590470316813662,
          0.14263649548201274,
          0.17837257474474644,
          0.26016886004756357,
          0.29378253395260545,
          0.3454813351693018,
          0.3630434935447888,
          0.3985356845533401,
          0.4126692612754992,
          0.3981158371918856,
          0.37862883977074646,
          0.36299785374395044,
          0.32968660188044274,
          0.2777828217495375,
          0.2389998749801734,
          0.20291688290419652,
          0.16204849070885485,
          0.15217668425076347,
          0.13455943311183538,
          0.10974351447561292,
          0.1092700356489773,
          0.10920438940163057,
          0.11051736588813177,
          0.115497170215626,
          0.12582006913862864,
          0.15484305940156484,
          0.24577547237731978,
          0.2819960508384207,
          0.2674966705365096,
          0.27289640711415375,
          0.3008167326339246,
          0.29381131122041215,
          0.30875569322332574,
          0.3123777453091314,
          0.3014619594821826,
          0.2841941223412787,
          0.2354779763964736,
          0.20365830077152025,
          0.216390158971151,
          0.21499497687818359,
          0.24417244637666724,
          0.2498781976067126,
          0.17462544219772114,
          0.15628499091189196,
          0.16536839664138703,
          0.17094491695934644,
          0.18704047456321882,
          0.21925161440790708,
          0.2360723973604184,
          0.2392501511086993,
          0.189252952890415,
          0.16743408725520426,
          0.212105311108838,
          0.2491042673689765,
          0.2334089357109197,
          0.22570678123309662,
          0.2071684271121843,
          0.1918985394060131,
          0.18094019099344072,
          0.19199321758725318,
          0.21899316167895178,
          0.238718371938625,
          0.24904579724814657,
          0.2537020361854252,
          0.2575319139884813,
          0.26521100299501543,
          0.27802335386850485,
          0.2724431803048959,
          0.2532010746435909,
          0.26081811607712346,
          0.2523220036928824,
          0.20159590565813534,
          0.12950785842395507,
          0.08715646981179259,
          0.08353851360554909,
          0.05555347258234411,
          0.02777833704943178,
          0.035922194696085485,
          0.03698655947884255,
          0.07067027565296713,
          0.06888452370330822,
          0.09134326819895455,
          0.1534320819477386,
          0.19947911508130933,
          0.20711118181396238,
          0.21941811752083762,
          0.20460587386783424,
          0.20253436534662983,
          0.17984072473505575,
          0.12602812526805307,
          0.0877305114253164,
          0.10105689063628343,
          0.11452403955845947,
          0.11128022724631026,
          0.14957104089818185,
          0.22185054549005834
         ],
         "type": "scatter"
        },
        {
         "y": [
          -0.10920003673780543,
          -0.09047196943676772,
          -0.08745439502975261,
          -0.08824064827712597,
          -0.10421814239159166,
          -0.1471903655183121,
          -0.10555094128252818,
          -0.05768396183544422,
          -0.009559715192604124,
          0.02567613876523267,
          0.09506683485913858,
          0.20556149910980825,
          0.3316652761421406,
          0.41034806863495144,
          0.4724369843130929,
          0.5536531247306129,
          0.6810020141694715,
          0.8216699566562786,
          0.9091287861741446,
          0.9057291457244028,
          0.8586494450976092,
          0.7387133967034094,
          0.6007451991176016,
          0.510933027558025,
          0.44699902148081416,
          0.36845479726613917,
          0.2271987422195385,
          1.3513037935730665E-5,
          -0.22903221243155558,
          -0.35482487968998533,
          -0.39984884615856653,
          -0.43929304048336504,
          -0.5164911511952321,
          -0.6376940630598256,
          -0.7389247449865565,
          -0.7956229060685457,
          -0.8044482686918997,
          -0.7356471432549345,
          -0.6154629418869026,
          -0.5095474294979094,
          -0.4591474900602196,
          -0.4145142891681094,
          -0.34055022009296443,
          -0.21208169040546554,
          -0.09996249635907684,
          -0.022028666390572105,
          0.014292801090121543,
          0.04174362467366555,
          0.09914590398940848,
          0.14567602238500177,
          0.17362393670244214,
          0.18938552542279874,
          0.1870343727563153,
          0.1774935258758792,
          0.16914325321784385,
          0.16832689271683487,
          0.1560867200825915,
          0.16894048407509876,
          0.19925707051985397,
          0.22690660108558913,
          0.3333322512795889,
          0.4864161050085003,
          0.6007404190560053,
          0.6830370897219236,
          0.7283339076355875,
          0.7124069965609978,
          0.699357067223529,
          0.6838320603390922,
          0.59587181930404,
          0.512294903670667,
          0.3936880735802193,
          0.22178984835979154,
          0.08797900233091549,
          -0.07265406242753758,
          -0.20248766533977225,
          -0.23340141168105477,
          -0.2639369088944673,
          -0.36170399029353206,
          -0.47774847549979316,
          -0.6187766482442186,
          -0.7088595576768665,
          -0.6869580556394934,
          -0.6614765995975049,
          -0.6051609504595108,
          -0.5216500683449595,
          -0.4711502693182349,
          -0.43872223335179406,
          -0.34124717715234887,
          -0.2203532882437227,
          -0.07395958553789239,
          0.032964791847658326,
          -0.035826238384592535,
          -0.12276657390768375,
          -0.15923610736352767,
          -0.16099214682030538,
          -0.16938842311219082,
          -0.1696920640398496,
          -0.17602342060739629,
          -0.17341632953093633,
          -0.1699255780750435,
          -0.1618581495095136,
          -0.07945419053943092,
          0.017186004715383563,
          0.1663128280321451,
          0.32002728871171837,
          0.44959946862837663,
          0.5182460268496996,
          0.5800187628565183,
          0.6921409667364675,
          0.8161623937638836,
          0.9025605534758412,
          0.9420263026679487,
          0.9047107428997163,
          0.8016052423363589,
          0.6598760414539693,
          0.5141923250425833,
          0.43477297053973785,
          0.37364538678295345,
          0.2670518815155163,
          0.12297439957081102,
          -0.055669384364295915,
          -0.2304801385709535,
          -0.3477671856284861,
          -0.3945722467461108,
          -0.46582723374769863,
          -0.5921544786596502,
          -0.678147367626879,
          -0.7383319861355473
         ],
         "type": "scatter"
        }
       ],
       "layout": {
        "template": {
         "data": {
          "bar": [
           {
            "error_x": {
             "color": "#2a3f5f"
            },
            "error_y": {
             "color": "#2a3f5f"
            },
            "marker": {
             "line": {
              "color": "#E5ECF6",
              "width": 0.5
             },
             "pattern": {
              "fillmode": "overlay",
              "size": 10,
              "solidity": 0.2
             }
            },
            "type": "bar"
           }
          ],
          "barpolar": [
           {
            "marker": {
             "line": {
              "color": "#E5ECF6",
              "width": 0.5
             },
             "pattern": {
              "fillmode": "overlay",
              "size": 10,
              "solidity": 0.2
             }
            },
            "type": "barpolar"
           }
          ],
          "carpet": [
           {
            "aaxis": {
             "endlinecolor": "#2a3f5f",
             "gridcolor": "white",
             "linecolor": "white",
             "minorgridcolor": "white",
             "startlinecolor": "#2a3f5f"
            },
            "baxis": {
             "endlinecolor": "#2a3f5f",
             "gridcolor": "white",
             "linecolor": "white",
             "minorgridcolor": "white",
             "startlinecolor": "#2a3f5f"
            },
            "type": "carpet"
           }
          ],
          "choropleth": [
           {
            "colorbar": {
             "outlinewidth": 0,
             "ticks": ""
            },
            "type": "choropleth"
           }
          ],
          "contour": [
           {
            "colorbar": {
             "outlinewidth": 0,
             "ticks": ""
            },
            "colorscale": [
             [
              0.0,
              "#0d0887"
             ],
             [
              0.1111111111111111,
              "#46039f"
             ],
             [
              0.2222222222222222,
              "#7201a8"
             ],
             [
              0.3333333333333333,
              "#9c179e"
             ],
             [
              0.4444444444444444,
              "#bd3786"
             ],
             [
              0.5555555555555556,
              "#d8576b"
             ],
             [
              0.6666666666666666,
              "#ed7953"
             ],
             [
              0.7777777777777778,
              "#fb9f3a"
             ],
             [
              0.8888888888888888,
              "#fdca26"
             ],
             [
              1.0,
              "#f0f921"
             ]
            ],
            "type": "contour"
           }
          ],
          "contourcarpet": [
           {
            "colorbar": {
             "outlinewidth": 0,
             "ticks": ""
            },
            "type": "contourcarpet"
           }
          ],
          "heatmap": [
           {
            "colorbar": {
             "outlinewidth": 0,
             "ticks": ""
            },
            "colorscale": [
             [
              0.0,
              "#0d0887"
             ],
             [
              0.1111111111111111,
              "#46039f"
             ],
             [
              0.2222222222222222,
              "#7201a8"
             ],
             [
              0.3333333333333333,
              "#9c179e"
             ],
             [
              0.4444444444444444,
              "#bd3786"
             ],
             [
              0.5555555555555556,
              "#d8576b"
             ],
             [
              0.6666666666666666,
              "#ed7953"
             ],
             [
              0.7777777777777778,
              "#fb9f3a"
             ],
             [
              0.8888888888888888,
              "#fdca26"
             ],
             [
              1.0,
              "#f0f921"
             ]
            ],
            "type": "heatmap"
           }
          ],
          "heatmapgl": [
           {
            "colorbar": {
             "outlinewidth": 0,
             "ticks": ""
            },
            "colorscale": [
             [
              0.0,
              "#0d0887"
             ],
             [
              0.1111111111111111,
              "#46039f"
             ],
             [
              0.2222222222222222,
              "#7201a8"
             ],
             [
              0.3333333333333333,
              "#9c179e"
             ],
             [
              0.4444444444444444,
              "#bd3786"
             ],
             [
              0.5555555555555556,
              "#d8576b"
             ],
             [
              0.6666666666666666,
              "#ed7953"
             ],
             [
              0.7777777777777778,
              "#fb9f3a"
             ],
             [
              0.8888888888888888,
              "#fdca26"
             ],
             [
              1.0,
              "#f0f921"
             ]
            ],
            "type": "heatmapgl"
           }
          ],
          "histogram": [
           {
            "marker": {
             "pattern": {
              "fillmode": "overlay",
              "size": 10,
              "solidity": 0.2
             }
            },
            "type": "histogram"
           }
          ],
          "histogram2d": [
           {
            "colorbar": {
             "outlinewidth": 0,
             "ticks": ""
            },
            "colorscale": [
             [
              0.0,
              "#0d0887"
             ],
             [
              0.1111111111111111,
              "#46039f"
             ],
             [
              0.2222222222222222,
              "#7201a8"
             ],
             [
              0.3333333333333333,
              "#9c179e"
             ],
             [
              0.4444444444444444,
              "#bd3786"
             ],
             [
              0.5555555555555556,
              "#d8576b"
             ],
             [
              0.6666666666666666,
              "#ed7953"
             ],
             [
              0.7777777777777778,
              "#fb9f3a"
             ],
             [
              0.8888888888888888,
              "#fdca26"
             ],
             [
              1.0,
              "#f0f921"
             ]
            ],
            "type": "histogram2d"
           }
          ],
          "histogram2dcontour": [
           {
            "colorbar": {
             "outlinewidth": 0,
             "ticks": ""
            },
            "colorscale": [
             [
              0.0,
              "#0d0887"
             ],
             [
              0.1111111111111111,
              "#46039f"
             ],
             [
              0.2222222222222222,
              "#7201a8"
             ],
             [
              0.3333333333333333,
              "#9c179e"
             ],
             [
              0.4444444444444444,
              "#bd3786"
             ],
             [
              0.5555555555555556,
              "#d8576b"
             ],
             [
              0.6666666666666666,
              "#ed7953"
             ],
             [
              0.7777777777777778,
              "#fb9f3a"
             ],
             [
              0.8888888888888888,
              "#fdca26"
             ],
             [
              1.0,
              "#f0f921"
             ]
            ],
            "type": "histogram2dcontour"
           }
          ],
          "mesh3d": [
           {
            "colorbar": {
             "outlinewidth": 0,
             "ticks": ""
            },
            "type": "mesh3d"
           }
          ],
          "parcoords": [
           {
            "line": {
             "colorbar": {
              "outlinewidth": 0,
              "ticks": ""
             }
            },
            "type": "parcoords"
           }
          ],
          "pie": [
           {
            "automargin": true,
            "type": "pie"
           }
          ],
          "scatter": [
           {
            "marker": {
             "colorbar": {
              "outlinewidth": 0,
              "ticks": ""
             }
            },
            "type": "scatter"
           }
          ],
          "scatter3d": [
           {
            "line": {
             "colorbar": {
              "outlinewidth": 0,
              "ticks": ""
             }
            },
            "marker": {
             "colorbar": {
              "outlinewidth": 0,
              "ticks": ""
             }
            },
            "type": "scatter3d"
           }
          ],
          "scattercarpet": [
           {
            "marker": {
             "colorbar": {
              "outlinewidth": 0,
              "ticks": ""
             }
            },
            "type": "scattercarpet"
           }
          ],
          "scattergeo": [
           {
            "marker": {
             "colorbar": {
              "outlinewidth": 0,
              "ticks": ""
             }
            },
            "type": "scattergeo"
           }
          ],
          "scattergl": [
           {
            "marker": {
             "colorbar": {
              "outlinewidth": 0,
              "ticks": ""
             }
            },
            "type": "scattergl"
           }
          ],
          "scattermapbox": [
           {
            "marker": {
             "colorbar": {
              "outlinewidth": 0,
              "ticks": ""
             }
            },
            "type": "scattermapbox"
           }
          ],
          "scatterpolar": [
           {
            "marker": {
             "colorbar": {
              "outlinewidth": 0,
              "ticks": ""
             }
            },
            "type": "scatterpolar"
           }
          ],
          "scatterpolargl": [
           {
            "marker": {
             "colorbar": {
              "outlinewidth": 0,
              "ticks": ""
             }
            },
            "type": "scatterpolargl"
           }
          ],
          "scatterternary": [
           {
            "marker": {
             "colorbar": {
              "outlinewidth": 0,
              "ticks": ""
             }
            },
            "type": "scatterternary"
           }
          ],
          "surface": [
           {
            "colorbar": {
             "outlinewidth": 0,
             "ticks": ""
            },
            "colorscale": [
             [
              0.0,
              "#0d0887"
             ],
             [
              0.1111111111111111,
              "#46039f"
             ],
             [
              0.2222222222222222,
              "#7201a8"
             ],
             [
              0.3333333333333333,
              "#9c179e"
             ],
             [
              0.4444444444444444,
              "#bd3786"
             ],
             [
              0.5555555555555556,
              "#d8576b"
             ],
             [
              0.6666666666666666,
              "#ed7953"
             ],
             [
              0.7777777777777778,
              "#fb9f3a"
             ],
             [
              0.8888888888888888,
              "#fdca26"
             ],
             [
              1.0,
              "#f0f921"
             ]
            ],
            "type": "surface"
           }
          ],
          "table": [
           {
            "cells": {
             "fill": {
              "color": "#EBF0F8"
             },
             "line": {
              "color": "white"
             }
            },
            "header": {
             "fill": {
              "color": "#C8D4E3"
             },
             "line": {
              "color": "white"
             }
            },
            "type": "table"
           }
          ]
         },
         "layout": {
          "annotationdefaults": {
           "arrowcolor": "#2a3f5f",
           "arrowhead": 0,
           "arrowwidth": 1
          },
          "autotypenumbers": "strict",
          "coloraxis": {
           "colorbar": {
            "outlinewidth": 0,
            "ticks": ""
           }
          },
          "colorscale": {
           "diverging": [
            [
             0,
             "#8e0152"
            ],
            [
             0.1,
             "#c51b7d"
            ],
            [
             0.2,
             "#de77ae"
            ],
            [
             0.3,
             "#f1b6da"
            ],
            [
             0.4,
             "#fde0ef"
            ],
            [
             0.5,
             "#f7f7f7"
            ],
            [
             0.6,
             "#e6f5d0"
            ],
            [
             0.7,
             "#b8e186"
            ],
            [
             0.8,
             "#7fbc41"
            ],
            [
             0.9,
             "#4d9221"
            ],
            [
             1,
             "#276419"
            ]
           ],
           "sequential": [
            [
             0.0,
             "#0d0887"
            ],
            [
             0.1111111111111111,
             "#46039f"
            ],
            [
             0.2222222222222222,
             "#7201a8"
            ],
            [
             0.3333333333333333,
             "#9c179e"
            ],
            [
             0.4444444444444444,
             "#bd3786"
            ],
            [
             0.5555555555555556,
             "#d8576b"
            ],
            [
             0.6666666666666666,
             "#ed7953"
            ],
            [
             0.7777777777777778,
             "#fb9f3a"
            ],
            [
             0.8888888888888888,
             "#fdca26"
            ],
            [
             1.0,
             "#f0f921"
            ]
           ],
           "sequentialminus": [
            [
             0.0,
             "#0d0887"
            ],
            [
             0.1111111111111111,
             "#46039f"
            ],
            [
             0.2222222222222222,
             "#7201a8"
            ],
            [
             0.3333333333333333,
             "#9c179e"
            ],
            [
             0.4444444444444444,
             "#bd3786"
            ],
            [
             0.5555555555555556,
             "#d8576b"
            ],
            [
             0.6666666666666666,
             "#ed7953"
            ],
            [
             0.7777777777777778,
             "#fb9f3a"
            ],
            [
             0.8888888888888888,
             "#fdca26"
            ],
            [
             1.0,
             "#f0f921"
            ]
           ]
          },
          "colorway": [
           "#636efa",
           "#EF553B",
           "#00cc96",
           "#ab63fa",
           "#FFA15A",
           "#19d3f3",
           "#FF6692",
           "#B6E880",
           "#FF97FF",
           "#FECB52"
          ],
          "font": {
           "color": "#2a3f5f"
          },
          "geo": {
           "bgcolor": "white",
           "lakecolor": "white",
           "landcolor": "#E5ECF6",
           "showlakes": true,
           "showland": true,
           "subunitcolor": "white"
          },
          "hoverlabel": {
           "align": "left"
          },
          "hovermode": "closest",
          "mapbox": {
           "style": "light"
          },
          "paper_bgcolor": "white",
          "plot_bgcolor": "#E5ECF6",
          "polar": {
           "angularaxis": {
            "gridcolor": "white",
            "linecolor": "white",
            "ticks": ""
           },
           "bgcolor": "#E5ECF6",
           "radialaxis": {
            "gridcolor": "white",
            "linecolor": "white",
            "ticks": ""
           }
          },
          "scene": {
           "xaxis": {
            "backgroundcolor": "#E5ECF6",
            "gridcolor": "white",
            "gridwidth": 2,
            "linecolor": "white",
            "showbackground": true,
            "ticks": "",
            "zerolinecolor": "white"
           },
           "yaxis": {
            "backgroundcolor": "#E5ECF6",
            "gridcolor": "white",
            "gridwidth": 2,
            "linecolor": "white",
            "showbackground": true,
            "ticks": "",
            "zerolinecolor": "white"
           },
           "zaxis": {
            "backgroundcolor": "#E5ECF6",
            "gridcolor": "white",
            "gridwidth": 2,
            "linecolor": "white",
            "showbackground": true,
            "ticks": "",
            "zerolinecolor": "white"
           }
          },
          "shapedefaults": {
           "line": {
            "color": "#2a3f5f"
           }
          },
          "ternary": {
           "aaxis": {
            "gridcolor": "white",
            "linecolor": "white",
            "ticks": ""
           },
           "baxis": {
            "gridcolor": "white",
            "linecolor": "white",
            "ticks": ""
           },
           "bgcolor": "#E5ECF6",
           "caxis": {
            "gridcolor": "white",
            "linecolor": "white",
            "ticks": ""
           }
          },
          "title": {
           "x": 0.05
          },
          "xaxis": {
           "automargin": true,
           "gridcolor": "white",
           "linecolor": "white",
           "ticks": "",
           "title": {
            "standoff": 15
           },
           "zerolinecolor": "white",
           "zerolinewidth": 2
          },
          "yaxis": {
           "automargin": true,
           "gridcolor": "white",
           "linecolor": "white",
           "ticks": "",
           "title": {
            "standoff": 15
           },
           "zerolinecolor": "white",
           "zerolinewidth": 2
          }
         }
        }
       },
       "config": {
        "plotlyServerURL": "https://plot.ly"
       }
      },
      "text/html": "<div>                            <div id=\"3cf951fd-026f-455a-b948-7364d0b93b30\" class=\"plotly-graph-div\" style=\"height:525px; width:100%;\"></div>            <script type=\"text/javascript\">                require([\"plotly\"], function(Plotly) {                    window.PLOTLYENV=window.PLOTLYENV || {};                                    if (document.getElementById(\"3cf951fd-026f-455a-b948-7364d0b93b30\")) {                    Plotly.newPlot(                        \"3cf951fd-026f-455a-b948-7364d0b93b30\",                        [{\"y\":[-0.6942434568539296,-0.7104054017516669,-0.7116730072275291,-0.7122443990604848,-0.7318563001684185,-0.5088703850474985,-0.2493153303186545,-0.039740695087281286,0.058918087213539305,0.10245683910259351,0.23119164708097273,0.3680816191100722,0.482505172978134,0.590074759766609,0.5966334992183373,0.675443969049474,0.708998334255563,0.6964872217129643,0.6216186939163137,0.59933410093721,0.46873791793283726,0.3411918078117919,0.22245990170998908,0.09970604326699228,0.08373941123428685,0.05693483087940576,0.0712094346249823,0.1346837172577926,0.28307940563487377,0.18785859949131822,0.09952118413509559,0.03539447143296259,-0.13913167479893995,-0.32420382487019117,-0.47179783402138165,-0.5747291716843133,-0.65600195667968,-0.731756665750044,-0.8010413363534113,-0.7280617445573618,-0.5919259302545365,-0.536137926231033,-0.3824247203501788,-0.18599482596278694,-0.033052959808199556,0.06762920546270479,0.09928823658480157,0.21851452701343055,0.3908177099446648,0.6025795302947068,0.7322680327208078,0.7442635419764732,0.7487871613703785,0.749441298425922,0.7493397638951482,0.7481557882843679,0.7574032677696954,0.6378932376058781,0.3861554944833818,0.1176750635852366,0.0075118856702993675,-7.494541693497947e-05,-0.030501152464894377,-0.1330177547748579,-0.18881394485637082,-0.21682893418895266,-0.23448196893010953,-0.22917284307027752,-0.13823918266010993,-0.0639361906122985,-0.08508695848821313,-0.07517336189441082,0.04674564322916441,0.3067213454639832,0.3341962792435087,0.3080794897382093,0.2185051635087214,0.10652575848437551,0.07187319061018038,0.18681941244537503,0.32600005407533006,0.3441625619047275,0.273652144367176,0.1208180986889722,0.10440793681310168,0.18726678612247616,0.2813654544115689,0.397484718423901,0.47879629063172335,0.3833702287398917,-0.019246705734638825,-0.3232713556124521,-0.5479991567238871,-0.6475291810540478,-0.659833704654752,-0.6685335842063156,-0.6673248697550822,-0.6685052569568721,-0.6801752987630827,-0.6866798009080917,-0.4938309268773202,-0.252422032781362,0.03453596950151394,0.3083825670107343,0.4568499674987332,0.5632861278961296,0.5755766405040919,0.5987385683319668,0.6783768828712156,0.6835931648782976,0.6256790285279761,0.5895461921062228,0.5168244549075918,0.35807719091369994,0.21440148141484472,0.10511638593388528,0.04890174126300284,0.0512083904976437,0.010635620615957908,0.08347627370141031,0.24060930187876872,0.35293822790658314,0.26850631603591446,0.15748588839474875,-0.03990756856508848,-0.3081322754836533,-0.4678698718302543,-0.540357670928193],\"type\":\"scatter\"},{\"y\":[0.2480487249470833,0.2710681714040888,0.2750877936322338,0.2810722253546991,0.2775987406131404,0.2677298779737429,0.2722203383837427,0.2506466100792353,0.23203769223010973,0.2250678573704865,0.2010810284337019,0.15105976730195536,0.12420885744232968,0.10745873523368332,0.09648907237068394,0.07073519731466238,0.06292149302735006,0.06305119385900126,0.09469720540320314,0.09445000042641394,0.10480360480330897,0.14170147984916825,0.17080792479509133,0.19294797287356258,0.19221118447188812,0.18349920619822813,0.1969519452643267,0.16227730818783015,0.12889180296959024,0.07585748125423386,0.08670990676513846,0.10328193855390566,0.12590470316813662,0.14263649548201274,0.17837257474474644,0.26016886004756357,0.29378253395260545,0.3454813351693018,0.3630434935447888,0.3985356845533401,0.4126692612754992,0.3981158371918856,0.37862883977074646,0.36299785374395044,0.32968660188044274,0.2777828217495375,0.2389998749801734,0.20291688290419652,0.16204849070885485,0.15217668425076347,0.13455943311183538,0.10974351447561292,0.1092700356489773,0.10920438940163057,0.11051736588813177,0.115497170215626,0.12582006913862864,0.15484305940156484,0.24577547237731978,0.2819960508384207,0.2674966705365096,0.27289640711415375,0.3008167326339246,0.29381131122041215,0.30875569322332574,0.3123777453091314,0.3014619594821826,0.2841941223412787,0.2354779763964736,0.20365830077152025,0.216390158971151,0.21499497687818359,0.24417244637666724,0.2498781976067126,0.17462544219772114,0.15628499091189196,0.16536839664138703,0.17094491695934644,0.18704047456321882,0.21925161440790708,0.2360723973604184,0.2392501511086993,0.189252952890415,0.16743408725520426,0.212105311108838,0.2491042673689765,0.2334089357109197,0.22570678123309662,0.2071684271121843,0.1918985394060131,0.18094019099344072,0.19199321758725318,0.21899316167895178,0.238718371938625,0.24904579724814657,0.2537020361854252,0.2575319139884813,0.26521100299501543,0.27802335386850485,0.2724431803048959,0.2532010746435909,0.26081811607712346,0.2523220036928824,0.20159590565813534,0.12950785842395507,0.08715646981179259,0.08353851360554909,0.05555347258234411,0.02777833704943178,0.035922194696085485,0.03698655947884255,0.07067027565296713,0.06888452370330822,0.09134326819895455,0.1534320819477386,0.19947911508130933,0.20711118181396238,0.21941811752083762,0.20460587386783424,0.20253436534662983,0.17984072473505575,0.12602812526805307,0.0877305114253164,0.10105689063628343,0.11452403955845947,0.11128022724631026,0.14957104089818185,0.22185054549005834],\"type\":\"scatter\"},{\"y\":[-0.10920003673780543,-0.09047196943676772,-0.08745439502975261,-0.08824064827712597,-0.10421814239159166,-0.1471903655183121,-0.10555094128252818,-0.05768396183544422,-0.009559715192604124,0.02567613876523267,0.09506683485913858,0.20556149910980825,0.3316652761421406,0.41034806863495144,0.4724369843130929,0.5536531247306129,0.6810020141694715,0.8216699566562786,0.9091287861741446,0.9057291457244028,0.8586494450976092,0.7387133967034094,0.6007451991176016,0.510933027558025,0.44699902148081416,0.36845479726613917,0.2271987422195385,1.3513037935730665e-05,-0.22903221243155558,-0.35482487968998533,-0.39984884615856653,-0.43929304048336504,-0.5164911511952321,-0.6376940630598256,-0.7389247449865565,-0.7956229060685457,-0.8044482686918997,-0.7356471432549345,-0.6154629418869026,-0.5095474294979094,-0.4591474900602196,-0.4145142891681094,-0.34055022009296443,-0.21208169040546554,-0.09996249635907684,-0.022028666390572105,0.014292801090121543,0.04174362467366555,0.09914590398940848,0.14567602238500177,0.17362393670244214,0.18938552542279874,0.1870343727563153,0.1774935258758792,0.16914325321784385,0.16832689271683487,0.1560867200825915,0.16894048407509876,0.19925707051985397,0.22690660108558913,0.3333322512795889,0.4864161050085003,0.6007404190560053,0.6830370897219236,0.7283339076355875,0.7124069965609978,0.699357067223529,0.6838320603390922,0.59587181930404,0.512294903670667,0.3936880735802193,0.22178984835979154,0.08797900233091549,-0.07265406242753758,-0.20248766533977225,-0.23340141168105477,-0.2639369088944673,-0.36170399029353206,-0.47774847549979316,-0.6187766482442186,-0.7088595576768665,-0.6869580556394934,-0.6614765995975049,-0.6051609504595108,-0.5216500683449595,-0.4711502693182349,-0.43872223335179406,-0.34124717715234887,-0.2203532882437227,-0.07395958553789239,0.032964791847658326,-0.035826238384592535,-0.12276657390768375,-0.15923610736352767,-0.16099214682030538,-0.16938842311219082,-0.1696920640398496,-0.17602342060739629,-0.17341632953093633,-0.1699255780750435,-0.1618581495095136,-0.07945419053943092,0.017186004715383563,0.1663128280321451,0.32002728871171837,0.44959946862837663,0.5182460268496996,0.5800187628565183,0.6921409667364675,0.8161623937638836,0.9025605534758412,0.9420263026679487,0.9047107428997163,0.8016052423363589,0.6598760414539693,0.5141923250425833,0.43477297053973785,0.37364538678295345,0.2670518815155163,0.12297439957081102,-0.055669384364295915,-0.2304801385709535,-0.3477671856284861,-0.3945722467461108,-0.46582723374769863,-0.5921544786596502,-0.678147367626879,-0.7383319861355473],\"type\":\"scatter\"}],                        {\"template\":{\"data\":{\"bar\":[{\"error_x\":{\"color\":\"#2a3f5f\"},\"error_y\":{\"color\":\"#2a3f5f\"},\"marker\":{\"line\":{\"color\":\"#E5ECF6\",\"width\":0.5},\"pattern\":{\"fillmode\":\"overlay\",\"size\":10,\"solidity\":0.2}},\"type\":\"bar\"}],\"barpolar\":[{\"marker\":{\"line\":{\"color\":\"#E5ECF6\",\"width\":0.5},\"pattern\":{\"fillmode\":\"overlay\",\"size\":10,\"solidity\":0.2}},\"type\":\"barpolar\"}],\"carpet\":[{\"aaxis\":{\"endlinecolor\":\"#2a3f5f\",\"gridcolor\":\"white\",\"linecolor\":\"white\",\"minorgridcolor\":\"white\",\"startlinecolor\":\"#2a3f5f\"},\"baxis\":{\"endlinecolor\":\"#2a3f5f\",\"gridcolor\":\"white\",\"linecolor\":\"white\",\"minorgridcolor\":\"white\",\"startlinecolor\":\"#2a3f5f\"},\"type\":\"carpet\"}],\"choropleth\":[{\"colorbar\":{\"outlinewidth\":0,\"ticks\":\"\"},\"type\":\"choropleth\"}],\"contour\":[{\"colorbar\":{\"outlinewidth\":0,\"ticks\":\"\"},\"colorscale\":[[0.0,\"#0d0887\"],[0.1111111111111111,\"#46039f\"],[0.2222222222222222,\"#7201a8\"],[0.3333333333333333,\"#9c179e\"],[0.4444444444444444,\"#bd3786\"],[0.5555555555555556,\"#d8576b\"],[0.6666666666666666,\"#ed7953\"],[0.7777777777777778,\"#fb9f3a\"],[0.8888888888888888,\"#fdca26\"],[1.0,\"#f0f921\"]],\"type\":\"contour\"}],\"contourcarpet\":[{\"colorbar\":{\"outlinewidth\":0,\"ticks\":\"\"},\"type\":\"contourcarpet\"}],\"heatmap\":[{\"colorbar\":{\"outlinewidth\":0,\"ticks\":\"\"},\"colorscale\":[[0.0,\"#0d0887\"],[0.1111111111111111,\"#46039f\"],[0.2222222222222222,\"#7201a8\"],[0.3333333333333333,\"#9c179e\"],[0.4444444444444444,\"#bd3786\"],[0.5555555555555556,\"#d8576b\"],[0.6666666666666666,\"#ed7953\"],[0.7777777777777778,\"#fb9f3a\"],[0.8888888888888888,\"#fdca26\"],[1.0,\"#f0f921\"]],\"type\":\"heatmap\"}],\"heatmapgl\":[{\"colorbar\":{\"outlinewidth\":0,\"ticks\":\"\"},\"colorscale\":[[0.0,\"#0d0887\"],[0.1111111111111111,\"#46039f\"],[0.2222222222222222,\"#7201a8\"],[0.3333333333333333,\"#9c179e\"],[0.4444444444444444,\"#bd3786\"],[0.5555555555555556,\"#d8576b\"],[0.6666666666666666,\"#ed7953\"],[0.7777777777777778,\"#fb9f3a\"],[0.8888888888888888,\"#fdca26\"],[1.0,\"#f0f921\"]],\"type\":\"heatmapgl\"}],\"histogram\":[{\"marker\":{\"pattern\":{\"fillmode\":\"overlay\",\"size\":10,\"solidity\":0.2}},\"type\":\"histogram\"}],\"histogram2d\":[{\"colorbar\":{\"outlinewidth\":0,\"ticks\":\"\"},\"colorscale\":[[0.0,\"#0d0887\"],[0.1111111111111111,\"#46039f\"],[0.2222222222222222,\"#7201a8\"],[0.3333333333333333,\"#9c179e\"],[0.4444444444444444,\"#bd3786\"],[0.5555555555555556,\"#d8576b\"],[0.6666666666666666,\"#ed7953\"],[0.7777777777777778,\"#fb9f3a\"],[0.8888888888888888,\"#fdca26\"],[1.0,\"#f0f921\"]],\"type\":\"histogram2d\"}],\"histogram2dcontour\":[{\"colorbar\":{\"outlinewidth\":0,\"ticks\":\"\"},\"colorscale\":[[0.0,\"#0d0887\"],[0.1111111111111111,\"#46039f\"],[0.2222222222222222,\"#7201a8\"],[0.3333333333333333,\"#9c179e\"],[0.4444444444444444,\"#bd3786\"],[0.5555555555555556,\"#d8576b\"],[0.6666666666666666,\"#ed7953\"],[0.7777777777777778,\"#fb9f3a\"],[0.8888888888888888,\"#fdca26\"],[1.0,\"#f0f921\"]],\"type\":\"histogram2dcontour\"}],\"mesh3d\":[{\"colorbar\":{\"outlinewidth\":0,\"ticks\":\"\"},\"type\":\"mesh3d\"}],\"parcoords\":[{\"line\":{\"colorbar\":{\"outlinewidth\":0,\"ticks\":\"\"}},\"type\":\"parcoords\"}],\"pie\":[{\"automargin\":true,\"type\":\"pie\"}],\"scatter\":[{\"marker\":{\"colorbar\":{\"outlinewidth\":0,\"ticks\":\"\"}},\"type\":\"scatter\"}],\"scatter3d\":[{\"line\":{\"colorbar\":{\"outlinewidth\":0,\"ticks\":\"\"}},\"marker\":{\"colorbar\":{\"outlinewidth\":0,\"ticks\":\"\"}},\"type\":\"scatter3d\"}],\"scattercarpet\":[{\"marker\":{\"colorbar\":{\"outlinewidth\":0,\"ticks\":\"\"}},\"type\":\"scattercarpet\"}],\"scattergeo\":[{\"marker\":{\"colorbar\":{\"outlinewidth\":0,\"ticks\":\"\"}},\"type\":\"scattergeo\"}],\"scattergl\":[{\"marker\":{\"colorbar\":{\"outlinewidth\":0,\"ticks\":\"\"}},\"type\":\"scattergl\"}],\"scattermapbox\":[{\"marker\":{\"colorbar\":{\"outlinewidth\":0,\"ticks\":\"\"}},\"type\":\"scattermapbox\"}],\"scatterpolar\":[{\"marker\":{\"colorbar\":{\"outlinewidth\":0,\"ticks\":\"\"}},\"type\":\"scatterpolar\"}],\"scatterpolargl\":[{\"marker\":{\"colorbar\":{\"outlinewidth\":0,\"ticks\":\"\"}},\"type\":\"scatterpolargl\"}],\"scatterternary\":[{\"marker\":{\"colorbar\":{\"outlinewidth\":0,\"ticks\":\"\"}},\"type\":\"scatterternary\"}],\"surface\":[{\"colorbar\":{\"outlinewidth\":0,\"ticks\":\"\"},\"colorscale\":[[0.0,\"#0d0887\"],[0.1111111111111111,\"#46039f\"],[0.2222222222222222,\"#7201a8\"],[0.3333333333333333,\"#9c179e\"],[0.4444444444444444,\"#bd3786\"],[0.5555555555555556,\"#d8576b\"],[0.6666666666666666,\"#ed7953\"],[0.7777777777777778,\"#fb9f3a\"],[0.8888888888888888,\"#fdca26\"],[1.0,\"#f0f921\"]],\"type\":\"surface\"}],\"table\":[{\"cells\":{\"fill\":{\"color\":\"#EBF0F8\"},\"line\":{\"color\":\"white\"}},\"header\":{\"fill\":{\"color\":\"#C8D4E3\"},\"line\":{\"color\":\"white\"}},\"type\":\"table\"}]},\"layout\":{\"annotationdefaults\":{\"arrowcolor\":\"#2a3f5f\",\"arrowhead\":0,\"arrowwidth\":1},\"autotypenumbers\":\"strict\",\"coloraxis\":{\"colorbar\":{\"outlinewidth\":0,\"ticks\":\"\"}},\"colorscale\":{\"diverging\":[[0,\"#8e0152\"],[0.1,\"#c51b7d\"],[0.2,\"#de77ae\"],[0.3,\"#f1b6da\"],[0.4,\"#fde0ef\"],[0.5,\"#f7f7f7\"],[0.6,\"#e6f5d0\"],[0.7,\"#b8e186\"],[0.8,\"#7fbc41\"],[0.9,\"#4d9221\"],[1,\"#276419\"]],\"sequential\":[[0.0,\"#0d0887\"],[0.1111111111111111,\"#46039f\"],[0.2222222222222222,\"#7201a8\"],[0.3333333333333333,\"#9c179e\"],[0.4444444444444444,\"#bd3786\"],[0.5555555555555556,\"#d8576b\"],[0.6666666666666666,\"#ed7953\"],[0.7777777777777778,\"#fb9f3a\"],[0.8888888888888888,\"#fdca26\"],[1.0,\"#f0f921\"]],\"sequentialminus\":[[0.0,\"#0d0887\"],[0.1111111111111111,\"#46039f\"],[0.2222222222222222,\"#7201a8\"],[0.3333333333333333,\"#9c179e\"],[0.4444444444444444,\"#bd3786\"],[0.5555555555555556,\"#d8576b\"],[0.6666666666666666,\"#ed7953\"],[0.7777777777777778,\"#fb9f3a\"],[0.8888888888888888,\"#fdca26\"],[1.0,\"#f0f921\"]]},\"colorway\":[\"#636efa\",\"#EF553B\",\"#00cc96\",\"#ab63fa\",\"#FFA15A\",\"#19d3f3\",\"#FF6692\",\"#B6E880\",\"#FF97FF\",\"#FECB52\"],\"font\":{\"color\":\"#2a3f5f\"},\"geo\":{\"bgcolor\":\"white\",\"lakecolor\":\"white\",\"landcolor\":\"#E5ECF6\",\"showlakes\":true,\"showland\":true,\"subunitcolor\":\"white\"},\"hoverlabel\":{\"align\":\"left\"},\"hovermode\":\"closest\",\"mapbox\":{\"style\":\"light\"},\"paper_bgcolor\":\"white\",\"plot_bgcolor\":\"#E5ECF6\",\"polar\":{\"angularaxis\":{\"gridcolor\":\"white\",\"linecolor\":\"white\",\"ticks\":\"\"},\"bgcolor\":\"#E5ECF6\",\"radialaxis\":{\"gridcolor\":\"white\",\"linecolor\":\"white\",\"ticks\":\"\"}},\"scene\":{\"xaxis\":{\"backgroundcolor\":\"#E5ECF6\",\"gridcolor\":\"white\",\"gridwidth\":2,\"linecolor\":\"white\",\"showbackground\":true,\"ticks\":\"\",\"zerolinecolor\":\"white\"},\"yaxis\":{\"backgroundcolor\":\"#E5ECF6\",\"gridcolor\":\"white\",\"gridwidth\":2,\"linecolor\":\"white\",\"showbackground\":true,\"ticks\":\"\",\"zerolinecolor\":\"white\"},\"zaxis\":{\"backgroundcolor\":\"#E5ECF6\",\"gridcolor\":\"white\",\"gridwidth\":2,\"linecolor\":\"white\",\"showbackground\":true,\"ticks\":\"\",\"zerolinecolor\":\"white\"}},\"shapedefaults\":{\"line\":{\"color\":\"#2a3f5f\"}},\"ternary\":{\"aaxis\":{\"gridcolor\":\"white\",\"linecolor\":\"white\",\"ticks\":\"\"},\"baxis\":{\"gridcolor\":\"white\",\"linecolor\":\"white\",\"ticks\":\"\"},\"bgcolor\":\"#E5ECF6\",\"caxis\":{\"gridcolor\":\"white\",\"linecolor\":\"white\",\"ticks\":\"\"}},\"title\":{\"x\":0.05},\"xaxis\":{\"automargin\":true,\"gridcolor\":\"white\",\"linecolor\":\"white\",\"ticks\":\"\",\"title\":{\"standoff\":15},\"zerolinecolor\":\"white\",\"zerolinewidth\":2},\"yaxis\":{\"automargin\":true,\"gridcolor\":\"white\",\"linecolor\":\"white\",\"ticks\":\"\",\"title\":{\"standoff\":15},\"zerolinecolor\":\"white\",\"zerolinewidth\":2}}}},                        {\"responsive\": true}                    ).then(function(){\n                            \nvar gd = document.getElementById('3cf951fd-026f-455a-b948-7364d0b93b30');\nvar x = new MutationObserver(function (mutations, observer) {{\n        var display = window.getComputedStyle(gd).display;\n        if (!display || display === 'none') {{\n            console.log([gd, 'removed!']);\n            Plotly.purge(gd);\n            observer.disconnect();\n        }}\n}});\n\n// Listen for the removal of the full notebook cells\nvar notebookContainer = gd.closest('#notebook-container');\nif (notebookContainer) {{\n    x.observe(notebookContainer, {childList: true});\n}}\n\n// Listen for the clearing of the current output cell\nvar outputEl = gd.closest('.output');\nif (outputEl) {{\n    x.observe(outputEl, {childList: true});\n}}\n\n                        })                };                });            </script>        </div>"
     },
     "metadata": {},
     "output_type": "display_data"
    }
   ],
   "source": [
    "_x = 128\n",
    "\n",
    "fig = go.Figure()\n",
    "fig.add_trace(go.Scatter(y=train_x[_x, :, 3]))\n",
    "fig.add_trace(go.Scatter(y=train_x[_x, :, 4]))\n",
    "fig.add_trace(go.Scatter(y=train_x[_x, :, 5]))"
   ],
   "metadata": {
    "collapsed": false,
    "pycharm": {
     "name": "#%%\n"
    }
   }
  },
  {
   "cell_type": "code",
   "execution_count": 43,
   "metadata": {},
   "outputs": [],
   "source": [
    "def shuffle_window(x, y):\n",
    "    ind = np.arange(x.shape[0])\n",
    "    np.random.shuffle(ind)\n",
    "    return x[ind], y[ind]\n",
    "\n",
    "\n",
    "train_x, train_y = shuffle_window(train_x, train_y)\n",
    "val_x, val_y = shuffle_window(val_x, val_y)"
   ]
  },
  {
   "cell_type": "code",
   "execution_count": 44,
   "metadata": {},
   "outputs": [],
   "source": [
    "def plot_history(title: str, history):\n",
    "    _, ax = plt.subplots(1, 2, figsize=(6 * 3, 6))\n",
    "    ax[0].plot(history.history['loss'], label='loss')\n",
    "    ax[0].plot(history.history['val_loss'], label='val_loss')\n",
    "    ax[0].set_title('Loss')\n",
    "    ax[0].legend()\n",
    "\n",
    "    ax[1].plot(history.history['sparse_categorical_accuracy'], label='sparse_categorical_accuracy')\n",
    "    ax[1].plot(history.history['val_sparse_categorical_accuracy'], label='val_sparse_categorical_accuracy')\n",
    "    ax[1].set_title('Accuracy')\n",
    "    ax[1].legend()\n",
    "\n",
    "    plt.title(title)\n",
    "    plt.legend()\n"
   ]
  },
  {
   "cell_type": "markdown",
   "source": [
    "# Hyper parameters"
   ],
   "metadata": {
    "collapsed": false
   }
  },
  {
   "cell_type": "code",
   "execution_count": 45,
   "outputs": [],
   "source": [
    "N_EPOCHS = 512\n",
    "BATCH_SIZE = 128"
   ],
   "metadata": {
    "collapsed": false,
    "pycharm": {
     "name": "#%%\n"
    }
   }
  },
  {
   "cell_type": "code",
   "execution_count": 50,
   "metadata": {},
   "outputs": [
    {
     "name": "stdout",
     "output_type": "stream",
     "text": [
      "Epoch 1/512\n",
      "17/17 [==============================] - 2s 73ms/step - loss: 2.4103 - categorical_accuracy: 0.2815 - f1_score: 0.1101 - val_loss: 2.1027 - val_categorical_accuracy: 0.3237 - val_f1_score: 0.1108\n",
      "Epoch 2/512\n",
      "17/17 [==============================] - 1s 53ms/step - loss: 1.8571 - categorical_accuracy: 0.3823 - f1_score: 0.1420 - val_loss: 1.6916 - val_categorical_accuracy: 0.4066 - val_f1_score: 0.1713\n",
      "Epoch 3/512\n",
      "17/17 [==============================] - 1s 53ms/step - loss: 1.4619 - categorical_accuracy: 0.4976 - f1_score: 0.2672 - val_loss: 1.2621 - val_categorical_accuracy: 0.5568 - val_f1_score: 0.3679\n",
      "Epoch 4/512\n",
      "17/17 [==============================] - 1s 53ms/step - loss: 1.1653 - categorical_accuracy: 0.5927 - f1_score: 0.4115 - val_loss: 1.1425 - val_categorical_accuracy: 0.6166 - val_f1_score: 0.4644\n",
      "Epoch 5/512\n",
      "17/17 [==============================] - 1s 54ms/step - loss: 1.0387 - categorical_accuracy: 0.6149 - f1_score: 0.4547 - val_loss: 0.9613 - val_categorical_accuracy: 0.6802 - val_f1_score: 0.5408\n",
      "Epoch 6/512\n",
      "17/17 [==============================] - 1s 54ms/step - loss: 0.9353 - categorical_accuracy: 0.6714 - f1_score: 0.5207 - val_loss: 0.8880 - val_categorical_accuracy: 0.6936 - val_f1_score: 0.5572\n",
      "Epoch 7/512\n",
      "17/17 [==============================] - 1s 56ms/step - loss: 0.8930 - categorical_accuracy: 0.6949 - f1_score: 0.5457 - val_loss: 0.9272 - val_categorical_accuracy: 0.7110 - val_f1_score: 0.6007\n",
      "Epoch 8/512\n",
      "17/17 [==============================] - 1s 55ms/step - loss: 0.8348 - categorical_accuracy: 0.7170 - f1_score: 0.5968 - val_loss: 0.7747 - val_categorical_accuracy: 0.7187 - val_f1_score: 0.5785\n",
      "Epoch 9/512\n",
      "17/17 [==============================] - 1s 54ms/step - loss: 0.7491 - categorical_accuracy: 0.7472 - f1_score: 0.6459 - val_loss: 0.6976 - val_categorical_accuracy: 0.7958 - val_f1_score: 0.7164\n",
      "Epoch 10/512\n",
      "17/17 [==============================] - 1s 54ms/step - loss: 0.6890 - categorical_accuracy: 0.7740 - f1_score: 0.6780 - val_loss: 0.6595 - val_categorical_accuracy: 0.8035 - val_f1_score: 0.7302\n",
      "Epoch 11/512\n",
      "17/17 [==============================] - 1s 53ms/step - loss: 0.6791 - categorical_accuracy: 0.7797 - f1_score: 0.7114 - val_loss: 0.6102 - val_categorical_accuracy: 0.8150 - val_f1_score: 0.7430\n",
      "Epoch 12/512\n",
      "17/17 [==============================] - 1s 53ms/step - loss: 0.6332 - categorical_accuracy: 0.8060 - f1_score: 0.7315 - val_loss: 0.5990 - val_categorical_accuracy: 0.8150 - val_f1_score: 0.7416\n",
      "Epoch 13/512\n",
      "17/17 [==============================] - 1s 54ms/step - loss: 0.5911 - categorical_accuracy: 0.8178 - f1_score: 0.7508 - val_loss: 0.5372 - val_categorical_accuracy: 0.8536 - val_f1_score: 0.8197\n",
      "Epoch 14/512\n",
      "17/17 [==============================] - 1s 54ms/step - loss: 0.5797 - categorical_accuracy: 0.8286 - f1_score: 0.7812 - val_loss: 0.4855 - val_categorical_accuracy: 0.8651 - val_f1_score: 0.8328\n",
      "Epoch 15/512\n",
      "17/17 [==============================] - 1s 53ms/step - loss: 0.5336 - categorical_accuracy: 0.8272 - f1_score: 0.7673 - val_loss: 0.4791 - val_categorical_accuracy: 0.8516 - val_f1_score: 0.8136\n",
      "Epoch 16/512\n",
      "17/17 [==============================] - 1s 53ms/step - loss: 0.5051 - categorical_accuracy: 0.8479 - f1_score: 0.8113 - val_loss: 0.4502 - val_categorical_accuracy: 0.8497 - val_f1_score: 0.8186\n",
      "Epoch 17/512\n",
      "17/17 [==============================] - 1s 53ms/step - loss: 0.5253 - categorical_accuracy: 0.8465 - f1_score: 0.8048 - val_loss: 0.5088 - val_categorical_accuracy: 0.8324 - val_f1_score: 0.7745\n",
      "Epoch 18/512\n",
      "17/17 [==============================] - 1s 54ms/step - loss: 0.5393 - categorical_accuracy: 0.8277 - f1_score: 0.7850 - val_loss: 0.5146 - val_categorical_accuracy: 0.8227 - val_f1_score: 0.7699\n",
      "Epoch 19/512\n",
      "17/17 [==============================] - 1s 57ms/step - loss: 0.4832 - categorical_accuracy: 0.8630 - f1_score: 0.8337 - val_loss: 0.4772 - val_categorical_accuracy: 0.8478 - val_f1_score: 0.8236\n",
      "Epoch 20/512\n",
      "17/17 [==============================] - 1s 54ms/step - loss: 0.4576 - categorical_accuracy: 0.8564 - f1_score: 0.8224 - val_loss: 0.4508 - val_categorical_accuracy: 0.8690 - val_f1_score: 0.8457\n",
      "Epoch 21/512\n",
      "17/17 [==============================] - 1s 53ms/step - loss: 0.4429 - categorical_accuracy: 0.8653 - f1_score: 0.8385 - val_loss: 0.4156 - val_categorical_accuracy: 0.8671 - val_f1_score: 0.8461\n",
      "Epoch 22/512\n",
      "17/17 [==============================] - 1s 54ms/step - loss: 0.4127 - categorical_accuracy: 0.8748 - f1_score: 0.8490 - val_loss: 0.3960 - val_categorical_accuracy: 0.8613 - val_f1_score: 0.8361\n",
      "Epoch 23/512\n",
      "17/17 [==============================] - 1s 53ms/step - loss: 0.4173 - categorical_accuracy: 0.8776 - f1_score: 0.8564 - val_loss: 0.3674 - val_categorical_accuracy: 0.8786 - val_f1_score: 0.8595\n",
      "Epoch 24/512\n",
      "17/17 [==============================] - 1s 53ms/step - loss: 0.4028 - categorical_accuracy: 0.8771 - f1_score: 0.8514 - val_loss: 0.3903 - val_categorical_accuracy: 0.8748 - val_f1_score: 0.8528\n",
      "Epoch 25/512\n",
      "17/17 [==============================] - 1s 52ms/step - loss: 0.4174 - categorical_accuracy: 0.8738 - f1_score: 0.8517 - val_loss: 0.4328 - val_categorical_accuracy: 0.8825 - val_f1_score: 0.8700\n",
      "Epoch 26/512\n",
      "17/17 [==============================] - 1s 52ms/step - loss: 0.3964 - categorical_accuracy: 0.8856 - f1_score: 0.8678 - val_loss: 0.3685 - val_categorical_accuracy: 0.8825 - val_f1_score: 0.8680\n",
      "Epoch 27/512\n",
      "17/17 [==============================] - 1s 53ms/step - loss: 0.4126 - categorical_accuracy: 0.8734 - f1_score: 0.8546 - val_loss: 0.3992 - val_categorical_accuracy: 0.8863 - val_f1_score: 0.8797\n",
      "Epoch 28/512\n",
      "17/17 [==============================] - 1s 53ms/step - loss: 0.3755 - categorical_accuracy: 0.8870 - f1_score: 0.8684 - val_loss: 0.3438 - val_categorical_accuracy: 0.8882 - val_f1_score: 0.8650\n",
      "Epoch 29/512\n",
      "17/17 [==============================] - 1s 54ms/step - loss: 0.3404 - categorical_accuracy: 0.8978 - f1_score: 0.8805 - val_loss: 0.3408 - val_categorical_accuracy: 0.8748 - val_f1_score: 0.8497\n",
      "Epoch 30/512\n",
      "17/17 [==============================] - 1s 53ms/step - loss: 0.3380 - categorical_accuracy: 0.8955 - f1_score: 0.8764 - val_loss: 0.3163 - val_categorical_accuracy: 0.9094 - val_f1_score: 0.8981\n",
      "Epoch 31/512\n",
      "17/17 [==============================] - 1s 53ms/step - loss: 0.3253 - categorical_accuracy: 0.9096 - f1_score: 0.8992 - val_loss: 0.3185 - val_categorical_accuracy: 0.8979 - val_f1_score: 0.8887\n",
      "Epoch 32/512\n",
      "17/17 [==============================] - 1s 53ms/step - loss: 0.3069 - categorical_accuracy: 0.9054 - f1_score: 0.8919 - val_loss: 0.3140 - val_categorical_accuracy: 0.9017 - val_f1_score: 0.8929\n",
      "Epoch 33/512\n",
      "17/17 [==============================] - 1s 54ms/step - loss: 0.3137 - categorical_accuracy: 0.9082 - f1_score: 0.8931 - val_loss: 0.3026 - val_categorical_accuracy: 0.9114 - val_f1_score: 0.9025\n",
      "Epoch 34/512\n",
      "17/17 [==============================] - 1s 55ms/step - loss: 0.3161 - categorical_accuracy: 0.9035 - f1_score: 0.8901 - val_loss: 0.3255 - val_categorical_accuracy: 0.8979 - val_f1_score: 0.8909\n",
      "Epoch 35/512\n",
      "17/17 [==============================] - 1s 54ms/step - loss: 0.3088 - categorical_accuracy: 0.9054 - f1_score: 0.8905 - val_loss: 0.2958 - val_categorical_accuracy: 0.9094 - val_f1_score: 0.8987\n",
      "Epoch 36/512\n",
      "17/17 [==============================] - 1s 57ms/step - loss: 0.2953 - categorical_accuracy: 0.9134 - f1_score: 0.9015 - val_loss: 0.2963 - val_categorical_accuracy: 0.9114 - val_f1_score: 0.9005\n",
      "Epoch 37/512\n",
      "17/17 [==============================] - 1s 60ms/step - loss: 0.2773 - categorical_accuracy: 0.9148 - f1_score: 0.9060 - val_loss: 0.3049 - val_categorical_accuracy: 0.9017 - val_f1_score: 0.8967\n",
      "Epoch 38/512\n",
      "17/17 [==============================] - 1s 57ms/step - loss: 0.2794 - categorical_accuracy: 0.9185 - f1_score: 0.9122 - val_loss: 0.3149 - val_categorical_accuracy: 0.9056 - val_f1_score: 0.9013\n",
      "Epoch 39/512\n",
      "17/17 [==============================] - 1s 57ms/step - loss: 0.2741 - categorical_accuracy: 0.9176 - f1_score: 0.9081 - val_loss: 0.3003 - val_categorical_accuracy: 0.9075 - val_f1_score: 0.9020\n",
      "Epoch 40/512\n",
      "17/17 [==============================] - 1s 54ms/step - loss: 0.2798 - categorical_accuracy: 0.9082 - f1_score: 0.8986 - val_loss: 0.2957 - val_categorical_accuracy: 0.9056 - val_f1_score: 0.8995\n",
      "Epoch 41/512\n",
      "17/17 [==============================] - 1s 56ms/step - loss: 0.2645 - categorical_accuracy: 0.9148 - f1_score: 0.9051 - val_loss: 0.2935 - val_categorical_accuracy: 0.9152 - val_f1_score: 0.9068\n",
      "Epoch 42/512\n",
      "17/17 [==============================] - 1s 56ms/step - loss: 0.2732 - categorical_accuracy: 0.9167 - f1_score: 0.9088 - val_loss: 0.2999 - val_categorical_accuracy: 0.9075 - val_f1_score: 0.8995\n",
      "Epoch 43/512\n",
      "17/17 [==============================] - 1s 54ms/step - loss: 0.2676 - categorical_accuracy: 0.9157 - f1_score: 0.9049 - val_loss: 0.3037 - val_categorical_accuracy: 0.9152 - val_f1_score: 0.9090\n",
      "Epoch 44/512\n",
      "17/17 [==============================] - 1s 55ms/step - loss: 0.2532 - categorical_accuracy: 0.9233 - f1_score: 0.9170 - val_loss: 0.3034 - val_categorical_accuracy: 0.9094 - val_f1_score: 0.9028\n",
      "Epoch 45/512\n",
      "17/17 [==============================] - 1s 57ms/step - loss: 0.2552 - categorical_accuracy: 0.9228 - f1_score: 0.9151 - val_loss: 0.3016 - val_categorical_accuracy: 0.9017 - val_f1_score: 0.8941\n",
      "Epoch 46/512\n",
      "17/17 [==============================] - 1s 59ms/step - loss: 0.2548 - categorical_accuracy: 0.9237 - f1_score: 0.9168 - val_loss: 0.2987 - val_categorical_accuracy: 0.9114 - val_f1_score: 0.9081\n",
      "Epoch 47/512\n",
      "17/17 [==============================] - 1s 57ms/step - loss: 0.2420 - categorical_accuracy: 0.9251 - f1_score: 0.9183 - val_loss: 0.3062 - val_categorical_accuracy: 0.9133 - val_f1_score: 0.9095\n",
      "Epoch 48/512\n",
      "17/17 [==============================] - 1s 56ms/step - loss: 0.2442 - categorical_accuracy: 0.9209 - f1_score: 0.9150 - val_loss: 0.2966 - val_categorical_accuracy: 0.9114 - val_f1_score: 0.9039\n",
      "Epoch 49/512\n",
      "17/17 [==============================] - 1s 56ms/step - loss: 0.2483 - categorical_accuracy: 0.9214 - f1_score: 0.9155 - val_loss: 0.2982 - val_categorical_accuracy: 0.9171 - val_f1_score: 0.9127\n",
      "Epoch 50/512\n",
      "17/17 [==============================] - 1s 54ms/step - loss: 0.2286 - categorical_accuracy: 0.9298 - f1_score: 0.9258 - val_loss: 0.2983 - val_categorical_accuracy: 0.9229 - val_f1_score: 0.9173\n",
      "Epoch 51/512\n",
      "17/17 [==============================] - 1s 57ms/step - loss: 0.2377 - categorical_accuracy: 0.9261 - f1_score: 0.9212 - val_loss: 0.2901 - val_categorical_accuracy: 0.9114 - val_f1_score: 0.9038\n",
      "Epoch 52/512\n",
      "17/17 [==============================] - 1s 53ms/step - loss: 0.2436 - categorical_accuracy: 0.9209 - f1_score: 0.9138 - val_loss: 0.2890 - val_categorical_accuracy: 0.9210 - val_f1_score: 0.9171\n",
      "Epoch 53/512\n",
      "17/17 [==============================] - 1s 55ms/step - loss: 0.2347 - categorical_accuracy: 0.9251 - f1_score: 0.9191 - val_loss: 0.2926 - val_categorical_accuracy: 0.9249 - val_f1_score: 0.9206\n",
      "Epoch 54/512\n",
      "17/17 [==============================] - 1s 54ms/step - loss: 0.2212 - categorical_accuracy: 0.9298 - f1_score: 0.9255 - val_loss: 0.3068 - val_categorical_accuracy: 0.9171 - val_f1_score: 0.9120\n",
      "Epoch 55/512\n",
      "17/17 [==============================] - 1s 54ms/step - loss: 0.2224 - categorical_accuracy: 0.9313 - f1_score: 0.9278 - val_loss: 0.2999 - val_categorical_accuracy: 0.9152 - val_f1_score: 0.9113\n",
      "Epoch 56/512\n",
      "17/17 [==============================] - 1s 56ms/step - loss: 0.2248 - categorical_accuracy: 0.9322 - f1_score: 0.9273 - val_loss: 0.3064 - val_categorical_accuracy: 0.9229 - val_f1_score: 0.9197\n",
      "Epoch 57/512\n",
      "17/17 [==============================] - 1s 57ms/step - loss: 0.2237 - categorical_accuracy: 0.9266 - f1_score: 0.9219 - val_loss: 0.3011 - val_categorical_accuracy: 0.9210 - val_f1_score: 0.9180\n",
      "Epoch 58/512\n",
      "17/17 [==============================] - 1s 58ms/step - loss: 0.2243 - categorical_accuracy: 0.9327 - f1_score: 0.9298 - val_loss: 0.2983 - val_categorical_accuracy: 0.9191 - val_f1_score: 0.9148\n",
      "Epoch 59/512\n",
      "17/17 [==============================] - 1s 53ms/step - loss: 0.2145 - categorical_accuracy: 0.9350 - f1_score: 0.9311 - val_loss: 0.3049 - val_categorical_accuracy: 0.9133 - val_f1_score: 0.9093\n",
      "Epoch 60/512\n",
      "17/17 [==============================] - 1s 53ms/step - loss: 0.2179 - categorical_accuracy: 0.9364 - f1_score: 0.9351 - val_loss: 0.3074 - val_categorical_accuracy: 0.9210 - val_f1_score: 0.9175\n",
      "Epoch 61/512\n",
      "17/17 [==============================] - 1s 54ms/step - loss: 0.2234 - categorical_accuracy: 0.9261 - f1_score: 0.9192 - val_loss: 0.3058 - val_categorical_accuracy: 0.9133 - val_f1_score: 0.9103\n",
      "Epoch 62/512\n",
      "17/17 [==============================] - 1s 54ms/step - loss: 0.2228 - categorical_accuracy: 0.9298 - f1_score: 0.9261 - val_loss: 0.3003 - val_categorical_accuracy: 0.9210 - val_f1_score: 0.9177\n",
      "Epoch 63/512\n",
      "17/17 [==============================] - 1s 55ms/step - loss: 0.2223 - categorical_accuracy: 0.9289 - f1_score: 0.9213 - val_loss: 0.3038 - val_categorical_accuracy: 0.9210 - val_f1_score: 0.9198\n",
      "Epoch 64/512\n",
      "17/17 [==============================] - 1s 55ms/step - loss: 0.2072 - categorical_accuracy: 0.9360 - f1_score: 0.9317 - val_loss: 0.3095 - val_categorical_accuracy: 0.9191 - val_f1_score: 0.9168\n",
      "Epoch 65/512\n",
      "17/17 [==============================] - 1s 54ms/step - loss: 0.2092 - categorical_accuracy: 0.9327 - f1_score: 0.9279 - val_loss: 0.3148 - val_categorical_accuracy: 0.9171 - val_f1_score: 0.9175\n",
      "Epoch 66/512\n",
      "17/17 [==============================] - 1s 54ms/step - loss: 0.2145 - categorical_accuracy: 0.9298 - f1_score: 0.9255 - val_loss: 0.3083 - val_categorical_accuracy: 0.9152 - val_f1_score: 0.9124\n",
      "Epoch 67/512\n",
      "17/17 [==============================] - 1s 54ms/step - loss: 0.2027 - categorical_accuracy: 0.9303 - f1_score: 0.9230 - val_loss: 0.3149 - val_categorical_accuracy: 0.9152 - val_f1_score: 0.9125\n",
      "Epoch 68/512\n",
      "17/17 [==============================] - 1s 54ms/step - loss: 0.2091 - categorical_accuracy: 0.9331 - f1_score: 0.9310 - val_loss: 0.3103 - val_categorical_accuracy: 0.9152 - val_f1_score: 0.9139\n",
      "Epoch 69/512\n",
      "17/17 [==============================] - 1s 53ms/step - loss: 0.2062 - categorical_accuracy: 0.9308 - f1_score: 0.9278 - val_loss: 0.3173 - val_categorical_accuracy: 0.9210 - val_f1_score: 0.9198\n",
      "Epoch 70/512\n",
      "17/17 [==============================] - 1s 54ms/step - loss: 0.2120 - categorical_accuracy: 0.9322 - f1_score: 0.9281 - val_loss: 0.3094 - val_categorical_accuracy: 0.9210 - val_f1_score: 0.9190\n",
      "Epoch 71/512\n",
      "17/17 [==============================] - 1s 53ms/step - loss: 0.2015 - categorical_accuracy: 0.9336 - f1_score: 0.9309 - val_loss: 0.3099 - val_categorical_accuracy: 0.9191 - val_f1_score: 0.9182\n",
      "Epoch 72/512\n",
      "17/17 [==============================] - 1s 54ms/step - loss: 0.2038 - categorical_accuracy: 0.9350 - f1_score: 0.9315 - val_loss: 0.3084 - val_categorical_accuracy: 0.9229 - val_f1_score: 0.9232\n",
      "Epoch 73/512\n",
      "17/17 [==============================] - 1s 53ms/step - loss: 0.2093 - categorical_accuracy: 0.9383 - f1_score: 0.9331 - val_loss: 0.3171 - val_categorical_accuracy: 0.9171 - val_f1_score: 0.9165\n",
      "Epoch 74/512\n",
      "17/17 [==============================] - 1s 55ms/step - loss: 0.1930 - categorical_accuracy: 0.9383 - f1_score: 0.9339 - val_loss: 0.3163 - val_categorical_accuracy: 0.9133 - val_f1_score: 0.9127\n",
      "Epoch 75/512\n",
      "17/17 [==============================] - 1s 56ms/step - loss: 0.1968 - categorical_accuracy: 0.9350 - f1_score: 0.9320 - val_loss: 0.3147 - val_categorical_accuracy: 0.9171 - val_f1_score: 0.9165\n",
      "Epoch 76/512\n",
      "17/17 [==============================] - 1s 55ms/step - loss: 0.1923 - categorical_accuracy: 0.9411 - f1_score: 0.9370 - val_loss: 0.3123 - val_categorical_accuracy: 0.9210 - val_f1_score: 0.9203\n",
      "Epoch 77/512\n",
      "17/17 [==============================] - 1s 54ms/step - loss: 0.1956 - categorical_accuracy: 0.9393 - f1_score: 0.9368 - val_loss: 0.3182 - val_categorical_accuracy: 0.9171 - val_f1_score: 0.9169\n",
      "Epoch 78/512\n",
      "17/17 [==============================] - 1s 53ms/step - loss: 0.1905 - categorical_accuracy: 0.9346 - f1_score: 0.9328 - val_loss: 0.3210 - val_categorical_accuracy: 0.9133 - val_f1_score: 0.9133\n",
      "Epoch 79/512\n",
      "17/17 [==============================] - 1s 52ms/step - loss: 0.1974 - categorical_accuracy: 0.9341 - f1_score: 0.9307 - val_loss: 0.3095 - val_categorical_accuracy: 0.9171 - val_f1_score: 0.9161\n",
      "Epoch 80/512\n",
      "17/17 [==============================] - 1s 53ms/step - loss: 0.1915 - categorical_accuracy: 0.9360 - f1_score: 0.9304 - val_loss: 0.3182 - val_categorical_accuracy: 0.9171 - val_f1_score: 0.9159\n",
      "Epoch 81/512\n",
      "17/17 [==============================] - 1s 56ms/step - loss: 0.1938 - categorical_accuracy: 0.9374 - f1_score: 0.9336 - val_loss: 0.3238 - val_categorical_accuracy: 0.9133 - val_f1_score: 0.9124\n",
      "Epoch 82/512\n",
      "17/17 [==============================] - 1s 56ms/step - loss: 0.1954 - categorical_accuracy: 0.9360 - f1_score: 0.9311 - val_loss: 0.3162 - val_categorical_accuracy: 0.9133 - val_f1_score: 0.9099\n",
      "Epoch 83/512\n",
      "17/17 [==============================] - 1s 55ms/step - loss: 0.1981 - categorical_accuracy: 0.9369 - f1_score: 0.9311 - val_loss: 0.3160 - val_categorical_accuracy: 0.9191 - val_f1_score: 0.9169\n",
      "Epoch 84/512\n",
      "17/17 [==============================] - 1s 54ms/step - loss: 0.1923 - categorical_accuracy: 0.9393 - f1_score: 0.9360 - val_loss: 0.3167 - val_categorical_accuracy: 0.9191 - val_f1_score: 0.9189\n"
     ]
    },
    {
     "ename": "KeyError",
     "evalue": "'sparse_categorical_accuracy'",
     "output_type": "error",
     "traceback": [
      "\u001B[1;31m---------------------------------------------------------------------------\u001B[0m",
      "\u001B[1;31mKeyError\u001B[0m                                  Traceback (most recent call last)",
      "Input \u001B[1;32mIn [50]\u001B[0m, in \u001B[0;36m<cell line: 34>\u001B[1;34m()\u001B[0m\n\u001B[0;32m     29\u001B[0m baseline_model \u001B[38;5;241m=\u001B[39m get_baseline_model()\n\u001B[0;32m     30\u001B[0m baseline_model_history \u001B[38;5;241m=\u001B[39m baseline_model\u001B[38;5;241m.\u001B[39mfit(\n\u001B[0;32m     31\u001B[0m     x\u001B[38;5;241m=\u001B[39mtrain_x, y\u001B[38;5;241m=\u001B[39m_train_y,\n\u001B[0;32m     32\u001B[0m     shuffle\u001B[38;5;241m=\u001B[39m\u001B[38;5;28;01mTrue\u001B[39;00m, validation_data\u001B[38;5;241m=\u001B[39m(val_x, _val_y),\n\u001B[0;32m     33\u001B[0m     epochs\u001B[38;5;241m=\u001B[39mN_EPOCHS, batch_size\u001B[38;5;241m=\u001B[39mBATCH_SIZE, callbacks\u001B[38;5;241m=\u001B[39m[early_stopping_callback])\n\u001B[1;32m---> 34\u001B[0m \u001B[43mplot_history\u001B[49m\u001B[43m(\u001B[49m\u001B[38;5;124;43m'\u001B[39;49m\u001B[38;5;124;43mBaseline Model\u001B[39;49m\u001B[38;5;124;43m'\u001B[39;49m\u001B[43m,\u001B[49m\u001B[43m \u001B[49m\u001B[43mbaseline_model_history\u001B[49m\u001B[43m)\u001B[49m\n",
      "Input \u001B[1;32mIn [44]\u001B[0m, in \u001B[0;36mplot_history\u001B[1;34m(title, history)\u001B[0m\n\u001B[0;32m      5\u001B[0m ax[\u001B[38;5;241m0\u001B[39m]\u001B[38;5;241m.\u001B[39mset_title(\u001B[38;5;124m'\u001B[39m\u001B[38;5;124mLoss\u001B[39m\u001B[38;5;124m'\u001B[39m)\n\u001B[0;32m      6\u001B[0m ax[\u001B[38;5;241m0\u001B[39m]\u001B[38;5;241m.\u001B[39mlegend()\n\u001B[1;32m----> 8\u001B[0m ax[\u001B[38;5;241m1\u001B[39m]\u001B[38;5;241m.\u001B[39mplot(\u001B[43mhistory\u001B[49m\u001B[38;5;241;43m.\u001B[39;49m\u001B[43mhistory\u001B[49m\u001B[43m[\u001B[49m\u001B[38;5;124;43m'\u001B[39;49m\u001B[38;5;124;43msparse_categorical_accuracy\u001B[39;49m\u001B[38;5;124;43m'\u001B[39;49m\u001B[43m]\u001B[49m, label\u001B[38;5;241m=\u001B[39m\u001B[38;5;124m'\u001B[39m\u001B[38;5;124msparse_categorical_accuracy\u001B[39m\u001B[38;5;124m'\u001B[39m)\n\u001B[0;32m      9\u001B[0m ax[\u001B[38;5;241m1\u001B[39m]\u001B[38;5;241m.\u001B[39mplot(history\u001B[38;5;241m.\u001B[39mhistory[\u001B[38;5;124m'\u001B[39m\u001B[38;5;124mval_sparse_categorical_accuracy\u001B[39m\u001B[38;5;124m'\u001B[39m], label\u001B[38;5;241m=\u001B[39m\u001B[38;5;124m'\u001B[39m\u001B[38;5;124mval_sparse_categorical_accuracy\u001B[39m\u001B[38;5;124m'\u001B[39m)\n\u001B[0;32m     10\u001B[0m ax[\u001B[38;5;241m1\u001B[39m]\u001B[38;5;241m.\u001B[39mset_title(\u001B[38;5;124m'\u001B[39m\u001B[38;5;124mAccuracy\u001B[39m\u001B[38;5;124m'\u001B[39m)\n",
      "\u001B[1;31mKeyError\u001B[0m: 'sparse_categorical_accuracy'"
     ]
    },
    {
     "data": {
      "text/plain": "<Figure size 1296x432 with 2 Axes>",
      "image/png": "[encoded data removed]"
     },
     "metadata": {
      "needs_background": "light"
     },
     "output_type": "display_data"
    }
   ],
   "source": [
    "learning_rate_schedule = tf.keras.optimizers.schedules.ExponentialDecay(\n",
    "    initial_learning_rate=0.01,\n",
    "    decay_steps=train_x.shape[0] // BATCH_SIZE,\n",
    "    decay_rate=0.96,\n",
    "    staircase=True)\n",
    "\n",
    "import datetime\n",
    "\n",
    "early_stopping_callback = tf.keras.callbacks.EarlyStopping(monitor='val_loss', patience=32, restore_best_weights=True)\n",
    "\n",
    "import tensorflow_addons as tfa\n",
    "\n",
    "def get_baseline_model(input_shape=(128, 7), n_output=16):\n",
    "    model = models.Sequential()\n",
    "    model.add(layers.LSTM(units=64, input_shape=input_shape))\n",
    "    model.add(layers.Dense(units=128, activation=activations.relu))\n",
    "    model.add(layers.Dropout(.5))\n",
    "    model.add(layers.Dense(units=8, activation=activations.relu))\n",
    "    model.add(layers.Dense(units=n_output, activation=activations.softmax))\n",
    "    model.compile(\n",
    "        optimizer=optimizers.Adam(learning_rate=learning_rate_schedule),\n",
    "        loss=losses.CategoricalCrossentropy(),\n",
    "        metrics=[metrics.CategoricalAccuracy(), tfa.metrics.F1Score(num_classes=16)]\n",
    "    )\n",
    "    return model\n",
    "\n",
    "_train_y = tf.keras.utils.to_categorical(train_y, num_classes=16)\n",
    "_val_y = tf.keras.utils.to_categorical(val_y, num_classes=16)\n",
    "baseline_model = get_baseline_model()\n",
    "baseline_model_history = baseline_model.fit(\n",
    "    x=train_x, y=_train_y,\n",
    "    shuffle=True, validation_data=(val_x, _val_y),\n",
    "    epochs=N_EPOCHS, batch_size=BATCH_SIZE, callbacks=[early_stopping_callback])\n",
    "plot_history('Baseline Model', baseline_model_history)"
   ]
  },
  {
   "cell_type": "code",
   "execution_count": null,
   "outputs": [],
   "source": [
    "from sklearn.linear_model import LinearRegression\n",
    "\n",
    "model = LinearRegression()\n",
    "\n",
    "model.fit(train_x, train_y)\n",
    "\n",
    "model.score(train_x, train_y)"
   ],
   "metadata": {
    "collapsed": false,
    "pycharm": {
     "name": "#%%\n"
    }
   }
  },
  {
   "cell_type": "code",
   "execution_count": null,
   "outputs": [],
   "source": [
    "baseline_model.evaluate(x=val_x, y=val_y, batch_size=BATCH_SIZE)"
   ],
   "metadata": {
    "collapsed": false,
    "pycharm": {
     "name": "#%%\n"
    }
   }
  },
  {
   "cell_type": "code",
   "execution_count": null,
   "outputs": [],
   "source": [
    "learning_rate_schedule = tf.keras.optimizers.schedules.ExponentialDecay(\n",
    "    initial_learning_rate=0.002,\n",
    "    decay_steps=train_x.shape[0] // BATCH_SIZE,\n",
    "    decay_rate=0.96,\n",
    "    staircase=True)\n",
    "\n",
    "early_stopping_callback = tf.keras.callbacks.EarlyStopping(monitor='val_loss', patience=32, restore_best_weights=True)\n",
    "\n",
    "\n",
    "def get_convolution_model(input_shape=(128, 7), n_output=16):\n",
    "    model = models.Sequential()\n",
    "    model.add(layers.Conv1D(filters=32, kernel_size=3, activation=activations.relu, input_shape=input_shape))\n",
    "    model.add(layers.MaxPooling1D(pool_size=2))\n",
    "    model.add(layers.Conv1D(filters=64, kernel_size=3, activation=activations.relu))\n",
    "    model.add(layers.MaxPooling1D(pool_size=2))\n",
    "    model.add(layers.Conv1D(filters=128, kernel_size=3, activation=activations.relu))\n",
    "    model.add(layers.MaxPooling1D(pool_size=2))\n",
    "    model.add(layers.Flatten())\n",
    "    model.add(layers.Dense(units=n_output, activation=activations.softmax))\n",
    "    model.compile(\n",
    "        optimizer=optimizers.Adam(learning_rate=learning_rate_schedule),\n",
    "        loss=losses.sparse_categorical_crossentropy,\n",
    "        metrics=[metrics.SparseCategoricalAccuracy()]\n",
    "    )\n",
    "    return model\n",
    "\n",
    "\n",
    "convolution_model = get_convolution_model()\n",
    "convolution_model_history = convolution_model.fit(\n",
    "    x=train_x, y=train_y,\n",
    "    shuffle=True, validation_data=(val_x, val_y),\n",
    "    epochs=4, batch_size=BATCH_SIZE, callbacks=[early_stopping_callback])\n",
    "plot_history('Convolution Model', convolution_model_history)"
   ],
   "metadata": {
    "collapsed": false,
    "pycharm": {
     "name": "#%%\n"
    }
   }
  },
  {
   "cell_type": "code",
   "execution_count": null,
   "outputs": [],
   "source": [
    "learning_rate_schedule = tf.keras.optimizers.schedules.ExponentialDecay(\n",
    "    initial_learning_rate=0.001,\n",
    "    decay_steps=train_x.shape[0] // BATCH_SIZE,\n",
    "    decay_rate=0.96,\n",
    "    staircase=True)\n",
    "\n",
    "early_stopping_callback = tf.keras.callbacks.EarlyStopping(monitor='val_loss', patience=32, restore_best_weights=True)\n",
    "\n",
    "\n",
    "def get_lstm_convolution_model(input_shape=(128, 7), n_output=16):\n",
    "    model = models.Sequential()\n",
    "    model.add(layers.LSTM(units=32, return_sequences=True, input_shape=input_shape))\n",
    "    model.add(layers.LSTM(units=32, return_sequences=True))\n",
    "\n",
    "    model.add(layers.Conv1D(filters=64, kernel_size=5, strides=2, activation=activations.relu))\n",
    "    model.add(layers.MaxPooling1D(pool_size=2))\n",
    "    model.add(layers.Conv1D(filters=128, kernel_size=3, activation=activations.relu))\n",
    "\n",
    "    model.add(layers.Flatten())\n",
    "    model.add(layers.Dropout(0.5))\n",
    "    model.add(layers.Dense(units=64, activation=activations.relu))\n",
    "    model.add(layers.BatchNormalization())\n",
    "    model.add(layers.Dense(units=n_output, activation=activations.softmax))\n",
    "    model.compile(\n",
    "        optimizer=optimizers.Adam(learning_rate=learning_rate_schedule),\n",
    "        loss=losses.sparse_categorical_crossentropy,\n",
    "        metrics=[metrics.SparseCategoricalAccuracy()]\n",
    "    )\n",
    "    return model\n",
    "\n",
    "\n",
    "lstm_convolution_model = get_lstm_convolution_model()\n",
    "\n",
    "lstm_convolution_model.summary()\n",
    "\n",
    "lstm_convolution_model_history = lstm_convolution_model.fit(\n",
    "    x=train_x, y=train_y,\n",
    "    shuffle=True, validation_data=(val_x, val_y),\n",
    "    epochs=N_EPOCHS, batch_size=BATCH_SIZE, callbacks=[early_stopping_callback])\n",
    "plot_history('LSTM Convolution Model', lstm_convolution_model_history)"
   ],
   "metadata": {
    "collapsed": false,
    "pycharm": {
     "name": "#%%\n"
    }
   }
  },
  {
   "cell_type": "code",
   "execution_count": null,
   "metadata": {},
   "outputs": [],
   "source": [
    "def get_bidirectional_lstm_model(input_shape=(128, 7), n_output=16):\n",
    "    model = models.Sequential()\n",
    "    model.add(layers.Bidirectional(layers.LSTM(units=128, input_shape=input_shape)))\n",
    "    model.add(layers.Dense(units=n_output, activation=activations.softmax))\n",
    "    model.compile(\n",
    "        optimizer=optimizers.Adam(learning_rate=1e-3),\n",
    "        loss=losses.sparse_categorical_crossentropy,\n",
    "        metrics=[metrics.SparseCategoricalAccuracy()]\n",
    "    )\n",
    "    return model\n",
    "\n",
    "\n",
    "bidirectional_lstm_model = get_bidirectional_lstm_model()\n",
    "bidirectional_lstm_model_history = bidirectional_lstm_model.fit(\n",
    "    x=train_x, y=train_y, validation_data=(val_x, val_y), epochs=N_EPOCHS, batch_size=BATCH_SIZE,\n",
    "    callbacks=[early_stopping_callback])\n",
    "plot_history('Bidirectional LSTM Model', bidirectional_lstm_model_history)"
   ]
  },
  {
   "cell_type": "code",
   "execution_count": null,
   "metadata": {},
   "outputs": [],
   "source": [
    "def get_stacked_bidirectional_lstm_model(input_shape=(128, 7), n_output=16):\n",
    "    model = models.Sequential()\n",
    "    model.add(layers.Bidirectional(layers.LSTM(units=128, return_sequences=True, input_shape=input_shape)))\n",
    "    model.add(layers.Bidirectional(layers.LSTM(units=32)))\n",
    "    model.add(layers.Dense(units=n_output, activation=activations.softmax))\n",
    "    model.compile(\n",
    "        optimizer=optimizers.Adam(learning_rate=1e-3),\n",
    "        loss=losses.sparse_categorical_crossentropy,\n",
    "        metrics=[metrics.SparseCategoricalAccuracy()]\n",
    "    )\n",
    "    return model\n",
    "\n",
    "\n",
    "stacked_bidirectional_lstm_model = get_stacked_bidirectional_lstm_model()\n",
    "stacked_bidirectional_lstm_model_history = stacked_bidirectional_lstm_model.fit(\n",
    "    x=train_x, y=train_y, validation_data=(val_x, val_y), epochs=32, callbacks=[early_stopping_callback])\n",
    "plot_history('Stacked Bidirectional LSTM Model', stacked_bidirectional_lstm_model_history)"
   ]
  },
  {
   "cell_type": "code",
   "execution_count": null,
   "metadata": {},
   "outputs": [],
   "source": []
  }
 ],
 "metadata": {
  "interpreter": {
   "hash": "c5e48f84046969b800ff52f6d80523bcd1ca3fb1a99f1449e4197bf6c73dc096"
  },
  "kernelspec": {
   "display_name": "Python 3.9.7 64-bit ('base': conda)",
   "language": "python",
   "name": "python3"
  },
  "language_info": {
   "codemirror_mode": {
    "name": "ipython",
    "version": 3
   },
   "file_extension": ".py",
   "mimetype": "text/x-python",
   "name": "python",
   "nbconvert_exporter": "python",
   "pygments_lexer": "ipython3",
   "version": "3.9.7"
  },
  "orig_nbformat": 4
 },
 "nbformat": 4,
 "nbformat_minor": 2
}